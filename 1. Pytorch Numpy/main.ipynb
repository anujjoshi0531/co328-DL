{
 "cells": [
  {
   "cell_type": "markdown",
   "id": "4a09e691",
   "metadata": {},
   "source": [
    "# Fundamentals of Tensor Operations using PyTorch and NumPy\n",
    "\n",
    "This notebook demonstrates basic tensor operations using both **PyTorch** and **NumPy**."
   ]
  },
  {
   "cell_type": "code",
   "execution_count": 1,
   "id": "d4542bde",
   "metadata": {},
   "outputs": [],
   "source": [
    "import torch\n",
    "import numpy as np\n"
   ]
  },
  {
   "cell_type": "markdown",
   "id": "0e99ed2a",
   "metadata": {},
   "source": [
    "## 1. Creating 1D, 2D, and 3D Tensors"
   ]
  },
  {
   "cell_type": "code",
   "execution_count": 2,
   "id": "df8a99eb",
   "metadata": {},
   "outputs": [
    {
     "name": "stdout",
     "output_type": "stream",
     "text": [
      "PyTorch Tensors:\n",
      "tensor([1, 2, 3])\n",
      "tensor([[1, 2],\n",
      "        [3, 4]])\n",
      "tensor([[[1, 2],\n",
      "         [3, 4]],\n",
      "\n",
      "        [[5, 6],\n",
      "         [7, 8]]])\n",
      "\n",
      "NumPy Arrays:\n",
      "[1 2 3]\n",
      "[[1 2]\n",
      " [3 4]]\n",
      "[[[1 2]\n",
      "  [3 4]]\n",
      "\n",
      " [[5 6]\n",
      "  [7 8]]]\n"
     ]
    }
   ],
   "source": [
    "# PyTorch\n",
    "t1 = torch.tensor([1, 2, 3])\n",
    "t2 = torch.tensor([[1, 2], [3, 4]])\n",
    "t3 = torch.tensor([[[1, 2], [3, 4]], [[5, 6], [7, 8]]])\n",
    "\n",
    "# NumPy\n",
    "n1 = np.array([1, 2, 3])\n",
    "n2 = np.array([[1, 2], [3, 4]])\n",
    "n3 = np.array([[[1, 2], [3, 4]], [[5, 6], [7, 8]]])\n",
    "\n",
    "print(\"PyTorch Tensors:\", t1, t2, t3, sep=\"\\n\")\n",
    "print(\"\\nNumPy Arrays:\", n1, n2, n3, sep=\"\\n\")"
   ]
  },
  {
   "cell_type": "markdown",
   "id": "97e9ecad",
   "metadata": {},
   "source": [
    "## 2. Element-wise Addition, Subtraction, Multiplication, and Division"
   ]
  },
  {
   "cell_type": "code",
   "execution_count": 3,
   "id": "c2108c33",
   "metadata": {},
   "outputs": [
    {
     "name": "stdout",
     "output_type": "stream",
     "text": [
      "Addition: tensor([5., 7., 9.])\n",
      "Subtraction: tensor([-3., -3., -3.])\n",
      "Multiplication: tensor([ 4., 10., 18.])\n",
      "Division: tensor([0.2500, 0.4000, 0.5000])\n",
      "\n",
      "NumPy Addition: [5. 7. 9.]\n",
      "NumPy Subtraction: [-3. -3. -3.]\n",
      "NumPy Multiplication: [ 4. 10. 18.]\n",
      "NumPy Division: [0.25 0.4  0.5 ]\n"
     ]
    }
   ],
   "source": [
    "a = torch.tensor([1.0, 2.0, 3.0])\n",
    "b = torch.tensor([4.0, 5.0, 6.0])\n",
    "\n",
    "print(\"Addition:\", a + b)\n",
    "print(\"Subtraction:\", a - b)\n",
    "print(\"Multiplication:\", a * b)\n",
    "print(\"Division:\", a / b)\n",
    "\n",
    "# NumPy\n",
    "na = np.array([1.0, 2.0, 3.0])\n",
    "nb = np.array([4.0, 5.0, 6.0])\n",
    "\n",
    "print(\"\\nNumPy Addition:\", na + nb)\n",
    "print(\"NumPy Subtraction:\", na - nb)\n",
    "print(\"NumPy Multiplication:\", na * nb)\n",
    "print(\"NumPy Division:\", na / nb)"
   ]
  },
  {
   "cell_type": "markdown",
   "id": "c1e2a9b6",
   "metadata": {},
   "source": [
    "## 3. Dot Product and Matrix Multiplication"
   ]
  },
  {
   "cell_type": "code",
   "execution_count": 4,
   "id": "44ec34db",
   "metadata": {},
   "outputs": [
    {
     "name": "stdout",
     "output_type": "stream",
     "text": [
      "Matrix Multiplication: tensor([[19, 22],\n",
      "        [43, 50]])\n",
      "Dot Product (flattened): tensor(70)\n",
      "\n",
      "NumPy Matrix Multiplication: [[19 22]\n",
      " [43 50]]\n",
      "NumPy Dot Product (flattened): 70\n"
     ]
    }
   ],
   "source": [
    "x = torch.tensor([[1, 2], [3, 4]])\n",
    "y = torch.tensor([[5, 6], [7, 8]])\n",
    "\n",
    "print(\"Matrix Multiplication:\", torch.matmul(x, y))\n",
    "print(\"Dot Product (flattened):\", torch.dot(torch.flatten(x), torch.flatten(y)))\n",
    "\n",
    "# NumPy\n",
    "nx = np.array([[1, 2], [3, 4]])\n",
    "ny = np.array([[5, 6], [7, 8]])\n",
    "\n",
    "print(\"\\nNumPy Matrix Multiplication:\", np.matmul(nx, ny))\n",
    "print(\"NumPy Dot Product (flattened):\", np.dot(nx.flatten(), ny.flatten()))"
   ]
  },
  {
   "cell_type": "markdown",
   "id": "862c790c",
   "metadata": {},
   "source": [
    "## 4. Indexing and Slicing"
   ]
  },
  {
   "cell_type": "code",
   "execution_count": 5,
   "id": "3b469c98",
   "metadata": {},
   "outputs": [
    {
     "name": "stdout",
     "output_type": "stream",
     "text": [
      "Original Tensor: tensor([[10, 20, 30],\n",
      "        [40, 50, 60]])\n",
      "First row: tensor([10, 20, 30])\n",
      "Element at (1,2): tensor(60)\n",
      "Boolean Masking: tensor([40, 50, 60])\n",
      "\n",
      "NumPy Boolean Masking: [40 50 60]\n"
     ]
    }
   ],
   "source": [
    "\n",
    "t = torch.tensor([[10, 20, 30], [40, 50, 60]])\n",
    "print(\"Original Tensor:\", t)\n",
    "print(\"First row:\", t[0])\n",
    "print(\"Element at (1,2):\", t[1,2])\n",
    "print(\"Boolean Masking:\", t[t > 30])\n",
    "\n",
    "# NumPy\n",
    "nt = np.array([[10, 20, 30], [40, 50, 60]])\n",
    "print(\"\\nNumPy Boolean Masking:\", nt[nt > 30])\n"
   ]
  },
  {
   "cell_type": "markdown",
   "id": "c76561c3",
   "metadata": {},
   "source": [
    "## 5. Reshaping: view(), reshape(), unsqueeze(), and squeeze() in PyTorch vs NumPy reshape"
   ]
  },
  {
   "cell_type": "code",
   "execution_count": 6,
   "id": "92b3922c",
   "metadata": {},
   "outputs": [
    {
     "name": "stdout",
     "output_type": "stream",
     "text": [
      "View: tensor([[1, 2, 3],\n",
      "        [4, 5, 6]])\n",
      "Reshape: tensor([[1, 2, 3],\n",
      "        [4, 5, 6]])\n",
      "Unsqueeze (add dim at 0): tensor([[[1, 2],\n",
      "         [3, 4],\n",
      "         [5, 6]]])\n",
      "Squeeze (remove dim): tensor([[1, 2],\n",
      "        [3, 4],\n",
      "        [5, 6]])\n",
      "\n",
      "NumPy Reshape: [[1 2 3]\n",
      " [4 5 6]]\n"
     ]
    }
   ],
   "source": [
    "p = torch.tensor([[1, 2], [3, 4], [5, 6]])\n",
    "\n",
    "print(\"View:\", p.view(2, 3))\n",
    "print(\"Reshape:\", p.reshape(2, 3))\n",
    "print(\"Unsqueeze (add dim at 0):\", p.unsqueeze(0))\n",
    "print(\"Squeeze (remove dim):\", p.unsqueeze(0).squeeze())\n",
    "\n",
    "# NumPy reshape\n",
    "np_arr = np.array([[1, 2], [3, 4], [5, 6]])\n",
    "print(\"\\nNumPy Reshape:\", np_arr.reshape(2, 3))"
   ]
  },
  {
   "cell_type": "markdown",
   "id": "7d1d617b",
   "metadata": {},
   "source": [
    "## 6. Broadcasting"
   ]
  },
  {
   "cell_type": "code",
   "execution_count": 7,
   "id": "fb40f15b",
   "metadata": {},
   "outputs": [
    {
     "name": "stdout",
     "output_type": "stream",
     "text": [
      "Broadcasted addition: tensor([[11, 21, 31],\n",
      "        [12, 22, 32],\n",
      "        [13, 23, 33]])\n",
      "NumPy Broadcasted addition: [[11 21 31]\n",
      " [12 22 32]\n",
      " [13 23 33]]\n"
     ]
    }
   ],
   "source": [
    "a = torch.tensor([[1], [2], [3]])\n",
    "b = torch.tensor([10, 20, 30])\n",
    "print(\"Broadcasted addition:\", a + b)\n",
    "\n",
    "# NumPy\n",
    "na = np.array([[1], [2], [3]])\n",
    "nb = np.array([10, 20, 30])\n",
    "print(\"NumPy Broadcasted addition:\", na + nb)\n"
   ]
  },
  {
   "cell_type": "markdown",
   "id": "62dd5b13",
   "metadata": {},
   "source": [
    "## 7. In-place vs Out-of-place Operations"
   ]
  },
  {
   "cell_type": "code",
   "execution_count": 8,
   "id": "1e164513",
   "metadata": {},
   "outputs": [
    {
     "name": "stdout",
     "output_type": "stream",
     "text": [
      "Original a: tensor([1., 2., 3.])\n",
      "Out-of-place a + 1: tensor([2., 3., 4.])\n",
      "In-place a.add_(1): tensor([2., 3., 4.])\n"
     ]
    }
   ],
   "source": [
    "a = torch.tensor([1.0, 2.0, 3.0])\n",
    "b = a.clone()\n",
    "\n",
    "# Out-of-place\n",
    "c = a + 1\n",
    "print(\"Original a:\", a)\n",
    "print(\"Out-of-place a + 1:\", c)\n",
    "\n",
    "# In-place (modifies a)\n",
    "a.add_(1)\n",
    "print(\"In-place a.add_(1):\", a)"
   ]
  }
 ],
 "metadata": {
  "kernelspec": {
   "display_name": "Python 3",
   "language": "python",
   "name": "python3"
  },
  "language_info": {
   "codemirror_mode": {
    "name": "ipython",
    "version": 3
   },
   "file_extension": ".py",
   "mimetype": "text/x-python",
   "name": "python",
   "nbconvert_exporter": "python",
   "pygments_lexer": "ipython3",
   "version": "3.11.5"
  }
 },
 "nbformat": 4,
 "nbformat_minor": 5
}
