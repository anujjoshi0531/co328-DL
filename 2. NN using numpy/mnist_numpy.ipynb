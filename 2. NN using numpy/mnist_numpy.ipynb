{
  "cells": [
    {
      "cell_type": "code",
      "execution_count": 1,
      "metadata": {
        "id": "1mF69IIm5q72"
      },
      "outputs": [],
      "source": [
        "import numpy as np\n",
        "import pickle\n",
        "import os\n",
        "import time\n",
        "\n",
        "import matplotlib.pyplot as plt\n",
        "%matplotlib inline"
      ]
    },
    {
      "cell_type": "code",
      "execution_count": 2,
      "metadata": {
        "id": "zWJfYW7p8Mvu"
      },
      "outputs": [],
      "source": [
        "class Layer:\n",
        "    def __init__(self, input_size, output_size, activation_name='relu'):\n",
        "        self.input_size = input_size\n",
        "        self.output_size = output_size\n",
        "        self.activation_name = activation_name\n",
        "        \n",
        "        if activation_name=='relu' or activation_name==\"leaky_relu\":\n",
        "            # He initialisation\n",
        "            self.weights = np.random.randn(output_size, input_size) * np.sqrt(2.0 / (input_size))\n",
        "        else:\n",
        "            # Xavier/Glorot initialization\n",
        "            self.weights = np.random.randn(output_size, input_size) * np.sqrt(2.0 / (input_size + output_size))\n",
        "        self.biases = np.zeros((output_size, 1))\n",
        "    \n",
        "    def get_params(self):\n",
        "        return self.weights.size + self.biases.size"
      ]
    },
    {
      "cell_type": "code",
      "execution_count": 3,
      "metadata": {},
      "outputs": [],
      "source": [
        "class NN:\n",
        "    def __init__(self, learning_rate=0.01, epochs=200):\n",
        "        self.layers = []\n",
        "        self.lr = learning_rate\n",
        "        self.epochs = epochs\n",
        "        \n",
        "    def add(self, layer):\n",
        "        self.layers.append(layer)\n",
        "    \n",
        "    def _get_activation(self, name):\n",
        "        def linear(x, derivative=False):\n",
        "            return 1 if derivative else x\n",
        "               \n",
        "        def relu(x, derivative=False):\n",
        "            return np.where(x > 0, 1, 0) if derivative else np.maximum(0, x)\n",
        "        \n",
        "        def tanh(x, derivative=False):\n",
        "            return np.tanh(x) if not derivative else 1 - np.tanh(x)**2\n",
        "        \n",
        "        def leaky_relu(x, alpha=0.01, derivative=False):\n",
        "            return np.where(x >= 0, x, alpha * x) if not derivative else np.where(x >= 0, 1, alpha)\n",
        "        \n",
        "        def sigmoid(x, derivative=False):\n",
        "            clipped_x = np.clip(x, -500, 500)\n",
        "            if derivative:\n",
        "                sigmoid_x = 1 / (1 + np.exp(-clipped_x))\n",
        "                return sigmoid_x * (1 - sigmoid_x)\n",
        "            return 1 / (1 + np.exp(-clipped_x))\n",
        "        \n",
        "        def softmax(x, derivative=False):\n",
        "            if derivative:\n",
        "                return x * (1 - x)\n",
        "            exp_x = np.exp(x - np.max(x, axis=0, keepdims=True))\n",
        "            return exp_x / np.sum(exp_x, axis=0, keepdims=True)\n",
        "\n",
        "        match name.lower():\n",
        "            case 'linear': return linear\n",
        "            case 'relu': return relu\n",
        "            case 'tanh': return tanh\n",
        "            case 'leaky_relu': return leaky_relu\n",
        "            case 'sigmoid': return sigmoid\n",
        "            case 'softmax': return softmax\n",
        "            case _: return linear\n",
        "            \n",
        "    def summary(self):\n",
        "        print(\"Model Summary:\")\n",
        "        print(\"---------------\")\n",
        "        total_params = 0\n",
        "        print(f\"{'Layer (type)':<20}{'Output Shape':<20}{'Param #':<10}\")\n",
        "        print(\"=\"*50)\n",
        "        \n",
        "        for i, layer in enumerate(self.layers):\n",
        "            print(f\"{f'Layer {i}':<20}{f'({layer.output_size},)':<20}{layer.get_params():<10}\")\n",
        "            total_params += layer.get_params()\n",
        "        \n",
        "        print(\"=\"*50)\n",
        "        print(f\"Total params: {total_params}\")\n",
        "    \n",
        "    def forward_pass(self, X):\n",
        "        activations = [X]\n",
        "        z_values = []\n",
        "        \n",
        "        for i, layer in enumerate(self.layers):\n",
        "            z = np.dot(layer.weights, activations[-1]) + layer.biases\n",
        "            z_values.append(z)\n",
        "            a = self._get_activation(layer.activation_name)(z)        \n",
        "            activations.append(a)\n",
        "        \n",
        "        return activations, z_values\n",
        "    \n",
        "    def backward_pass(self, X, y, activations, z_values):\n",
        "        m = X.shape[1]\n",
        "        dW = []\n",
        "        db = []\n",
        "        \n",
        "        # Prepare labels based on last layer activation\n",
        "        last_activation = self.layers[-1].activation_name\n",
        "        if last_activation == 'softmax':\n",
        "            y_encoded = np.zeros_like(activations[-1])\n",
        "            for i in range(m):\n",
        "                y_encoded[y[i], i] = 1\n",
        "            dZ = activations[-1] - y_encoded\n",
        "        else:  # sigmoid (binary classification)\n",
        "            dZ = activations[-1] - y.reshape(1, -1)\n",
        "        \n",
        "        for i in range(len(self.layers) - 1, -1, -1):\n",
        "            # Compute gradients\n",
        "            dW.insert(0, np.dot(dZ, activations[i].T) / m)\n",
        "            db.insert(0, np.sum(dZ, axis=1, keepdims=True) / m)\n",
        "            \n",
        "            # Compute gradient for next layer if not input layer\n",
        "            if i > 0:\n",
        "                activation_derivative = self._get_activation(self.layers[i-1].activation_name)\n",
        "                dZ = np.dot(self.layers[i].weights.T, dZ) * activation_derivative(z_values[i-1], derivative=True)\n",
        "        \n",
        "        return dW, db\n",
        "    \n",
        "    def train(self, X, y, verbose=False, freq=100):\n",
        "        freq = max(freq, 1)\n",
        "        losses = []\n",
        "        last_activation = self.layers[-1].activation_name\n",
        "        start = time.time()\n",
        "        \n",
        "        for epoch in range(self.epochs):\n",
        "            # Forward pass\n",
        "            activations, z_values = self.forward_pass(X)\n",
        "            \n",
        "            # Compute loss based on last layer activation\n",
        "            if last_activation == 'softmax':\n",
        "                y_encoded = np.zeros_like(activations[-1])\n",
        "                for i in range(X.shape[1]):\n",
        "                    y_encoded[y[i], i] = 1\n",
        "                loss = -np.sum(y_encoded * np.log(activations[-1] + 1e-15)) / X.shape[1]\n",
        "            else:  # sigmoid (binary cross-entropy)\n",
        "                loss = -np.mean(y * np.log(activations[-1] + 1e-15) + \n",
        "                                (1 - y) * np.log(1 - activations[-1] + 1e-15))\n",
        "            \n",
        "            losses.append(loss)\n",
        "            \n",
        "            # Backward pass\n",
        "            dW, db = self.backward_pass(X, y, activations, z_values)\n",
        "            \n",
        "            # Update parameters\n",
        "            for i in range(len(self.layers)):\n",
        "                self.layers[i].weights -= self.lr * dW[i]\n",
        "                self.layers[i].biases -= self.lr * db[i]\n",
        "            \n",
        "            # Print loss periodically\n",
        "            if verbose or epoch % freq == 0:\n",
        "                print(f\"Epoch {epoch}, Loss: {loss:.4f}, Time: {time.time()-start:.2f}\")\n",
        "                start = time.time()\n",
        "        \n",
        "        return losses\n",
        "    \n",
        "    def predict(self, X):\n",
        "        activations, _ = self.forward_pass(X)\n",
        "        last_activation = self.layers[-1].activation_name\n",
        "        \n",
        "        if last_activation == 'softmax':\n",
        "            return np.argmax(activations[-1], axis=0)\n",
        "        else:  # sigmoid\n",
        "            return (activations[-1] > 0.5).astype(int)\n",
        "        \n",
        "    def save_model(self, filepath):\n",
        "        model_data = {\n",
        "            'layers': [(layer.input_size, layer.output_size, layer.activation_name) for layer in self.layers],\n",
        "            'weights': [layer.weights for layer in self.layers],\n",
        "            'biases': [layer.biases for layer in self.layers],\n",
        "            'learning_rate': self.lr,\n",
        "            'epochs': self.epochs\n",
        "        }\n",
        "        \n",
        "        with open(filepath, 'wb') as f:\n",
        "            pickle.dump(model_data, f)\n",
        "        print(f\"Model saved to {filepath}\")\n",
        "    \n",
        "    def load_model(self, filepath):\n",
        "        if not os.path.exists(filepath):\n",
        "            raise FileNotFoundError(f\"Model file {filepath} not found\")\n",
        "        \n",
        "        with open(filepath, 'rb') as f:\n",
        "            model_data = pickle.load(f)\n",
        "        \n",
        "        # Reset layers and reconstruct network\n",
        "        self.layers = []\n",
        "        for input_size, output_size, activation_name in model_data['layers']:\n",
        "            layer = Layer(input_size, output_size, activation_name)\n",
        "            self.layers.append(layer)\n",
        "        \n",
        "        # Restore weights and biases\n",
        "        for i, (layer, weights, biases) in enumerate(zip(self.layers, model_data['weights'], model_data['biases'])):\n",
        "            layer.weights = weights\n",
        "            layer.biases = biases\n",
        "        \n",
        "        # Restore other parameters\n",
        "        self.lr = model_data['learning_rate']\n",
        "        self.epochs = model_data['epochs']\n",
        "        \n",
        "        print(f\"Model loaded from {filepath}\")\n",
        "        return self"
      ]
    },
    {
      "cell_type": "code",
      "execution_count": 4,
      "metadata": {
        "id": "SwZDIrfpAle_"
      },
      "outputs": [],
      "source": [
        "def mnist_to_csv(imgf, labelf, outf, n=1000):\n",
        "    \"\"\"\n",
        "    Converts MNIST image and label files to a CSV format.\n",
        "    \n",
        "    Args:\n",
        "        imgf (str): Path to the image file.\n",
        "        labelf (str): Path to the label file.\n",
        "        outf (str): Path to the output CSV file.\n",
        "        n (int): Number of images to process (default: 1000).\n",
        "    \"\"\"\n",
        "    with open(imgf, \"rb\") as f, open(labelf, \"rb\") as l, open(outf, \"w\") as o:\n",
        "        # Skip header information\n",
        "        f.read(16)\n",
        "        l.read(8)\n",
        "        \n",
        "        for _ in range(n):\n",
        "            label = l.read(1)[0]  # label\n",
        "            pixels = f.read(28 * 28)  # 28x28 pixels = 784 inputs\n",
        "            o.write(f\"{label},\" + \",\".join(map(str, pixels)) + \"\\n\")\n"
      ]
    },
    {
      "cell_type": "code",
      "execution_count": null,
      "metadata": {},
      "outputs": [],
      "source": [
        "mnist_to_csv(\"./mnist/train-images.idx3-ubyte\", \"./mnist/train-labels.idx1-ubyte\", \"./dataset/train.csv\",  60000)\n",
        "mnist_to_csv(\"./mnist/t10k-images.idx3-ubyte\", \"./mnist/t10k-labels.idx1-ubyte\", \"./dataset/test.csv\", 10000)\n",
        "\n",
        "# Load the CSV data using numpy\n",
        "train = np.loadtxt('./dataset/train.csv', delimiter=',')\n",
        "test = np.loadtxt('./dataset/test.csv', delimiter=',')"
      ]
    },
    {
      "cell_type": "code",
      "execution_count": null,
      "metadata": {},
      "outputs": [],
      "source": [
        "# Data Preprocessing\n",
        "X_train = train.iloc[:, 1:].values.T / 255.0\n",
        "Y_train = train.iloc[:, 0].values\n",
        "\n",
        "X_test = test.iloc[:, 1:].values.T /255.0 \n",
        "Y_test = test.iloc[:, 0].values"
      ]
    },
    {
      "cell_type": "code",
      "execution_count": 7,
      "metadata": {
        "id": "iyxw-RJqDBJ-"
      },
      "outputs": [
        {
          "name": "stdout",
          "output_type": "stream",
          "text": [
            "Model Summary:\n",
            "---------------\n",
            "Layer (type)        Output Shape        Param #   \n",
            "==================================================\n",
            "Layer 0             (128,)              100480    \n",
            "Layer 1             (64,)               8256      \n",
            "Layer 2             (10,)               650       \n",
            "==================================================\n",
            "Total params: 109386\n"
          ]
        }
      ],
      "source": [
        "# Create neural network\n",
        "model = NN(learning_rate=0.01, epochs=1000)\n",
        "\n",
        "# Add layers\n",
        "model.add(Layer(784, 128, 'relu'))\n",
        "model.add(Layer(128, 64, 'relu'))\n",
        "model.add(Layer(64, 10, 'softmax'))\n",
        "\n",
        "# Display model summary\n",
        "model.summary()"
      ]
    },
    {
      "cell_type": "code",
      "execution_count": 8,
      "metadata": {},
      "outputs": [
        {
          "name": "stdout",
          "output_type": "stream",
          "text": [
            "Epoch 0, Loss: 2.3433, Time: 0.78\n",
            "Epoch 100, Loss: 1.6053, Time: 70.66\n",
            "Epoch 200, Loss: 1.1167, Time: 74.89\n",
            "Epoch 300, Loss: 0.8385, Time: 68.29\n",
            "Epoch 400, Loss: 0.6846, Time: 81.32\n",
            "Epoch 500, Loss: 0.5913, Time: 75.55\n",
            "Epoch 600, Loss: 0.5295, Time: 70.76\n",
            "Epoch 700, Loss: 0.4856, Time: 64.56\n",
            "Epoch 800, Loss: 0.4528, Time: 87.23\n",
            "Epoch 900, Loss: 0.4274, Time: 84.30\n"
          ]
        }
      ],
      "source": [
        "# Train the model\n",
        "losses = model.train(X_train, Y_train)"
      ]
    },
    {
      "cell_type": "code",
      "execution_count": 9,
      "metadata": {},
      "outputs": [
        {
          "data": {
            "text/plain": [
              "Text(0, 0.5, 'Loss')"
            ]
          },
          "execution_count": 9,
          "metadata": {},
          "output_type": "execute_result"
        },
        {
          "data": {
            "image/png": "[encoded data removed]",
            "text/plain": [
              "<Figure size 640x480 with 1 Axes>"
            ]
          },
          "metadata": {},
          "output_type": "display_data"
        }
      ],
      "source": [
        "# Plot the training loss\n",
        "plt.plot(losses)\n",
        "plt.title('Training Loss')\n",
        "plt.xlabel('Epoch')\n",
        "plt.ylabel('Loss')"
      ]
    },
    {
      "cell_type": "code",
      "execution_count": 10,
      "metadata": {},
      "outputs": [
        {
          "data": {
            "text/plain": [
              "Text(0.5, 1.0, 'Test Accuracy: 89.47%')"
            ]
          },
          "execution_count": 10,
          "metadata": {},
          "output_type": "execute_result"
        },
        {
          "data": {
            "image/png": "[encoded data removed]",
            "text/plain": [
              "<Figure size 640x480 with 1 Axes>"
            ]
          },
          "metadata": {},
          "output_type": "display_data"
        }
      ],
      "source": [
        "# Model Accuracy\n",
        "predictions = model.predict(X_test)\n",
        "overall_accuracy = np.mean(predictions == Y_test)\n",
        "\n",
        "unique_classes = np.unique(Y_test)\n",
        "class_accuracies = []\n",
        "\n",
        "for cls in unique_classes:\n",
        "    cls_predictions = predictions[Y_test == cls]\n",
        "    class_accuracies.append(np.mean(cls_predictions == cls))\n",
        "\n",
        "plt.bar(unique_classes, class_accuracies)\n",
        "plt.xlabel('Class')\n",
        "plt.ylabel('Accuracy')\n",
        "plt.xticks(unique_classes)\n",
        "plt.title(f\"Test Accuracy: {overall_accuracy * 100:.2f}%\")"
      ]
    },
    {
      "cell_type": "code",
      "execution_count": 67,
      "metadata": {},
      "outputs": [
        {
          "name": "stdout",
          "output_type": "stream",
          "text": [
            "Model saved to ./results/models/doubleLayer.pkl\n"
          ]
        }
      ],
      "source": [
        "model.save_model('./results/models/doubleLayer.pkl')"
      ]
    },
    {
      "cell_type": "code",
      "execution_count": null,
      "metadata": {},
      "outputs": [],
      "source": []
    }
  ],
  "metadata": {
    "accelerator": "GPU",
    "colab": {
      "gpuType": "T4",
      "provenance": [],
      "toc_visible": true
    },
    "kernelspec": {
      "display_name": "Python 3",
      "name": "python3"
    },
    "language_info": {
      "codemirror_mode": {
        "name": "ipython",
        "version": 3
      },
      "file_extension": ".py",
      "mimetype": "text/x-python",
      "name": "python",
      "nbconvert_exporter": "python",
      "pygments_lexer": "ipython3",
      "version": "3.11.5"
    }
  },
  "nbformat": 4,
  "nbformat_minor": 0
}
