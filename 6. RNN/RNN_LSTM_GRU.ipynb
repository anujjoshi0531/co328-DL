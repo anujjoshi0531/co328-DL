{
  "nbformat": 4,
  "nbformat_minor": 0,
  "metadata": {
    "colab": {
      "provenance": [],
      "gpuType": "T4"
    },
    "kernelspec": {
      "name": "python3",
      "display_name": "Python 3"
    },
    "language_info": {
      "name": "python"
    },
    "accelerator": "GPU"
  },
  "cells": [
    {
      "cell_type": "code",
      "source": [
        "import torch\n",
        "import torch.nn as nn\n",
        "import torch.nn.functional as F\n",
        "import torch.optim as optim\n",
        "import numpy as np\n",
        "import re\n",
        "import pandas as pd\n",
        "import matplotlib.pyplot as plt\n",
        "from torch.utils.data import Dataset, DataLoader\n",
        "from sklearn.model_selection import train_test_split\n",
        "import time\n",
        "import os\n",
        "import json\n",
        "from tqdm import tqdm"
      ],
      "metadata": {
        "id": "Op8TmX_k7eMG"
      },
      "execution_count": 17,
      "outputs": []
    },
    {
      "cell_type": "code",
      "source": [
        "torch.manual_seed(42)\n",
        "np.random.seed(42)"
      ],
      "metadata": {
        "id": "kheXB31w7eH-"
      },
      "execution_count": 18,
      "outputs": []
    },
    {
      "cell_type": "code",
      "source": [
        "device = torch.device(\"cuda\" if torch.cuda.is_available() else \"cpu\")\n",
        "print(f\"Using device: {device}\")"
      ],
      "metadata": {
        "colab": {
          "base_uri": "https://localhost:8080/",
          "height": 0
        },
        "id": "NtSzPbzs7h16",
        "outputId": "da850de7-d519-4ee9-e055-1eba741ae84f"
      },
      "execution_count": 19,
      "outputs": [
        {
          "output_type": "stream",
          "name": "stdout",
          "text": [
            "Using device: cuda\n"
          ]
        }
      ]
    },
    {
      "cell_type": "markdown",
      "source": [
        "# ========== 1. MODEL DEFINITIONS ==========\n"
      ],
      "metadata": {
        "id": "S1Ujhqce7jiL"
      }
    },
    {
      "cell_type": "code",
      "source": [
        "class RNNOneHot(nn.Module):\n",
        "    \"\"\"Simple RNN model using one-hot encoding\"\"\"\n",
        "    def __init__(self, vocab_size, hidden_size, num_layers, dropout=0.2):\n",
        "        super(RNNOneHot, self).__init__()\n",
        "        self.vocab_size = vocab_size\n",
        "        self.hidden_size = hidden_size\n",
        "        self.num_layers = num_layers\n",
        "\n",
        "        self.rnn = nn.RNN(vocab_size, hidden_size, num_layers,\n",
        "                         batch_first=True, dropout=dropout if num_layers > 1 else 0)\n",
        "        self.dropout = nn.Dropout(dropout)\n",
        "        self.fc = nn.Linear(hidden_size, vocab_size)\n",
        "\n",
        "    def forward(self, x, hidden=None):\n",
        "        # Convert indices to one-hot vectors\n",
        "        batch_size, seq_len = x.size()\n",
        "        one_hot = torch.zeros(batch_size, seq_len, self.vocab_size, device=device)\n",
        "        one_hot.scatter_(2, x.unsqueeze(2), 1)\n",
        "\n",
        "        # Initialize hidden state if not provided\n",
        "        if hidden is None:\n",
        "            hidden = self.init_hidden(batch_size)\n",
        "\n",
        "        out, hidden = self.rnn(one_hot, hidden)\n",
        "        out = self.dropout(out)\n",
        "        out = self.fc(out)\n",
        "        return out, hidden\n",
        "\n",
        "    def init_hidden(self, batch_size):\n",
        "        return torch.zeros(self.num_layers, batch_size, self.hidden_size, device=device)\n",
        "\n",
        "class RNNEmbedding(nn.Module):\n",
        "    \"\"\"RNN model using word embeddings\"\"\"\n",
        "    def __init__(self, vocab_size, embed_size, hidden_size, num_layers, dropout=0.2):\n",
        "        super(RNNEmbedding, self).__init__()\n",
        "        self.embedding = nn.Embedding(vocab_size, embed_size)\n",
        "        self.rnn = nn.RNN(embed_size, hidden_size, num_layers,\n",
        "                         batch_first=True, dropout=dropout if num_layers > 1 else 0)\n",
        "        self.dropout = nn.Dropout(dropout)\n",
        "        self.fc = nn.Linear(hidden_size, vocab_size)\n",
        "        self.hidden_size = hidden_size\n",
        "        self.num_layers = num_layers\n",
        "\n",
        "    def forward(self, x, hidden=None):\n",
        "        # Initialize hidden state if not provided\n",
        "        if hidden is None:\n",
        "            hidden = self.init_hidden(x.size(0))\n",
        "\n",
        "        x = self.embedding(x)\n",
        "        x = self.dropout(x)\n",
        "        out, hidden = self.rnn(x, hidden)\n",
        "        out = self.dropout(out)\n",
        "        out = self.fc(out)\n",
        "        return out, hidden\n",
        "\n",
        "    def init_hidden(self, batch_size):\n",
        "        return torch.zeros(self.num_layers, batch_size, self.hidden_size, device=device)\n",
        "\n",
        "\n",
        "class LSTMOneHot(nn.Module):\n",
        "    \"\"\"LSTM model using one-hot encoding\"\"\"\n",
        "    def __init__(self, vocab_size, hidden_size, num_layers, dropout=0.2):\n",
        "        super(LSTMOneHot, self).__init__()\n",
        "        self.vocab_size = vocab_size\n",
        "        self.hidden_size = hidden_size\n",
        "        self.num_layers = num_layers\n",
        "\n",
        "        self.lstm = nn.LSTM(vocab_size, hidden_size, num_layers,\n",
        "                           batch_first=True, dropout=dropout if num_layers > 1 else 0)\n",
        "        self.dropout = nn.Dropout(dropout)\n",
        "        self.fc = nn.Linear(hidden_size, vocab_size)\n",
        "\n",
        "    def forward(self, x, hidden=None):\n",
        "        # Convert indices to one-hot vectors\n",
        "        batch_size, seq_len = x.size()\n",
        "        one_hot = torch.zeros(batch_size, seq_len, self.vocab_size, device=device)\n",
        "        one_hot.scatter_(2, x.unsqueeze(2), 1)\n",
        "\n",
        "        # Initialize hidden state if not provided\n",
        "        if hidden is None:\n",
        "            hidden = self.init_hidden(batch_size)\n",
        "\n",
        "        out, hidden = self.lstm(one_hot, hidden)\n",
        "        out = self.dropout(out)\n",
        "        out = self.fc(out)\n",
        "        return out, hidden\n",
        "\n",
        "    def init_hidden(self, batch_size):\n",
        "        return (torch.zeros(self.num_layers, batch_size, self.hidden_size, device=device),\n",
        "                torch.zeros(self.num_layers, batch_size, self.hidden_size, device=device))\n",
        "\n",
        "\n",
        "class LSTMEmbedding(nn.Module):\n",
        "    \"\"\"LSTM model using word embeddings\"\"\"\n",
        "    def __init__(self, vocab_size, embed_size, hidden_size, num_layers, dropout=0.2):\n",
        "        super(LSTMEmbedding, self).__init__()\n",
        "        self.embedding = nn.Embedding(vocab_size, embed_size)\n",
        "        self.lstm = nn.LSTM(embed_size, hidden_size, num_layers,\n",
        "                           batch_first=True, dropout=dropout if num_layers > 1 else 0)\n",
        "        self.dropout = nn.Dropout(dropout)\n",
        "        self.fc = nn.Linear(hidden_size, vocab_size)\n",
        "        self.hidden_size = hidden_size\n",
        "        self.num_layers = num_layers\n",
        "\n",
        "    def forward(self, x, hidden=None):\n",
        "        # Initialize hidden state if not provided\n",
        "        if hidden is None:\n",
        "            hidden = self.init_hidden(x.size(0))\n",
        "\n",
        "        x = self.embedding(x)\n",
        "        x = self.dropout(x)\n",
        "        out, hidden = self.lstm(x, hidden)\n",
        "        out = self.dropout(out)\n",
        "        out = self.fc(out)\n",
        "        return out, hidden\n",
        "\n",
        "    def init_hidden(self, batch_size):\n",
        "        return (torch.zeros(self.num_layers, batch_size, self.hidden_size, device=device),\n",
        "                torch.zeros(self.num_layers, batch_size, self.hidden_size, device=device))\n",
        "\n",
        "\n",
        "class GRUOneHot(nn.Module):\n",
        "    \"\"\"GRU model using one-hot encoding\"\"\"\n",
        "    def __init__(self, vocab_size, hidden_size, num_layers, dropout=0.2):\n",
        "        super(GRUOneHot, self).__init__()\n",
        "        self.vocab_size = vocab_size\n",
        "        self.hidden_size = hidden_size\n",
        "        self.num_layers = num_layers\n",
        "\n",
        "        self.gru = nn.GRU(vocab_size, hidden_size, num_layers,\n",
        "                         batch_first=True, dropout=dropout if num_layers > 1 else 0)\n",
        "        self.dropout = nn.Dropout(dropout)\n",
        "        self.fc = nn.Linear(hidden_size, vocab_size)\n",
        "\n",
        "    def forward(self, x, hidden=None):\n",
        "        # Convert indices to one-hot vectors\n",
        "        batch_size, seq_len = x.size()\n",
        "        one_hot = torch.zeros(batch_size, seq_len, self.vocab_size, device=device)\n",
        "        one_hot.scatter_(2, x.unsqueeze(2), 1)\n",
        "\n",
        "        # Initialize hidden state if not provided\n",
        "        if hidden is None:\n",
        "            hidden = self.init_hidden(batch_size)\n",
        "\n",
        "        out, hidden = self.gru(one_hot, hidden)\n",
        "        out = self.dropout(out)\n",
        "        out = self.fc(out)\n",
        "        return out, hidden\n",
        "\n",
        "    def init_hidden(self, batch_size):\n",
        "        return torch.zeros(self.num_layers, batch_size, self.hidden_size, device=device)\n",
        "\n",
        "\n",
        "class GRUEmbedding(nn.Module):\n",
        "    \"\"\"GRU model using word embeddings\"\"\"\n",
        "    def __init__(self, vocab_size, embed_size, hidden_size, num_layers, dropout=0.2):\n",
        "        super(GRUEmbedding, self).__init__()\n",
        "        self.embedding = nn.Embedding(vocab_size, embed_size)\n",
        "        self.gru = nn.GRU(embed_size, hidden_size, num_layers,\n",
        "                         batch_first=True, dropout=dropout if num_layers > 1 else 0)\n",
        "        self.dropout = nn.Dropout(dropout)\n",
        "        self.fc = nn.Linear(hidden_size, vocab_size)\n",
        "        self.hidden_size = hidden_size\n",
        "        self.num_layers = num_layers\n",
        "\n",
        "    def forward(self, x, hidden=None):\n",
        "        # Initialize hidden state if not provided\n",
        "        if hidden is None:\n",
        "            hidden = self.init_hidden(x.size(0))\n",
        "\n",
        "        x = self.embedding(x)\n",
        "        x = self.dropout(x)\n",
        "        out, hidden = self.gru(x, hidden)\n",
        "        out = self.dropout(out)\n",
        "        out = self.fc(out)\n",
        "        return out, hidden\n",
        "\n",
        "    def init_hidden(self, batch_size):\n",
        "        return torch.zeros(self.num_layers, batch_size, self.hidden_size, device=device)"
      ],
      "metadata": {
        "id": "PTKAQgUs7i6s"
      },
      "execution_count": 20,
      "outputs": []
    },
    {
      "cell_type": "markdown",
      "source": [
        "# ========== 2. DATA PROCESSING =========="
      ],
      "metadata": {
        "id": "3bcIkjWI7tOo"
      }
    },
    {
      "cell_type": "code",
      "source": [
        "def preprocess_text(text):\n",
        "    \"\"\"Preprocess text with better tokenization and handling of special characters\"\"\"\n",
        "    # Convert to lowercase\n",
        "    text = text.lower()\n",
        "\n",
        "    # Preserve line breaks for poetry structure\n",
        "    text = text.replace('\\n', ' <linebreak> ')\n",
        "\n",
        "    # Separate punctuation from words but keep it\n",
        "    text = re.sub(r'([.,!?;:])', r' \\1 ', text)\n",
        "\n",
        "    # Remove other special characters\n",
        "    text = re.sub(r'[^a-zA-Z0-9\\s.,!?;:<>]', '', text)\n",
        "\n",
        "    # Remove extra spaces\n",
        "    text = re.sub(r'\\s+', ' ', text).strip()\n",
        "\n",
        "    # Tokenize\n",
        "    return text.split()\n",
        "\n",
        "def create_vocab(tokens_list, min_freq=2):\n",
        "    \"\"\"Create vocabulary with special tokens and frequency threshold\"\"\"\n",
        "    word_freq = {}\n",
        "    for tokens in tokens_list:\n",
        "        for word in tokens:\n",
        "            word_freq[word] = word_freq.get(word, 0) + 1\n",
        "\n",
        "    # Filter words by frequency\n",
        "    special_tokens = ['<pad>', '<unk>', '<sos>', '<eos>']\n",
        "    words = special_tokens + [word for word, freq in word_freq.items() if freq >= min_freq]\n",
        "\n",
        "    # Create mappings\n",
        "    word_to_idx = {word: idx for idx, word in enumerate(words)}\n",
        "    idx_to_word = {idx: word for word, idx in word_to_idx.items()}\n",
        "\n",
        "    return word_to_idx, idx_to_word\n",
        "\n",
        "def create_sequences(tokens, word_to_idx, seq_length):\n",
        "    \"\"\"Create input-target pairs for training\"\"\"\n",
        "    pad_idx = word_to_idx['<pad>']\n",
        "    unk_idx = word_to_idx['<unk>']\n",
        "\n",
        "    input_seqs, target_seqs = [], []\n",
        "\n",
        "    # Use sliding window approach for more training data\n",
        "    for i in range(0, len(tokens) - seq_length, 1):\n",
        "        # Input sequence\n",
        "        input_seq = [word_to_idx.get(t, unk_idx) for t in tokens[i:i+seq_length]]\n",
        "\n",
        "        # Target is the next word after each position in the input sequence\n",
        "        target_seq = [word_to_idx.get(tokens[min(i+j+1, len(tokens)-1)], unk_idx) for j in range(seq_length)]\n",
        "\n",
        "        input_seqs.append(input_seq)\n",
        "        target_seqs.append(target_seq)\n",
        "\n",
        "    return input_seqs, target_seqs"
      ],
      "metadata": {
        "id": "_OYKDVFj7wN6"
      },
      "execution_count": 21,
      "outputs": []
    },
    {
      "cell_type": "code",
      "source": [
        "class PoemDataset(Dataset):\n",
        "    \"\"\"PyTorch Dataset for poem data\"\"\"\n",
        "    def __init__(self, inputs, targets):\n",
        "        self.inputs = inputs\n",
        "        self.targets = targets\n",
        "\n",
        "    def __len__(self):\n",
        "        return len(self.inputs)\n",
        "\n",
        "    def __getitem__(self, idx):\n",
        "        return self.inputs[idx], self.targets[idx]"
      ],
      "metadata": {
        "id": "kaeYnC0P7yc_"
      },
      "execution_count": 22,
      "outputs": []
    },
    {
      "cell_type": "markdown",
      "source": [
        "# ========== 3. TRAINING AND EVALUATION ==========\n"
      ],
      "metadata": {
        "id": "onBbRAZt7zZO"
      }
    },
    {
      "cell_type": "code",
      "source": [
        "def train_epoch(model, dataloader, criterion, optimizer, clip_grad=5.0):\n",
        "    \"\"\"Train for one epoch\"\"\"\n",
        "    model.train()\n",
        "    epoch_loss = 0\n",
        "\n",
        "    # Track progress with tqdm\n",
        "    progress_bar = tqdm(dataloader, desc=\"Training\")\n",
        "\n",
        "    for inputs, targets in progress_bar:\n",
        "        inputs, targets = inputs.to(device), targets.to(device)\n",
        "\n",
        "        # Initialize hidden state\n",
        "        hidden = model.init_hidden(inputs.size(0))\n",
        "\n",
        "        # Zero the gradients\n",
        "        optimizer.zero_grad()\n",
        "\n",
        "        # Forward pass\n",
        "        outputs, _ = model(inputs, hidden)\n",
        "\n",
        "        # Reshape for loss calculation\n",
        "        outputs = outputs.view(-1, outputs.size(-1))\n",
        "        targets = targets.view(-1)\n",
        "\n",
        "        # Calculate loss\n",
        "        loss = criterion(outputs, targets)\n",
        "\n",
        "        # Backward pass\n",
        "        loss.backward()\n",
        "\n",
        "        # Gradient clipping to prevent exploding gradients\n",
        "        nn.utils.clip_grad_norm_(model.parameters(), clip_grad)\n",
        "\n",
        "        # Update parameters\n",
        "        optimizer.step()\n",
        "\n",
        "        # Accumulate loss\n",
        "        epoch_loss += loss.item()\n",
        "\n",
        "        # Update progress bar\n",
        "        progress_bar.set_postfix({\"loss\": f\"{loss.item():.4f}\"})\n",
        "\n",
        "    return epoch_loss / len(dataloader)"
      ],
      "metadata": {
        "id": "ji2OI0Xo72Z3"
      },
      "execution_count": 23,
      "outputs": []
    },
    {
      "cell_type": "code",
      "source": [
        "def evaluate(model, dataloader, criterion):\n",
        "    \"\"\"Evaluate the model\"\"\"\n",
        "    model.eval()\n",
        "    total_loss = 0\n",
        "    perplexity = 0\n",
        "\n",
        "    with torch.no_grad():\n",
        "        for inputs, targets in dataloader:\n",
        "            inputs, targets = inputs.to(device), targets.to(device)\n",
        "\n",
        "            # Initialize hidden state\n",
        "            hidden = model.init_hidden(inputs.size(0))\n",
        "\n",
        "            # Forward pass\n",
        "            outputs, _ = model(inputs, hidden)\n",
        "\n",
        "            # Reshape for loss calculation\n",
        "            outputs = outputs.view(-1, outputs.size(-1))\n",
        "            targets = targets.view(-1)\n",
        "\n",
        "            # Calculate loss\n",
        "            loss = criterion(outputs, targets)\n",
        "            total_loss += loss.item()\n",
        "\n",
        "    avg_loss = total_loss / len(dataloader)\n",
        "    perplexity = np.exp(avg_loss)\n",
        "\n",
        "    return avg_loss, perplexity"
      ],
      "metadata": {
        "id": "3PskpohJ74sV"
      },
      "execution_count": 24,
      "outputs": []
    },
    {
      "cell_type": "code",
      "source": [
        "def train_model(model, train_loader, val_loader, criterion, optimizer, num_epochs, model_name,\n",
        "               scheduler=None, patience=5, clip_grad=5.0):\n",
        "    \"\"\"Train the model with early stopping and logging\"\"\"\n",
        "    # Create directory for model artifacts\n",
        "    os.makedirs(\"model_results\", exist_ok=True)\n",
        "\n",
        "    train_losses = []\n",
        "    val_losses = []\n",
        "    perplexities = []\n",
        "    best_val_loss = float('inf')\n",
        "    best_epoch = 0\n",
        "    patience_counter = 0\n",
        "\n",
        "    start_time = time.time()\n",
        "\n",
        "    for epoch in range(num_epochs):\n",
        "        # Train for one epoch\n",
        "        train_loss = train_epoch(model, train_loader, criterion, optimizer, clip_grad)\n",
        "        train_losses.append(train_loss)\n",
        "\n",
        "        # Evaluate on validation set\n",
        "        val_loss, perplexity = evaluate(model, val_loader, criterion)\n",
        "        val_losses.append(val_loss)\n",
        "        perplexities.append(perplexity)\n",
        "\n",
        "        # Print epoch results\n",
        "        print(f\"Epoch {epoch+1}/{num_epochs}, \"\n",
        "              f\"Train Loss: {train_loss:.4f}, \"\n",
        "              f\"Val Loss: {val_loss:.4f}, \"\n",
        "              f\"Perplexity: {perplexity:.2f}\")\n",
        "\n",
        "        # Learning rate scheduling\n",
        "        if scheduler:\n",
        "            if isinstance(scheduler, optim.lr_scheduler.ReduceLROnPlateau):\n",
        "                scheduler.step(val_loss)\n",
        "            else:\n",
        "                scheduler.step()\n",
        "\n",
        "        # Save checkpoint if this is the best model so far\n",
        "        if val_loss < best_val_loss:\n",
        "            best_val_loss = val_loss\n",
        "            best_epoch = epoch\n",
        "            patience_counter = 0\n",
        "\n",
        "            # Save the model\n",
        "            torch.save({\n",
        "                'epoch': epoch,\n",
        "                'model_state_dict': model.state_dict(),\n",
        "                'optimizer_state_dict': optimizer.state_dict(),\n",
        "                'val_loss': val_loss,\n",
        "                'train_loss': train_loss,\n",
        "                'perplexity': perplexity\n",
        "            }, f\"model_results/{model_name}_best.pt\")\n",
        "        else:\n",
        "            patience_counter += 1\n",
        "            if patience_counter >= patience:\n",
        "                print(f\"Early stopping at epoch {epoch+1}\")\n",
        "                break\n",
        "\n",
        "    end_time = time.time()\n",
        "    training_time = end_time - start_time\n",
        "\n",
        "    # Save training history\n",
        "    history = {\n",
        "        'train_losses': train_losses,\n",
        "        'val_losses': val_losses,\n",
        "        'perplexities': perplexities,\n",
        "        'best_epoch': best_epoch,\n",
        "        'best_val_loss': best_val_loss,\n",
        "        'training_time': training_time\n",
        "    }\n",
        "\n",
        "    with open(f\"model_results/{model_name}_history.json\", 'w') as f:\n",
        "        json.dump(history, f)\n",
        "\n",
        "    # Plot and save training curves\n",
        "    plt.figure(figsize=(12, 5))\n",
        "\n",
        "    # Loss subplot\n",
        "    plt.subplot(1, 2, 1)\n",
        "    plt.plot(train_losses, label='Train Loss')\n",
        "    plt.plot(val_losses, label='Validation Loss')\n",
        "    plt.xlabel('Epochs')\n",
        "    plt.ylabel('Loss')\n",
        "    plt.legend()\n",
        "    plt.title(f'{model_name} - Loss Curves')\n",
        "\n",
        "    # Perplexity subplot\n",
        "    plt.subplot(1, 2, 2)\n",
        "    plt.plot(perplexities, label='Validation Perplexity', color='green')\n",
        "    plt.xlabel('Epochs')\n",
        "    plt.ylabel('Perplexity')\n",
        "    plt.legend()\n",
        "    plt.title(f'{model_name} - Perplexity')\n",
        "\n",
        "    plt.tight_layout()\n",
        "    plt.savefig(f\"model_results/{model_name}_training_curves.png\")\n",
        "\n",
        "    return history"
      ],
      "metadata": {
        "id": "arFsemDZ77lG"
      },
      "execution_count": 25,
      "outputs": []
    },
    {
      "cell_type": "markdown",
      "source": [
        "# ========== 4. TEXT GENERATION ==========\n"
      ],
      "metadata": {
        "id": "PexWms7I78xK"
      }
    },
    {
      "cell_type": "code",
      "source": [
        "def temperature_sampling(probs, temperature=1.0, top_k=None, top_p=None):\n",
        "    \"\"\"Advanced sampling techniques for text generation\"\"\"\n",
        "    # Apply temperature\n",
        "    if temperature != 1.0:\n",
        "        probs = probs.pow(1.0 / temperature)\n",
        "\n",
        "    # Top-k sampling\n",
        "    if top_k is not None:\n",
        "        top_k = min(top_k, probs.size(-1))\n",
        "        values, indices = torch.topk(probs, top_k)\n",
        "        zeroed_probs = torch.zeros_like(probs)\n",
        "        zeroed_probs.scatter_(0, indices, values)\n",
        "        probs = zeroed_probs\n",
        "\n",
        "    # Nucleus (top-p) sampling\n",
        "    if top_p is not None and top_p < 1.0:\n",
        "        sorted_probs, sorted_indices = torch.sort(probs, descending=True)\n",
        "        cumulative_probs = torch.cumsum(sorted_probs, dim=0)\n",
        "\n",
        "        # Remove tokens with cumulative probability above the threshold\n",
        "        sorted_indices_to_remove = cumulative_probs > top_p\n",
        "        # Shift the indices to the right to keep the first token above the threshold\n",
        "        sorted_indices_to_remove[1:] = sorted_indices_to_remove[:-1].clone()\n",
        "        sorted_indices_to_remove[0] = 0\n",
        "\n",
        "        indices_to_remove = sorted_indices[sorted_indices_to_remove]\n",
        "        probs[indices_to_remove] = 0.0\n",
        "\n",
        "    # Normalize the probabilities\n",
        "    probs = probs / probs.sum()\n",
        "\n",
        "    # Sample from the distribution\n",
        "    next_token = torch.multinomial(probs, 1).item()\n",
        "\n",
        "    return next_token\n",
        "\n",
        "def generate_poem(model, word_to_idx, idx_to_word, start_words, length=50,\n",
        "                 temperature=0.8, top_k=5, top_p=0.9):\n",
        "    \"\"\"Generate poem text using the trained model\"\"\"\n",
        "    model.eval()\n",
        "\n",
        "    # Convert start words to indices\n",
        "    unk_idx = word_to_idx.get('<unk>', 0)\n",
        "    current_indices = [word_to_idx.get(word.lower(), unk_idx) for word in start_words]\n",
        "\n",
        "    # Pad the sequence to the expected input length\n",
        "    seq_length = model.hidden_size // 2  # Estimate sequence length based on model\n",
        "\n",
        "    # Ensure we have the right number of tokens\n",
        "    if len(current_indices) < seq_length:\n",
        "        current_indices = [unk_idx] * (seq_length - len(current_indices)) + current_indices\n",
        "    else:\n",
        "        current_indices = current_indices[-seq_length:]\n",
        "\n",
        "    # Initialize result with capitalized start words\n",
        "    result = [word.capitalize() for word in start_words]\n",
        "\n",
        "    # Initialize hidden state\n",
        "    hidden = model.init_hidden(1)\n",
        "\n",
        "    # Generate words\n",
        "    for _ in range(length - len(start_words)):\n",
        "        # Convert current indices to tensor\n",
        "        input_tensor = torch.tensor([current_indices], dtype=torch.long).to(device)\n",
        "\n",
        "        # Forward pass\n",
        "        with torch.no_grad():\n",
        "            output, hidden = model(input_tensor, hidden)\n",
        "\n",
        "        # Get next word probabilities (last position in sequence)\n",
        "        word_probs = F.softmax(output[0, -1], dim=-1)\n",
        "\n",
        "        # Sample next word\n",
        "        next_idx = temperature_sampling(word_probs, temperature, top_k, top_p)\n",
        "        next_word = idx_to_word.get(next_idx, \"<unk>\")\n",
        "\n",
        "        # Skip special tokens\n",
        "        if next_word in [\"<pad>\", \"<unk>\", \"<sos>\", \"<eos>\"]:\n",
        "            continue\n",
        "\n",
        "        # Handle line breaks\n",
        "        if next_word == \"<linebreak>\":\n",
        "            result.append(\"\\n\")\n",
        "        else:\n",
        "            result.append(next_word)\n",
        "\n",
        "        # Update current indices (shift and add new word)\n",
        "        current_indices = current_indices[1:] + [next_idx]\n",
        "\n",
        "        # Add periodic line breaks for structure if not already added\n",
        "        if next_word != \"<linebreak>\" and len(result) % 8 == 0 and result[-1] not in [\".\", \",\", \"!\", \"?\"]:\n",
        "            result.append(\"\\n\")\n",
        "\n",
        "    # Post-process the poem\n",
        "    poem = \" \".join(result)\n",
        "    poem = re.sub(r\"\\s+([.,!?])\", r\"\\1\", poem)  # Fix spacing with punctuation\n",
        "    poem = re.sub(r\"\\s*\\n\\s*\", \"\\n\", poem)  # Fix spacing around line breaks\n",
        "\n",
        "    return poem"
      ],
      "metadata": {
        "id": "uEUmhnWo7b2S"
      },
      "execution_count": 26,
      "outputs": []
    },
    {
      "cell_type": "markdown",
      "source": [
        "# ========== 5. MODEL COMPARISON AND EVALUATION =========="
      ],
      "metadata": {
        "id": "VX7khT7k8nYn"
      }
    },
    {
      "cell_type": "code",
      "source": [
        "def evaluate_all_models(models, test_loader, criterion):\n",
        "    \"\"\"Evaluate and compare all models\"\"\"\n",
        "    results = {}\n",
        "\n",
        "    for name, model in models.items():\n",
        "        print(f\"Evaluating {name}...\")\n",
        "        model.eval()\n",
        "\n",
        "        # Load the best model weights\n",
        "        checkpoint = torch.load(f\"model_results/{name}_best.pt\",\n",
        "                                map_location=device,\n",
        "                                weights_only=False, # set to False to allow arbitrary code execution\n",
        "                                )\n",
        "        model.load_state_dict(checkpoint['model_state_dict'])\n",
        "\n",
        "        # Calculate word prediction accuracy\n",
        "        correct = 0\n",
        "        total = 0\n",
        "\n",
        "        # Calculate test loss and perplexity  # Added this block\n",
        "        test_loss = 0\n",
        "        with torch.no_grad():\n",
        "            for inputs, targets in test_loader:\n",
        "                inputs, targets = inputs.to(device), targets.to(device)\n",
        "                hidden = model.init_hidden(inputs.size(0))\n",
        "                outputs, _ = model(inputs, hidden)\n",
        "                outputs = outputs.view(-1, outputs.size(-1))\n",
        "                targets = targets.view(-1)\n",
        "                loss = criterion(outputs, targets)\n",
        "                test_loss += loss.item()\n",
        "\n",
        "        test_loss /= len(test_loader) #Averaging the loss\n",
        "        perplexity = np.exp(test_loss)\n",
        "\n",
        "\n",
        "        with torch.no_grad():\n",
        "            for inputs, targets in test_loader:\n",
        "                inputs, targets = inputs.to(device), targets.to(device)\n",
        "\n",
        "                # Initialize hidden state\n",
        "                hidden = model.init_hidden(inputs.size(0))\n",
        "\n",
        "                # Forward pass\n",
        "                outputs, _ = model(inputs, hidden)\n",
        "\n",
        "                # Get predicted words\n",
        "                _, predicted = torch.max(outputs, dim=2)\n",
        "\n",
        "                # Mask out padding tokens\n",
        "                mask = targets != word_to_idx['<pad>']\n",
        "\n",
        "                # Count correct predictions\n",
        "                correct += ((predicted == targets) & mask).sum().item()\n",
        "                total += mask.sum().item()\n",
        "\n",
        "        accuracy = correct / total if total > 0 else 0\n",
        "\n",
        "        # Generate sample text\n",
        "        sample_poem = generate_poem(\n",
        "            model, word_to_idx, idx_to_word,\n",
        "            [\"love\", \"is\"], length=30, temperature=0.8\n",
        "        )\n",
        "\n",
        "        # Store results\n",
        "        results[name] = {\n",
        "            'test_loss': test_loss,\n",
        "            'perplexity': perplexity,\n",
        "            'accuracy': accuracy,\n",
        "            'sample': sample_poem\n",
        "        }\n",
        "\n",
        "        print(f\"  Test Loss: {test_loss:.4f}\")\n",
        "        print(f\"  Perplexity: {perplexity:.2f}\")\n",
        "        print(f\"  Accuracy: {accuracy:.4f}\")\n",
        "        print(f\"  Sample:\\n{sample_poem}\\n\")\n",
        "\n",
        "    # Save results to file\n",
        "    with open(\"model_results/model_comparison.json\", 'w') as f:\n",
        "        # Convert values to serializable format\n",
        "        serializable_results = {\n",
        "            k: {sk: float(sv) if isinstance(sv, torch.Tensor) else sv\n",
        "                for sk, sv in v.items()}\n",
        "            for k, v in results.items()\n",
        "        }\n",
        "        json.dump(serializable_results, f, indent=2)\n",
        "\n",
        "    # Create comparison visualizations\n",
        "    metrics = ['test_loss', 'perplexity', 'accuracy']\n",
        "    plt.figure(figsize=(15, 5))\n",
        "\n",
        "    for i, metric in enumerate(metrics):\n",
        "        plt.subplot(1, 3, i+1)\n",
        "        values = [results[model][metric] for model in results]\n",
        "        plt.bar(list(results.keys()), values)\n",
        "        plt.title(f'Model Comparison - {metric.capitalize()}')\n",
        "        plt.xticks(rotation=45)\n",
        "        plt.tight_layout()\n",
        "\n",
        "    plt.savefig(\"model_results/model_comparison.png\")\n",
        "\n",
        "    return results"
      ],
      "metadata": {
        "id": "nbVidkeI8Cei"
      },
      "execution_count": 35,
      "outputs": []
    },
    {
      "cell_type": "markdown",
      "source": [
        "# ========== 6. MAIN FUNCTION =========="
      ],
      "metadata": {
        "id": "Zz1dk0zd8y38"
      }
    },
    {
      "cell_type": "code",
      "source": [
        "# Load dataset\n",
        "dataset_path = \"./poems-100.csv\"\n",
        "df = pd.read_csv(dataset_path)\n",
        "\n",
        "# Preprocess texts\n",
        "print(\"Preprocessing data...\")\n",
        "df[\"processed_text\"] = df[\"text\"].apply(preprocess_text)\n",
        "\n",
        "# Create vocabulary\n",
        "print(\"Creating vocabulary...\")\n",
        "word_to_idx, idx_to_word = create_vocab(df[\"processed_text\"].tolist(), min_freq=2)\n",
        "vocab_size = len(word_to_idx)\n",
        "print(f\"Vocabulary size: {vocab_size}\")\n",
        "\n",
        "# Create sequences\n",
        "print(\"Creating sequences...\")\n",
        "sequence_length = 10  # Increased from original 5 for better context\n",
        "all_inputs, all_targets = [], []\n",
        "\n",
        "for tokens in df[\"processed_text\"]:\n",
        "    inputs, targets = create_sequences(tokens, word_to_idx, sequence_length)\n",
        "    all_inputs.extend(inputs)\n",
        "    all_targets.extend(targets)\n",
        "\n",
        "# Convert to PyTorch tensors\n",
        "all_inputs = torch.tensor(all_inputs, dtype=torch.long)\n",
        "all_targets = torch.tensor(all_targets, dtype=torch.long)\n",
        "\n",
        "# Split into train, validation, and test sets\n",
        "train_inputs, temp_inputs, train_targets, temp_targets = train_test_split(\n",
        "    all_inputs, all_targets, test_size=0.2, random_state=42)\n",
        "\n",
        "val_inputs, test_inputs, val_targets, test_targets = train_test_split(\n",
        "    temp_inputs, temp_targets, test_size=0.5, random_state=42)\n",
        "\n",
        "# Create datasets and dataloaders\n",
        "batch_size = 64\n",
        "train_dataset = PoemDataset(train_inputs, train_targets)\n",
        "val_dataset = PoemDataset(val_inputs, val_targets)\n",
        "test_dataset = PoemDataset(test_inputs, test_targets)\n",
        "\n",
        "train_loader = DataLoader(train_dataset, batch_size=batch_size, shuffle=True)\n",
        "val_loader = DataLoader(val_dataset, batch_size=batch_size)\n",
        "test_loader = DataLoader(test_dataset, batch_size=batch_size)\n",
        "\n",
        "# Model hyperparameters\n",
        "embed_size = 256\n",
        "hidden_size = 512\n",
        "num_layers = 2\n",
        "dropout = 0.3\n"
      ],
      "metadata": {
        "colab": {
          "base_uri": "https://localhost:8080/"
        },
        "id": "-BSW39TWD2xX",
        "outputId": "af048027-65fd-49f0-a791-699dfec95796"
      },
      "execution_count": 33,
      "outputs": [
        {
          "output_type": "stream",
          "name": "stdout",
          "text": [
            "Preprocessing data...\n",
            "Creating vocabulary...\n",
            "Vocabulary size: 1880\n",
            "Creating sequences...\n"
          ]
        }
      ]
    },
    {
      "cell_type": "code",
      "source": [
        "\n",
        "# Initialize all models\n",
        "models = {\n",
        "    \"RNN_OHE\": RNNOneHot(vocab_size, hidden_size, num_layers, dropout).to(device),\n",
        "    \"RNN_EMB\": RNNEmbedding(vocab_size, embed_size, hidden_size, num_layers, dropout).to(device),\n",
        "    \"LSTM_OHE\": LSTMOneHot(vocab_size, hidden_size, num_layers, dropout).to(device),\n",
        "    \"LSTM_EMB\": LSTMEmbedding(vocab_size, embed_size, hidden_size, num_layers, dropout).to(device),\n",
        "    \"GRU_OHE\": GRUOneHot(vocab_size, hidden_size, num_layers, dropout).to(device),\n",
        "    \"GRU_EMB\": GRUEmbedding(vocab_size, embed_size, hidden_size, num_layers, dropout).to(device)\n",
        "}\n",
        "\n",
        "# Loss function\n",
        "criterion = nn.CrossEntropyLoss(ignore_index=word_to_idx.get('<pad>', 0))\n",
        "\n",
        "# Train all models\n",
        "print(\"\\n===== Starting training for all models =====\\n\")\n",
        "\n",
        "for model_name, model in models.items():\n",
        "    print(f\"\\n===== Training {model_name} =====\\n\")\n",
        "\n",
        "    # Setup optimizer and scheduler\n",
        "    optimizer = optim.Adam(model.parameters(), lr=0.001, weight_decay=1e-5)\n",
        "    scheduler = optim.lr_scheduler.ReduceLROnPlateau(\n",
        "        optimizer, mode='min', factor=0.5, patience=3, verbose=True)\n",
        "\n",
        "    # Train the model\n",
        "    history = train_model(\n",
        "        model, train_loader, val_loader, criterion, optimizer,\n",
        "        num_epochs=100, model_name=model_name, scheduler=scheduler,\n",
        "        patience=5, clip_grad=5.0\n",
        "    )\n"
      ],
      "metadata": {
        "colab": {
          "base_uri": "https://localhost:8080/",
          "height": 1000
        },
        "id": "T96wRj738C9z",
        "outputId": "4a91c1e2-493c-44cb-b0fb-3b351e366be8"
      },
      "execution_count": 29,
      "outputs": [
        {
          "output_type": "stream",
          "name": "stdout",
          "text": [
            "Preprocessing data...\n",
            "Creating vocabulary...\n",
            "Vocabulary size: 1880\n",
            "Creating sequences...\n"
          ]
        },
        {
          "output_type": "stream",
          "name": "stderr",
          "text": [
            "/usr/local/lib/python3.11/dist-packages/torch/optim/lr_scheduler.py:62: UserWarning: The verbose parameter is deprecated. Please use get_last_lr() to access the learning rate.\n",
            "  warnings.warn(\n"
          ]
        },
        {
          "output_type": "stream",
          "name": "stdout",
          "text": [
            "\n",
            "===== Starting training for all models =====\n",
            "\n",
            "\n",
            "===== Training RNN_OHE =====\n",
            "\n"
          ]
        },
        {
          "output_type": "stream",
          "name": "stderr",
          "text": [
            "Training: 100%|██████████| 385/385 [00:03<00:00, 124.45it/s, loss=4.4854]\n"
          ]
        },
        {
          "output_type": "stream",
          "name": "stdout",
          "text": [
            "Epoch 1/100, Train Loss: 5.1661, Val Loss: 4.8836, Perplexity: 132.11\n"
          ]
        },
        {
          "output_type": "stream",
          "name": "stderr",
          "text": [
            "Training: 100%|██████████| 385/385 [00:02<00:00, 146.79it/s, loss=3.7801]\n"
          ]
        },
        {
          "output_type": "stream",
          "name": "stdout",
          "text": [
            "Epoch 2/100, Train Loss: 4.3445, Val Loss: 3.8750, Perplexity: 48.18\n"
          ]
        },
        {
          "output_type": "stream",
          "name": "stderr",
          "text": [
            "Training: 100%|██████████| 385/385 [00:02<00:00, 147.47it/s, loss=3.6310]\n"
          ]
        },
        {
          "output_type": "stream",
          "name": "stdout",
          "text": [
            "Epoch 3/100, Train Loss: 3.5904, Val Loss: 3.3198, Perplexity: 27.65\n"
          ]
        },
        {
          "output_type": "stream",
          "name": "stderr",
          "text": [
            "Training: 100%|██████████| 385/385 [00:02<00:00, 146.13it/s, loss=3.2370]\n"
          ]
        },
        {
          "output_type": "stream",
          "name": "stdout",
          "text": [
            "Epoch 4/100, Train Loss: 3.0080, Val Loss: 2.8065, Perplexity: 16.55\n"
          ]
        },
        {
          "output_type": "stream",
          "name": "stderr",
          "text": [
            "Training: 100%|██████████| 385/385 [00:02<00:00, 133.32it/s, loss=2.4497]\n"
          ]
        },
        {
          "output_type": "stream",
          "name": "stdout",
          "text": [
            "Epoch 5/100, Train Loss: 2.5113, Val Loss: 2.3758, Perplexity: 10.76\n"
          ]
        },
        {
          "output_type": "stream",
          "name": "stderr",
          "text": [
            "Training: 100%|██████████| 385/385 [00:02<00:00, 141.36it/s, loss=1.9065]\n"
          ]
        },
        {
          "output_type": "stream",
          "name": "stdout",
          "text": [
            "Epoch 6/100, Train Loss: 2.1227, Val Loss: 2.0389, Perplexity: 7.68\n"
          ]
        },
        {
          "output_type": "stream",
          "name": "stderr",
          "text": [
            "Training: 100%|██████████| 385/385 [00:02<00:00, 144.01it/s, loss=1.3733]\n"
          ]
        },
        {
          "output_type": "stream",
          "name": "stdout",
          "text": [
            "Epoch 7/100, Train Loss: 1.8341, Val Loss: 1.7799, Perplexity: 5.93\n"
          ]
        },
        {
          "output_type": "stream",
          "name": "stderr",
          "text": [
            "Training: 100%|██████████| 385/385 [00:03<00:00, 123.76it/s, loss=1.7613]\n"
          ]
        },
        {
          "output_type": "stream",
          "name": "stdout",
          "text": [
            "Epoch 8/100, Train Loss: 1.6415, Val Loss: 1.6052, Perplexity: 4.98\n"
          ]
        },
        {
          "output_type": "stream",
          "name": "stderr",
          "text": [
            "Training: 100%|██████████| 385/385 [00:02<00:00, 139.64it/s, loss=1.5655]\n"
          ]
        },
        {
          "output_type": "stream",
          "name": "stdout",
          "text": [
            "Epoch 9/100, Train Loss: 1.5002, Val Loss: 1.4987, Perplexity: 4.48\n"
          ]
        },
        {
          "output_type": "stream",
          "name": "stderr",
          "text": [
            "Training: 100%|██████████| 385/385 [00:03<00:00, 121.04it/s, loss=1.1750]\n"
          ]
        },
        {
          "output_type": "stream",
          "name": "stdout",
          "text": [
            "Epoch 10/100, Train Loss: 1.4045, Val Loss: 1.3990, Perplexity: 4.05\n"
          ]
        },
        {
          "output_type": "stream",
          "name": "stderr",
          "text": [
            "Training: 100%|██████████| 385/385 [00:02<00:00, 143.91it/s, loss=1.2111]\n"
          ]
        },
        {
          "output_type": "stream",
          "name": "stdout",
          "text": [
            "Epoch 11/100, Train Loss: 1.3339, Val Loss: 1.3539, Perplexity: 3.87\n"
          ]
        },
        {
          "output_type": "stream",
          "name": "stderr",
          "text": [
            "Training: 100%|██████████| 385/385 [00:02<00:00, 145.10it/s, loss=1.4678]\n"
          ]
        },
        {
          "output_type": "stream",
          "name": "stdout",
          "text": [
            "Epoch 12/100, Train Loss: 1.2858, Val Loss: 1.3183, Perplexity: 3.74\n"
          ]
        },
        {
          "output_type": "stream",
          "name": "stderr",
          "text": [
            "Training: 100%|██████████| 385/385 [00:02<00:00, 136.97it/s, loss=1.3008]\n"
          ]
        },
        {
          "output_type": "stream",
          "name": "stdout",
          "text": [
            "Epoch 13/100, Train Loss: 1.2412, Val Loss: 1.2613, Perplexity: 3.53\n"
          ]
        },
        {
          "output_type": "stream",
          "name": "stderr",
          "text": [
            "Training: 100%|██████████| 385/385 [00:02<00:00, 133.90it/s, loss=0.9593]\n"
          ]
        },
        {
          "output_type": "stream",
          "name": "stdout",
          "text": [
            "Epoch 14/100, Train Loss: 1.2079, Val Loss: 1.2473, Perplexity: 3.48\n"
          ]
        },
        {
          "output_type": "stream",
          "name": "stderr",
          "text": [
            "Training: 100%|██████████| 385/385 [00:03<00:00, 122.22it/s, loss=1.0641]\n"
          ]
        },
        {
          "output_type": "stream",
          "name": "stdout",
          "text": [
            "Epoch 15/100, Train Loss: 1.1836, Val Loss: 1.2349, Perplexity: 3.44\n"
          ]
        },
        {
          "output_type": "stream",
          "name": "stderr",
          "text": [
            "Training: 100%|██████████| 385/385 [00:03<00:00, 117.61it/s, loss=1.1744]\n"
          ]
        },
        {
          "output_type": "stream",
          "name": "stdout",
          "text": [
            "Epoch 16/100, Train Loss: 1.1640, Val Loss: 1.1991, Perplexity: 3.32\n"
          ]
        },
        {
          "output_type": "stream",
          "name": "stderr",
          "text": [
            "Training: 100%|██████████| 385/385 [00:06<00:00, 62.63it/s, loss=1.1757]\n"
          ]
        },
        {
          "output_type": "stream",
          "name": "stdout",
          "text": [
            "Epoch 17/100, Train Loss: 1.1435, Val Loss: 1.1911, Perplexity: 3.29\n"
          ]
        },
        {
          "output_type": "stream",
          "name": "stderr",
          "text": [
            "Training: 100%|██████████| 385/385 [00:04<00:00, 87.61it/s, loss=1.1814]\n"
          ]
        },
        {
          "output_type": "stream",
          "name": "stdout",
          "text": [
            "Epoch 18/100, Train Loss: 1.1324, Val Loss: 1.1780, Perplexity: 3.25\n"
          ]
        },
        {
          "output_type": "stream",
          "name": "stderr",
          "text": [
            "Training: 100%|██████████| 385/385 [00:04<00:00, 90.63it/s, loss=1.1943] \n"
          ]
        },
        {
          "output_type": "stream",
          "name": "stdout",
          "text": [
            "Epoch 19/100, Train Loss: 1.1160, Val Loss: 1.1837, Perplexity: 3.27\n"
          ]
        },
        {
          "output_type": "stream",
          "name": "stderr",
          "text": [
            "Training: 100%|██████████| 385/385 [00:03<00:00, 127.88it/s, loss=1.3041]\n"
          ]
        },
        {
          "output_type": "stream",
          "name": "stdout",
          "text": [
            "Epoch 20/100, Train Loss: 1.1046, Val Loss: 1.1599, Perplexity: 3.19\n"
          ]
        },
        {
          "output_type": "stream",
          "name": "stderr",
          "text": [
            "Training: 100%|██████████| 385/385 [00:02<00:00, 146.12it/s, loss=1.1794]\n"
          ]
        },
        {
          "output_type": "stream",
          "name": "stdout",
          "text": [
            "Epoch 21/100, Train Loss: 1.0962, Val Loss: 1.1643, Perplexity: 3.20\n"
          ]
        },
        {
          "output_type": "stream",
          "name": "stderr",
          "text": [
            "Training: 100%|██████████| 385/385 [00:03<00:00, 122.60it/s, loss=0.9866]\n"
          ]
        },
        {
          "output_type": "stream",
          "name": "stdout",
          "text": [
            "Epoch 22/100, Train Loss: 1.0872, Val Loss: 1.1578, Perplexity: 3.18\n"
          ]
        },
        {
          "output_type": "stream",
          "name": "stderr",
          "text": [
            "Training: 100%|██████████| 385/385 [00:02<00:00, 145.55it/s, loss=1.0832]\n"
          ]
        },
        {
          "output_type": "stream",
          "name": "stdout",
          "text": [
            "Epoch 23/100, Train Loss: 1.0781, Val Loss: 1.1455, Perplexity: 3.14\n"
          ]
        },
        {
          "output_type": "stream",
          "name": "stderr",
          "text": [
            "Training: 100%|██████████| 385/385 [00:02<00:00, 131.70it/s, loss=1.1848]\n"
          ]
        },
        {
          "output_type": "stream",
          "name": "stdout",
          "text": [
            "Epoch 24/100, Train Loss: 1.0703, Val Loss: 1.1407, Perplexity: 3.13\n"
          ]
        },
        {
          "output_type": "stream",
          "name": "stderr",
          "text": [
            "Training: 100%|██████████| 385/385 [00:02<00:00, 147.60it/s, loss=1.1616]\n"
          ]
        },
        {
          "output_type": "stream",
          "name": "stdout",
          "text": [
            "Epoch 25/100, Train Loss: 1.0649, Val Loss: 1.1436, Perplexity: 3.14\n"
          ]
        },
        {
          "output_type": "stream",
          "name": "stderr",
          "text": [
            "Training: 100%|██████████| 385/385 [00:02<00:00, 143.45it/s, loss=1.1222]\n"
          ]
        },
        {
          "output_type": "stream",
          "name": "stdout",
          "text": [
            "Epoch 26/100, Train Loss: 1.0586, Val Loss: 1.1256, Perplexity: 3.08\n"
          ]
        },
        {
          "output_type": "stream",
          "name": "stderr",
          "text": [
            "Training: 100%|██████████| 385/385 [00:02<00:00, 143.50it/s, loss=1.2336]\n"
          ]
        },
        {
          "output_type": "stream",
          "name": "stdout",
          "text": [
            "Epoch 27/100, Train Loss: 1.0502, Val Loss: 1.1272, Perplexity: 3.09\n"
          ]
        },
        {
          "output_type": "stream",
          "name": "stderr",
          "text": [
            "Training: 100%|██████████| 385/385 [00:02<00:00, 135.41it/s, loss=0.8742]\n"
          ]
        },
        {
          "output_type": "stream",
          "name": "stdout",
          "text": [
            "Epoch 28/100, Train Loss: 1.0468, Val Loss: 1.1196, Perplexity: 3.06\n"
          ]
        },
        {
          "output_type": "stream",
          "name": "stderr",
          "text": [
            "Training: 100%|██████████| 385/385 [00:02<00:00, 130.73it/s, loss=1.1780]\n"
          ]
        },
        {
          "output_type": "stream",
          "name": "stdout",
          "text": [
            "Epoch 29/100, Train Loss: 1.0386, Val Loss: 1.1339, Perplexity: 3.11\n"
          ]
        },
        {
          "output_type": "stream",
          "name": "stderr",
          "text": [
            "Training: 100%|██████████| 385/385 [00:02<00:00, 144.18it/s, loss=1.2225]\n"
          ]
        },
        {
          "output_type": "stream",
          "name": "stdout",
          "text": [
            "Epoch 30/100, Train Loss: 1.0348, Val Loss: 1.1161, Perplexity: 3.05\n"
          ]
        },
        {
          "output_type": "stream",
          "name": "stderr",
          "text": [
            "Training: 100%|██████████| 385/385 [00:02<00:00, 143.72it/s, loss=1.2302]\n"
          ]
        },
        {
          "output_type": "stream",
          "name": "stdout",
          "text": [
            "Epoch 31/100, Train Loss: 1.0299, Val Loss: 1.1252, Perplexity: 3.08\n"
          ]
        },
        {
          "output_type": "stream",
          "name": "stderr",
          "text": [
            "Training: 100%|██████████| 385/385 [00:02<00:00, 140.27it/s, loss=1.2847]\n"
          ]
        },
        {
          "output_type": "stream",
          "name": "stdout",
          "text": [
            "Epoch 32/100, Train Loss: 1.0278, Val Loss: 1.1098, Perplexity: 3.03\n"
          ]
        },
        {
          "output_type": "stream",
          "name": "stderr",
          "text": [
            "Training: 100%|██████████| 385/385 [00:02<00:00, 131.53it/s, loss=1.0960]\n"
          ]
        },
        {
          "output_type": "stream",
          "name": "stdout",
          "text": [
            "Epoch 33/100, Train Loss: 1.0244, Val Loss: 1.1192, Perplexity: 3.06\n"
          ]
        },
        {
          "output_type": "stream",
          "name": "stderr",
          "text": [
            "Training: 100%|██████████| 385/385 [00:02<00:00, 146.56it/s, loss=1.0689]\n"
          ]
        },
        {
          "output_type": "stream",
          "name": "stdout",
          "text": [
            "Epoch 34/100, Train Loss: 1.0226, Val Loss: 1.1185, Perplexity: 3.06\n"
          ]
        },
        {
          "output_type": "stream",
          "name": "stderr",
          "text": [
            "Training: 100%|██████████| 385/385 [00:02<00:00, 144.37it/s, loss=1.1638]\n"
          ]
        },
        {
          "output_type": "stream",
          "name": "stdout",
          "text": [
            "Epoch 35/100, Train Loss: 1.0164, Val Loss: 1.1081, Perplexity: 3.03\n"
          ]
        },
        {
          "output_type": "stream",
          "name": "stderr",
          "text": [
            "Training: 100%|██████████| 385/385 [00:02<00:00, 131.19it/s, loss=1.0720]\n"
          ]
        },
        {
          "output_type": "stream",
          "name": "stdout",
          "text": [
            "Epoch 36/100, Train Loss: 1.0148, Val Loss: 1.1134, Perplexity: 3.04\n"
          ]
        },
        {
          "output_type": "stream",
          "name": "stderr",
          "text": [
            "Training: 100%|██████████| 385/385 [00:03<00:00, 126.32it/s, loss=1.4293]\n"
          ]
        },
        {
          "output_type": "stream",
          "name": "stdout",
          "text": [
            "Epoch 37/100, Train Loss: 1.0111, Val Loss: 1.1121, Perplexity: 3.04\n"
          ]
        },
        {
          "output_type": "stream",
          "name": "stderr",
          "text": [
            "Training: 100%|██████████| 385/385 [00:02<00:00, 134.03it/s, loss=1.0979]\n"
          ]
        },
        {
          "output_type": "stream",
          "name": "stdout",
          "text": [
            "Epoch 38/100, Train Loss: 1.0089, Val Loss: 1.1080, Perplexity: 3.03\n"
          ]
        },
        {
          "output_type": "stream",
          "name": "stderr",
          "text": [
            "Training: 100%|██████████| 385/385 [00:02<00:00, 136.97it/s, loss=1.0558]\n"
          ]
        },
        {
          "output_type": "stream",
          "name": "stdout",
          "text": [
            "Epoch 39/100, Train Loss: 1.0042, Val Loss: 1.1034, Perplexity: 3.01\n"
          ]
        },
        {
          "output_type": "stream",
          "name": "stderr",
          "text": [
            "Training: 100%|██████████| 385/385 [00:02<00:00, 139.52it/s, loss=1.1190]\n"
          ]
        },
        {
          "output_type": "stream",
          "name": "stdout",
          "text": [
            "Epoch 40/100, Train Loss: 0.9987, Val Loss: 1.0995, Perplexity: 3.00\n"
          ]
        },
        {
          "output_type": "stream",
          "name": "stderr",
          "text": [
            "Training: 100%|██████████| 385/385 [00:02<00:00, 131.93it/s, loss=0.8050]\n"
          ]
        },
        {
          "output_type": "stream",
          "name": "stdout",
          "text": [
            "Epoch 41/100, Train Loss: 0.9949, Val Loss: 1.0923, Perplexity: 2.98\n"
          ]
        },
        {
          "output_type": "stream",
          "name": "stderr",
          "text": [
            "Training: 100%|██████████| 385/385 [00:03<00:00, 127.60it/s, loss=0.9960]\n"
          ]
        },
        {
          "output_type": "stream",
          "name": "stdout",
          "text": [
            "Epoch 42/100, Train Loss: 0.9932, Val Loss: 1.0921, Perplexity: 2.98\n"
          ]
        },
        {
          "output_type": "stream",
          "name": "stderr",
          "text": [
            "Training: 100%|██████████| 385/385 [00:02<00:00, 133.85it/s, loss=1.0613]\n"
          ]
        },
        {
          "output_type": "stream",
          "name": "stdout",
          "text": [
            "Epoch 43/100, Train Loss: 0.9894, Val Loss: 1.0996, Perplexity: 3.00\n"
          ]
        },
        {
          "output_type": "stream",
          "name": "stderr",
          "text": [
            "Training: 100%|██████████| 385/385 [00:02<00:00, 137.14it/s, loss=1.2741]\n"
          ]
        },
        {
          "output_type": "stream",
          "name": "stdout",
          "text": [
            "Epoch 44/100, Train Loss: 0.9939, Val Loss: 1.0931, Perplexity: 2.98\n"
          ]
        },
        {
          "output_type": "stream",
          "name": "stderr",
          "text": [
            "Training: 100%|██████████| 385/385 [00:02<00:00, 139.15it/s, loss=0.8949]\n"
          ]
        },
        {
          "output_type": "stream",
          "name": "stdout",
          "text": [
            "Epoch 45/100, Train Loss: 0.9885, Val Loss: 1.1059, Perplexity: 3.02\n"
          ]
        },
        {
          "output_type": "stream",
          "name": "stderr",
          "text": [
            "Training: 100%|██████████| 385/385 [00:03<00:00, 125.26it/s, loss=0.9273]\n"
          ]
        },
        {
          "output_type": "stream",
          "name": "stdout",
          "text": [
            "Epoch 46/100, Train Loss: 0.9880, Val Loss: 1.1035, Perplexity: 3.01\n"
          ]
        },
        {
          "output_type": "stream",
          "name": "stderr",
          "text": [
            "Training: 100%|██████████| 385/385 [00:02<00:00, 143.32it/s, loss=0.9358]\n"
          ]
        },
        {
          "output_type": "stream",
          "name": "stdout",
          "text": [
            "Epoch 47/100, Train Loss: 0.8799, Val Loss: 1.0302, Perplexity: 2.80\n"
          ]
        },
        {
          "output_type": "stream",
          "name": "stderr",
          "text": [
            "Training: 100%|██████████| 385/385 [00:02<00:00, 141.11it/s, loss=0.9178]\n"
          ]
        },
        {
          "output_type": "stream",
          "name": "stdout",
          "text": [
            "Epoch 48/100, Train Loss: 0.8562, Val Loss: 1.0275, Perplexity: 2.79\n"
          ]
        },
        {
          "output_type": "stream",
          "name": "stderr",
          "text": [
            "Training: 100%|██████████| 385/385 [00:02<00:00, 138.45it/s, loss=0.8189]\n"
          ]
        },
        {
          "output_type": "stream",
          "name": "stdout",
          "text": [
            "Epoch 49/100, Train Loss: 0.8539, Val Loss: 1.0246, Perplexity: 2.79\n"
          ]
        },
        {
          "output_type": "stream",
          "name": "stderr",
          "text": [
            "Training: 100%|██████████| 385/385 [00:03<00:00, 119.58it/s, loss=0.8971]\n"
          ]
        },
        {
          "output_type": "stream",
          "name": "stdout",
          "text": [
            "Epoch 50/100, Train Loss: 0.8539, Val Loss: 1.0274, Perplexity: 2.79\n"
          ]
        },
        {
          "output_type": "stream",
          "name": "stderr",
          "text": [
            "Training: 100%|██████████| 385/385 [00:03<00:00, 117.94it/s, loss=0.9549]\n"
          ]
        },
        {
          "output_type": "stream",
          "name": "stdout",
          "text": [
            "Epoch 51/100, Train Loss: 0.8524, Val Loss: 1.0275, Perplexity: 2.79\n"
          ]
        },
        {
          "output_type": "stream",
          "name": "stderr",
          "text": [
            "Training: 100%|██████████| 385/385 [00:02<00:00, 138.73it/s, loss=0.7479]\n"
          ]
        },
        {
          "output_type": "stream",
          "name": "stdout",
          "text": [
            "Epoch 52/100, Train Loss: 0.8514, Val Loss: 1.0256, Perplexity: 2.79\n"
          ]
        },
        {
          "output_type": "stream",
          "name": "stderr",
          "text": [
            "Training: 100%|██████████| 385/385 [00:02<00:00, 138.39it/s, loss=0.7766]\n"
          ]
        },
        {
          "output_type": "stream",
          "name": "stdout",
          "text": [
            "Epoch 53/100, Train Loss: 0.8510, Val Loss: 1.0310, Perplexity: 2.80\n"
          ]
        },
        {
          "output_type": "stream",
          "name": "stderr",
          "text": [
            "Training: 100%|██████████| 385/385 [00:03<00:00, 97.69it/s, loss=0.7598] \n"
          ]
        },
        {
          "output_type": "stream",
          "name": "stdout",
          "text": [
            "Epoch 54/100, Train Loss: 0.8066, Val Loss: 1.0104, Perplexity: 2.75\n"
          ]
        },
        {
          "output_type": "stream",
          "name": "stderr",
          "text": [
            "Training: 100%|██████████| 385/385 [00:02<00:00, 133.90it/s, loss=0.7314]\n"
          ]
        },
        {
          "output_type": "stream",
          "name": "stdout",
          "text": [
            "Epoch 55/100, Train Loss: 0.7976, Val Loss: 1.0046, Perplexity: 2.73\n"
          ]
        },
        {
          "output_type": "stream",
          "name": "stderr",
          "text": [
            "Training: 100%|██████████| 385/385 [00:02<00:00, 138.89it/s, loss=0.8032]\n"
          ]
        },
        {
          "output_type": "stream",
          "name": "stdout",
          "text": [
            "Epoch 56/100, Train Loss: 0.7973, Val Loss: 1.0087, Perplexity: 2.74\n"
          ]
        },
        {
          "output_type": "stream",
          "name": "stderr",
          "text": [
            "Training: 100%|██████████| 385/385 [00:02<00:00, 139.22it/s, loss=0.8487]\n"
          ]
        },
        {
          "output_type": "stream",
          "name": "stdout",
          "text": [
            "Epoch 57/100, Train Loss: 0.7961, Val Loss: 1.0037, Perplexity: 2.73\n"
          ]
        },
        {
          "output_type": "stream",
          "name": "stderr",
          "text": [
            "Training: 100%|██████████| 385/385 [00:02<00:00, 128.49it/s, loss=0.7632]\n"
          ]
        },
        {
          "output_type": "stream",
          "name": "stdout",
          "text": [
            "Epoch 58/100, Train Loss: 0.7921, Val Loss: 1.0055, Perplexity: 2.73\n"
          ]
        },
        {
          "output_type": "stream",
          "name": "stderr",
          "text": [
            "Training: 100%|██████████| 385/385 [00:03<00:00, 114.83it/s, loss=0.9431]\n"
          ]
        },
        {
          "output_type": "stream",
          "name": "stdout",
          "text": [
            "Epoch 59/100, Train Loss: 0.7924, Val Loss: 1.0029, Perplexity: 2.73\n"
          ]
        },
        {
          "output_type": "stream",
          "name": "stderr",
          "text": [
            "Training: 100%|██████████| 385/385 [00:02<00:00, 138.80it/s, loss=0.9062]\n"
          ]
        },
        {
          "output_type": "stream",
          "name": "stdout",
          "text": [
            "Epoch 60/100, Train Loss: 0.7924, Val Loss: 1.0083, Perplexity: 2.74\n"
          ]
        },
        {
          "output_type": "stream",
          "name": "stderr",
          "text": [
            "Training: 100%|██████████| 385/385 [00:02<00:00, 135.76it/s, loss=0.7925]\n"
          ]
        },
        {
          "output_type": "stream",
          "name": "stdout",
          "text": [
            "Epoch 61/100, Train Loss: 0.7918, Val Loss: 1.0074, Perplexity: 2.74\n"
          ]
        },
        {
          "output_type": "stream",
          "name": "stderr",
          "text": [
            "Training: 100%|██████████| 385/385 [00:02<00:00, 135.92it/s, loss=0.9109]\n"
          ]
        },
        {
          "output_type": "stream",
          "name": "stdout",
          "text": [
            "Epoch 62/100, Train Loss: 0.7922, Val Loss: 1.0078, Perplexity: 2.74\n"
          ]
        },
        {
          "output_type": "stream",
          "name": "stderr",
          "text": [
            "Training: 100%|██████████| 385/385 [00:03<00:00, 118.17it/s, loss=0.6187]\n"
          ]
        },
        {
          "output_type": "stream",
          "name": "stdout",
          "text": [
            "Epoch 63/100, Train Loss: 0.7904, Val Loss: 1.0068, Perplexity: 2.74\n"
          ]
        },
        {
          "output_type": "stream",
          "name": "stderr",
          "text": [
            "Training: 100%|██████████| 385/385 [00:02<00:00, 136.40it/s, loss=0.6851]\n"
          ]
        },
        {
          "output_type": "stream",
          "name": "stdout",
          "text": [
            "Epoch 64/100, Train Loss: 0.7687, Val Loss: 0.9946, Perplexity: 2.70\n"
          ]
        },
        {
          "output_type": "stream",
          "name": "stderr",
          "text": [
            "Training: 100%|██████████| 385/385 [00:02<00:00, 137.87it/s, loss=0.6574]\n"
          ]
        },
        {
          "output_type": "stream",
          "name": "stdout",
          "text": [
            "Epoch 65/100, Train Loss: 0.7627, Val Loss: 0.9967, Perplexity: 2.71\n"
          ]
        },
        {
          "output_type": "stream",
          "name": "stderr",
          "text": [
            "Training: 100%|██████████| 385/385 [00:02<00:00, 138.09it/s, loss=0.8057]\n"
          ]
        },
        {
          "output_type": "stream",
          "name": "stdout",
          "text": [
            "Epoch 66/100, Train Loss: 0.7650, Val Loss: 0.9942, Perplexity: 2.70\n"
          ]
        },
        {
          "output_type": "stream",
          "name": "stderr",
          "text": [
            "Training: 100%|██████████| 385/385 [00:03<00:00, 125.17it/s, loss=0.8070]\n"
          ]
        },
        {
          "output_type": "stream",
          "name": "stdout",
          "text": [
            "Epoch 67/100, Train Loss: 0.7634, Val Loss: 0.9964, Perplexity: 2.71\n"
          ]
        },
        {
          "output_type": "stream",
          "name": "stderr",
          "text": [
            "Training: 100%|██████████| 385/385 [00:02<00:00, 128.37it/s, loss=0.7729]\n"
          ]
        },
        {
          "output_type": "stream",
          "name": "stdout",
          "text": [
            "Epoch 68/100, Train Loss: 0.7612, Val Loss: 0.9971, Perplexity: 2.71\n"
          ]
        },
        {
          "output_type": "stream",
          "name": "stderr",
          "text": [
            "Training: 100%|██████████| 385/385 [00:02<00:00, 138.20it/s, loss=0.7526]\n"
          ]
        },
        {
          "output_type": "stream",
          "name": "stdout",
          "text": [
            "Epoch 69/100, Train Loss: 0.7624, Val Loss: 0.9959, Perplexity: 2.71\n"
          ]
        },
        {
          "output_type": "stream",
          "name": "stderr",
          "text": [
            "Training: 100%|██████████| 385/385 [00:02<00:00, 137.84it/s, loss=0.7277]\n"
          ]
        },
        {
          "output_type": "stream",
          "name": "stdout",
          "text": [
            "Epoch 70/100, Train Loss: 0.7600, Val Loss: 0.9967, Perplexity: 2.71\n"
          ]
        },
        {
          "output_type": "stream",
          "name": "stderr",
          "text": [
            "Training: 100%|██████████| 385/385 [00:02<00:00, 130.45it/s, loss=0.9173]\n"
          ]
        },
        {
          "output_type": "stream",
          "name": "stdout",
          "text": [
            "Epoch 71/100, Train Loss: 0.7491, Val Loss: 0.9925, Perplexity: 2.70\n"
          ]
        },
        {
          "output_type": "stream",
          "name": "stderr",
          "text": [
            "Training: 100%|██████████| 385/385 [00:03<00:00, 117.85it/s, loss=0.6971]\n"
          ]
        },
        {
          "output_type": "stream",
          "name": "stdout",
          "text": [
            "Epoch 72/100, Train Loss: 0.7479, Val Loss: 0.9926, Perplexity: 2.70\n"
          ]
        },
        {
          "output_type": "stream",
          "name": "stderr",
          "text": [
            "Training: 100%|██████████| 385/385 [00:02<00:00, 135.12it/s, loss=0.7675]\n"
          ]
        },
        {
          "output_type": "stream",
          "name": "stdout",
          "text": [
            "Epoch 73/100, Train Loss: 0.7485, Val Loss: 0.9900, Perplexity: 2.69\n"
          ]
        },
        {
          "output_type": "stream",
          "name": "stderr",
          "text": [
            "Training: 100%|██████████| 385/385 [00:02<00:00, 136.64it/s, loss=0.7452]\n"
          ]
        },
        {
          "output_type": "stream",
          "name": "stdout",
          "text": [
            "Epoch 74/100, Train Loss: 0.7468, Val Loss: 0.9923, Perplexity: 2.70\n"
          ]
        },
        {
          "output_type": "stream",
          "name": "stderr",
          "text": [
            "Training: 100%|██████████| 385/385 [00:02<00:00, 133.54it/s, loss=0.6809]\n"
          ]
        },
        {
          "output_type": "stream",
          "name": "stdout",
          "text": [
            "Epoch 75/100, Train Loss: 0.7476, Val Loss: 0.9951, Perplexity: 2.71\n"
          ]
        },
        {
          "output_type": "stream",
          "name": "stderr",
          "text": [
            "Training: 100%|██████████| 385/385 [00:03<00:00, 118.25it/s, loss=0.8705]\n"
          ]
        },
        {
          "output_type": "stream",
          "name": "stdout",
          "text": [
            "Epoch 76/100, Train Loss: 0.7457, Val Loss: 0.9924, Perplexity: 2.70\n"
          ]
        },
        {
          "output_type": "stream",
          "name": "stderr",
          "text": [
            "Training: 100%|██████████| 385/385 [00:02<00:00, 136.77it/s, loss=0.5952]\n"
          ]
        },
        {
          "output_type": "stream",
          "name": "stdout",
          "text": [
            "Epoch 77/100, Train Loss: 0.7450, Val Loss: 0.9928, Perplexity: 2.70\n"
          ]
        },
        {
          "output_type": "stream",
          "name": "stderr",
          "text": [
            "Training: 100%|██████████| 385/385 [00:02<00:00, 137.81it/s, loss=0.7523]\n"
          ]
        },
        {
          "output_type": "stream",
          "name": "stdout",
          "text": [
            "Epoch 78/100, Train Loss: 0.7376, Val Loss: 0.9907, Perplexity: 2.69\n",
            "Early stopping at epoch 78\n",
            "\n",
            "===== Training RNN_EMB =====\n",
            "\n"
          ]
        },
        {
          "output_type": "stream",
          "name": "stderr",
          "text": [
            "Training: 100%|██████████| 385/385 [00:02<00:00, 139.96it/s, loss=4.3296]\n"
          ]
        },
        {
          "output_type": "stream",
          "name": "stdout",
          "text": [
            "Epoch 1/100, Train Loss: 4.4169, Val Loss: 3.8044, Perplexity: 44.90\n"
          ]
        },
        {
          "output_type": "stream",
          "name": "stderr",
          "text": [
            "Training: 100%|██████████| 385/385 [00:03<00:00, 118.26it/s, loss=3.5571]\n"
          ]
        },
        {
          "output_type": "stream",
          "name": "stdout",
          "text": [
            "Epoch 2/100, Train Loss: 3.6621, Val Loss: 3.2447, Perplexity: 25.65\n"
          ]
        },
        {
          "output_type": "stream",
          "name": "stderr",
          "text": [
            "Training: 100%|██████████| 385/385 [00:02<00:00, 134.30it/s, loss=3.0243]\n"
          ]
        },
        {
          "output_type": "stream",
          "name": "stdout",
          "text": [
            "Epoch 3/100, Train Loss: 3.2402, Val Loss: 2.8412, Perplexity: 17.14\n"
          ]
        },
        {
          "output_type": "stream",
          "name": "stderr",
          "text": [
            "Training: 100%|██████████| 385/385 [00:02<00:00, 138.06it/s, loss=2.9626]\n"
          ]
        },
        {
          "output_type": "stream",
          "name": "stdout",
          "text": [
            "Epoch 4/100, Train Loss: 2.9472, Val Loss: 2.5574, Perplexity: 12.90\n"
          ]
        },
        {
          "output_type": "stream",
          "name": "stderr",
          "text": [
            "Training: 100%|██████████| 385/385 [00:02<00:00, 142.00it/s, loss=2.6902]\n"
          ]
        },
        {
          "output_type": "stream",
          "name": "stdout",
          "text": [
            "Epoch 5/100, Train Loss: 2.7290, Val Loss: 2.3442, Perplexity: 10.42\n"
          ]
        },
        {
          "output_type": "stream",
          "name": "stderr",
          "text": [
            "Training: 100%|██████████| 385/385 [00:02<00:00, 132.39it/s, loss=2.6201]\n"
          ]
        },
        {
          "output_type": "stream",
          "name": "stdout",
          "text": [
            "Epoch 6/100, Train Loss: 2.5671, Val Loss: 2.1775, Perplexity: 8.82\n"
          ]
        },
        {
          "output_type": "stream",
          "name": "stderr",
          "text": [
            "Training: 100%|██████████| 385/385 [00:03<00:00, 127.88it/s, loss=2.5543]\n"
          ]
        },
        {
          "output_type": "stream",
          "name": "stdout",
          "text": [
            "Epoch 7/100, Train Loss: 2.4375, Val Loss: 2.0536, Perplexity: 7.80\n"
          ]
        },
        {
          "output_type": "stream",
          "name": "stderr",
          "text": [
            "Training: 100%|██████████| 385/385 [00:02<00:00, 131.76it/s, loss=2.4126]\n"
          ]
        },
        {
          "output_type": "stream",
          "name": "stdout",
          "text": [
            "Epoch 8/100, Train Loss: 2.3352, Val Loss: 1.9362, Perplexity: 6.93\n"
          ]
        },
        {
          "output_type": "stream",
          "name": "stderr",
          "text": [
            "Training: 100%|██████████| 385/385 [00:02<00:00, 139.24it/s, loss=2.3155]\n"
          ]
        },
        {
          "output_type": "stream",
          "name": "stdout",
          "text": [
            "Epoch 9/100, Train Loss: 2.2424, Val Loss: 1.8534, Perplexity: 6.38\n"
          ]
        },
        {
          "output_type": "stream",
          "name": "stderr",
          "text": [
            "Training: 100%|██████████| 385/385 [00:02<00:00, 137.50it/s, loss=2.0502]\n"
          ]
        },
        {
          "output_type": "stream",
          "name": "stdout",
          "text": [
            "Epoch 10/100, Train Loss: 2.1719, Val Loss: 1.7691, Perplexity: 5.87\n"
          ]
        },
        {
          "output_type": "stream",
          "name": "stderr",
          "text": [
            "Training: 100%|██████████| 385/385 [00:03<00:00, 119.58it/s, loss=2.1676]\n"
          ]
        },
        {
          "output_type": "stream",
          "name": "stdout",
          "text": [
            "Epoch 11/100, Train Loss: 2.1038, Val Loss: 1.7258, Perplexity: 5.62\n"
          ]
        },
        {
          "output_type": "stream",
          "name": "stderr",
          "text": [
            "Training: 100%|██████████| 385/385 [00:02<00:00, 138.47it/s, loss=2.2867]\n"
          ]
        },
        {
          "output_type": "stream",
          "name": "stdout",
          "text": [
            "Epoch 12/100, Train Loss: 2.0461, Val Loss: 1.6535, Perplexity: 5.23\n"
          ]
        },
        {
          "output_type": "stream",
          "name": "stderr",
          "text": [
            "Training: 100%|██████████| 385/385 [00:02<00:00, 134.71it/s, loss=2.0630]\n"
          ]
        },
        {
          "output_type": "stream",
          "name": "stdout",
          "text": [
            "Epoch 13/100, Train Loss: 1.9942, Val Loss: 1.6176, Perplexity: 5.04\n"
          ]
        },
        {
          "output_type": "stream",
          "name": "stderr",
          "text": [
            "Training: 100%|██████████| 385/385 [00:02<00:00, 136.51it/s, loss=1.9044]\n"
          ]
        },
        {
          "output_type": "stream",
          "name": "stdout",
          "text": [
            "Epoch 14/100, Train Loss: 1.9505, Val Loss: 1.5723, Perplexity: 4.82\n"
          ]
        },
        {
          "output_type": "stream",
          "name": "stderr",
          "text": [
            "Training: 100%|██████████| 385/385 [00:03<00:00, 122.23it/s, loss=1.8926]\n"
          ]
        },
        {
          "output_type": "stream",
          "name": "stdout",
          "text": [
            "Epoch 15/100, Train Loss: 1.9132, Val Loss: 1.5318, Perplexity: 4.63\n"
          ]
        },
        {
          "output_type": "stream",
          "name": "stderr",
          "text": [
            "Training: 100%|██████████| 385/385 [00:02<00:00, 129.05it/s, loss=1.7696]\n"
          ]
        },
        {
          "output_type": "stream",
          "name": "stdout",
          "text": [
            "Epoch 16/100, Train Loss: 1.8757, Val Loss: 1.4978, Perplexity: 4.47\n"
          ]
        },
        {
          "output_type": "stream",
          "name": "stderr",
          "text": [
            "Training: 100%|██████████| 385/385 [00:02<00:00, 140.64it/s, loss=2.0248]\n"
          ]
        },
        {
          "output_type": "stream",
          "name": "stdout",
          "text": [
            "Epoch 17/100, Train Loss: 1.8449, Val Loss: 1.4827, Perplexity: 4.40\n"
          ]
        },
        {
          "output_type": "stream",
          "name": "stderr",
          "text": [
            "Training: 100%|██████████| 385/385 [00:02<00:00, 134.70it/s, loss=1.9163]\n"
          ]
        },
        {
          "output_type": "stream",
          "name": "stdout",
          "text": [
            "Epoch 18/100, Train Loss: 1.8153, Val Loss: 1.4362, Perplexity: 4.20\n"
          ]
        },
        {
          "output_type": "stream",
          "name": "stderr",
          "text": [
            "Training: 100%|██████████| 385/385 [00:02<00:00, 134.90it/s, loss=1.8390]\n"
          ]
        },
        {
          "output_type": "stream",
          "name": "stdout",
          "text": [
            "Epoch 19/100, Train Loss: 1.7866, Val Loss: 1.4181, Perplexity: 4.13\n"
          ]
        },
        {
          "output_type": "stream",
          "name": "stderr",
          "text": [
            "Training: 100%|██████████| 385/385 [00:03<00:00, 123.55it/s, loss=2.1168]\n"
          ]
        },
        {
          "output_type": "stream",
          "name": "stdout",
          "text": [
            "Epoch 20/100, Train Loss: 1.7645, Val Loss: 1.3969, Perplexity: 4.04\n"
          ]
        },
        {
          "output_type": "stream",
          "name": "stderr",
          "text": [
            "Training: 100%|██████████| 385/385 [00:02<00:00, 137.20it/s, loss=1.7466]\n"
          ]
        },
        {
          "output_type": "stream",
          "name": "stdout",
          "text": [
            "Epoch 21/100, Train Loss: 1.7426, Val Loss: 1.3789, Perplexity: 3.97\n"
          ]
        },
        {
          "output_type": "stream",
          "name": "stderr",
          "text": [
            "Training: 100%|██████████| 385/385 [00:02<00:00, 135.48it/s, loss=1.8837]\n"
          ]
        },
        {
          "output_type": "stream",
          "name": "stdout",
          "text": [
            "Epoch 22/100, Train Loss: 1.7237, Val Loss: 1.3569, Perplexity: 3.88\n"
          ]
        },
        {
          "output_type": "stream",
          "name": "stderr",
          "text": [
            "Training: 100%|██████████| 385/385 [00:02<00:00, 137.19it/s, loss=1.7184]\n"
          ]
        },
        {
          "output_type": "stream",
          "name": "stdout",
          "text": [
            "Epoch 23/100, Train Loss: 1.7031, Val Loss: 1.3392, Perplexity: 3.82\n"
          ]
        },
        {
          "output_type": "stream",
          "name": "stderr",
          "text": [
            "Training: 100%|██████████| 385/385 [00:03<00:00, 117.00it/s, loss=1.6058]\n"
          ]
        },
        {
          "output_type": "stream",
          "name": "stdout",
          "text": [
            "Epoch 24/100, Train Loss: 1.6860, Val Loss: 1.3256, Perplexity: 3.76\n"
          ]
        },
        {
          "output_type": "stream",
          "name": "stderr",
          "text": [
            "Training: 100%|██████████| 385/385 [00:02<00:00, 135.45it/s, loss=1.4949]\n"
          ]
        },
        {
          "output_type": "stream",
          "name": "stdout",
          "text": [
            "Epoch 25/100, Train Loss: 1.6694, Val Loss: 1.3122, Perplexity: 3.71\n"
          ]
        },
        {
          "output_type": "stream",
          "name": "stderr",
          "text": [
            "Training: 100%|██████████| 385/385 [00:02<00:00, 140.06it/s, loss=1.6192]\n"
          ]
        },
        {
          "output_type": "stream",
          "name": "stdout",
          "text": [
            "Epoch 26/100, Train Loss: 1.6539, Val Loss: 1.3120, Perplexity: 3.71\n"
          ]
        },
        {
          "output_type": "stream",
          "name": "stderr",
          "text": [
            "Training: 100%|██████████| 385/385 [00:02<00:00, 137.23it/s, loss=1.6455]\n"
          ]
        },
        {
          "output_type": "stream",
          "name": "stdout",
          "text": [
            "Epoch 27/100, Train Loss: 1.6407, Val Loss: 1.2930, Perplexity: 3.64\n"
          ]
        },
        {
          "output_type": "stream",
          "name": "stderr",
          "text": [
            "Training: 100%|██████████| 385/385 [00:03<00:00, 128.17it/s, loss=1.5905]\n"
          ]
        },
        {
          "output_type": "stream",
          "name": "stdout",
          "text": [
            "Epoch 28/100, Train Loss: 1.6272, Val Loss: 1.2808, Perplexity: 3.60\n"
          ]
        },
        {
          "output_type": "stream",
          "name": "stderr",
          "text": [
            "Training: 100%|██████████| 385/385 [00:03<00:00, 126.42it/s, loss=1.7263]\n"
          ]
        },
        {
          "output_type": "stream",
          "name": "stdout",
          "text": [
            "Epoch 29/100, Train Loss: 1.6122, Val Loss: 1.2727, Perplexity: 3.57\n"
          ]
        },
        {
          "output_type": "stream",
          "name": "stderr",
          "text": [
            "Training: 100%|██████████| 385/385 [00:02<00:00, 136.49it/s, loss=1.6602]\n"
          ]
        },
        {
          "output_type": "stream",
          "name": "stdout",
          "text": [
            "Epoch 30/100, Train Loss: 1.5957, Val Loss: 1.2668, Perplexity: 3.55\n"
          ]
        },
        {
          "output_type": "stream",
          "name": "stderr",
          "text": [
            "Training: 100%|██████████| 385/385 [00:02<00:00, 140.59it/s, loss=1.6906]\n"
          ]
        },
        {
          "output_type": "stream",
          "name": "stdout",
          "text": [
            "Epoch 31/100, Train Loss: 1.5905, Val Loss: 1.2583, Perplexity: 3.52\n"
          ]
        },
        {
          "output_type": "stream",
          "name": "stderr",
          "text": [
            "Training: 100%|██████████| 385/385 [00:02<00:00, 141.13it/s, loss=1.5516]\n"
          ]
        },
        {
          "output_type": "stream",
          "name": "stdout",
          "text": [
            "Epoch 32/100, Train Loss: 1.5810, Val Loss: 1.2535, Perplexity: 3.50\n"
          ]
        },
        {
          "output_type": "stream",
          "name": "stderr",
          "text": [
            "Training: 100%|██████████| 385/385 [00:03<00:00, 126.64it/s, loss=1.3127]\n"
          ]
        },
        {
          "output_type": "stream",
          "name": "stdout",
          "text": [
            "Epoch 33/100, Train Loss: 1.5697, Val Loss: 1.2561, Perplexity: 3.51\n"
          ]
        },
        {
          "output_type": "stream",
          "name": "stderr",
          "text": [
            "Training: 100%|██████████| 385/385 [00:02<00:00, 132.01it/s, loss=1.6218]\n"
          ]
        },
        {
          "output_type": "stream",
          "name": "stdout",
          "text": [
            "Epoch 34/100, Train Loss: 1.5611, Val Loss: 1.2422, Perplexity: 3.46\n"
          ]
        },
        {
          "output_type": "stream",
          "name": "stderr",
          "text": [
            "Training: 100%|██████████| 385/385 [00:02<00:00, 136.93it/s, loss=1.3610]\n"
          ]
        },
        {
          "output_type": "stream",
          "name": "stdout",
          "text": [
            "Epoch 35/100, Train Loss: 1.5520, Val Loss: 1.2348, Perplexity: 3.44\n"
          ]
        },
        {
          "output_type": "stream",
          "name": "stderr",
          "text": [
            "Training: 100%|██████████| 385/385 [00:02<00:00, 142.43it/s, loss=1.4413]\n"
          ]
        },
        {
          "output_type": "stream",
          "name": "stdout",
          "text": [
            "Epoch 36/100, Train Loss: 1.5438, Val Loss: 1.2297, Perplexity: 3.42\n"
          ]
        },
        {
          "output_type": "stream",
          "name": "stderr",
          "text": [
            "Training: 100%|██████████| 385/385 [00:03<00:00, 127.24it/s, loss=1.4211]\n"
          ]
        },
        {
          "output_type": "stream",
          "name": "stdout",
          "text": [
            "Epoch 37/100, Train Loss: 1.5341, Val Loss: 1.2245, Perplexity: 3.40\n"
          ]
        },
        {
          "output_type": "stream",
          "name": "stderr",
          "text": [
            "Training: 100%|██████████| 385/385 [00:03<00:00, 124.91it/s, loss=1.8512]\n"
          ]
        },
        {
          "output_type": "stream",
          "name": "stdout",
          "text": [
            "Epoch 38/100, Train Loss: 1.5247, Val Loss: 1.2160, Perplexity: 3.37\n"
          ]
        },
        {
          "output_type": "stream",
          "name": "stderr",
          "text": [
            "Training: 100%|██████████| 385/385 [00:02<00:00, 139.77it/s, loss=1.9067]\n"
          ]
        },
        {
          "output_type": "stream",
          "name": "stdout",
          "text": [
            "Epoch 39/100, Train Loss: 1.5205, Val Loss: 1.2014, Perplexity: 3.32\n"
          ]
        },
        {
          "output_type": "stream",
          "name": "stderr",
          "text": [
            "Training: 100%|██████████| 385/385 [00:02<00:00, 138.04it/s, loss=1.6244]\n"
          ]
        },
        {
          "output_type": "stream",
          "name": "stdout",
          "text": [
            "Epoch 40/100, Train Loss: 1.5139, Val Loss: 1.2011, Perplexity: 3.32\n"
          ]
        },
        {
          "output_type": "stream",
          "name": "stderr",
          "text": [
            "Training: 100%|██████████| 385/385 [00:02<00:00, 138.86it/s, loss=1.5061]\n"
          ]
        },
        {
          "output_type": "stream",
          "name": "stdout",
          "text": [
            "Epoch 41/100, Train Loss: 1.5058, Val Loss: 1.1942, Perplexity: 3.30\n"
          ]
        },
        {
          "output_type": "stream",
          "name": "stderr",
          "text": [
            "Training: 100%|██████████| 385/385 [00:03<00:00, 115.82it/s, loss=1.6627]\n"
          ]
        },
        {
          "output_type": "stream",
          "name": "stdout",
          "text": [
            "Epoch 42/100, Train Loss: 1.5010, Val Loss: 1.1922, Perplexity: 3.29\n"
          ]
        },
        {
          "output_type": "stream",
          "name": "stderr",
          "text": [
            "Training: 100%|██████████| 385/385 [00:02<00:00, 133.83it/s, loss=1.2354]\n"
          ]
        },
        {
          "output_type": "stream",
          "name": "stdout",
          "text": [
            "Epoch 43/100, Train Loss: 1.4960, Val Loss: 1.1931, Perplexity: 3.30\n"
          ]
        },
        {
          "output_type": "stream",
          "name": "stderr",
          "text": [
            "Training: 100%|██████████| 385/385 [00:02<00:00, 134.92it/s, loss=1.7231]\n"
          ]
        },
        {
          "output_type": "stream",
          "name": "stdout",
          "text": [
            "Epoch 44/100, Train Loss: 1.4891, Val Loss: 1.1848, Perplexity: 3.27\n"
          ]
        },
        {
          "output_type": "stream",
          "name": "stderr",
          "text": [
            "Training: 100%|██████████| 385/385 [00:02<00:00, 140.50it/s, loss=1.4489]\n"
          ]
        },
        {
          "output_type": "stream",
          "name": "stdout",
          "text": [
            "Epoch 45/100, Train Loss: 1.4817, Val Loss: 1.1927, Perplexity: 3.30\n"
          ]
        },
        {
          "output_type": "stream",
          "name": "stderr",
          "text": [
            "Training: 100%|██████████| 385/385 [00:03<00:00, 127.90it/s, loss=1.4342]\n"
          ]
        },
        {
          "output_type": "stream",
          "name": "stdout",
          "text": [
            "Epoch 46/100, Train Loss: 1.4761, Val Loss: 1.1830, Perplexity: 3.26\n"
          ]
        },
        {
          "output_type": "stream",
          "name": "stderr",
          "text": [
            "Training: 100%|██████████| 385/385 [00:03<00:00, 120.47it/s, loss=1.8019]\n"
          ]
        },
        {
          "output_type": "stream",
          "name": "stdout",
          "text": [
            "Epoch 47/100, Train Loss: 1.4722, Val Loss: 1.1807, Perplexity: 3.26\n"
          ]
        },
        {
          "output_type": "stream",
          "name": "stderr",
          "text": [
            "Training: 100%|██████████| 385/385 [00:02<00:00, 136.92it/s, loss=1.6752]\n"
          ]
        },
        {
          "output_type": "stream",
          "name": "stdout",
          "text": [
            "Epoch 48/100, Train Loss: 1.4658, Val Loss: 1.1705, Perplexity: 3.22\n"
          ]
        },
        {
          "output_type": "stream",
          "name": "stderr",
          "text": [
            "Training: 100%|██████████| 385/385 [00:02<00:00, 137.92it/s, loss=1.5727]\n"
          ]
        },
        {
          "output_type": "stream",
          "name": "stdout",
          "text": [
            "Epoch 49/100, Train Loss: 1.4618, Val Loss: 1.1689, Perplexity: 3.22\n"
          ]
        },
        {
          "output_type": "stream",
          "name": "stderr",
          "text": [
            "Training: 100%|██████████| 385/385 [00:02<00:00, 134.68it/s, loss=1.3691]\n"
          ]
        },
        {
          "output_type": "stream",
          "name": "stdout",
          "text": [
            "Epoch 50/100, Train Loss: 1.4584, Val Loss: 1.1669, Perplexity: 3.21\n"
          ]
        },
        {
          "output_type": "stream",
          "name": "stderr",
          "text": [
            "Training: 100%|██████████| 385/385 [00:03<00:00, 121.10it/s, loss=1.6039]\n"
          ]
        },
        {
          "output_type": "stream",
          "name": "stdout",
          "text": [
            "Epoch 51/100, Train Loss: 1.4503, Val Loss: 1.1683, Perplexity: 3.22\n"
          ]
        },
        {
          "output_type": "stream",
          "name": "stderr",
          "text": [
            "Training: 100%|██████████| 385/385 [00:02<00:00, 132.87it/s, loss=1.3629]\n"
          ]
        },
        {
          "output_type": "stream",
          "name": "stdout",
          "text": [
            "Epoch 52/100, Train Loss: 1.4471, Val Loss: 1.1582, Perplexity: 3.18\n"
          ]
        },
        {
          "output_type": "stream",
          "name": "stderr",
          "text": [
            "Training: 100%|██████████| 385/385 [00:02<00:00, 137.90it/s, loss=1.5408]\n"
          ]
        },
        {
          "output_type": "stream",
          "name": "stdout",
          "text": [
            "Epoch 53/100, Train Loss: 1.4396, Val Loss: 1.1547, Perplexity: 3.17\n"
          ]
        },
        {
          "output_type": "stream",
          "name": "stderr",
          "text": [
            "Training: 100%|██████████| 385/385 [00:02<00:00, 133.22it/s, loss=1.7367]\n"
          ]
        },
        {
          "output_type": "stream",
          "name": "stdout",
          "text": [
            "Epoch 54/100, Train Loss: 1.4392, Val Loss: 1.1596, Perplexity: 3.19\n"
          ]
        },
        {
          "output_type": "stream",
          "name": "stderr",
          "text": [
            "Training: 100%|██████████| 385/385 [00:02<00:00, 130.90it/s, loss=1.4777]\n"
          ]
        },
        {
          "output_type": "stream",
          "name": "stdout",
          "text": [
            "Epoch 55/100, Train Loss: 1.4317, Val Loss: 1.1507, Perplexity: 3.16\n"
          ]
        },
        {
          "output_type": "stream",
          "name": "stderr",
          "text": [
            "Training: 100%|██████████| 385/385 [00:03<00:00, 118.93it/s, loss=1.6343]\n"
          ]
        },
        {
          "output_type": "stream",
          "name": "stdout",
          "text": [
            "Epoch 56/100, Train Loss: 1.4330, Val Loss: 1.1465, Perplexity: 3.15\n"
          ]
        },
        {
          "output_type": "stream",
          "name": "stderr",
          "text": [
            "Training: 100%|██████████| 385/385 [00:02<00:00, 139.59it/s, loss=1.2192]\n"
          ]
        },
        {
          "output_type": "stream",
          "name": "stdout",
          "text": [
            "Epoch 57/100, Train Loss: 1.4297, Val Loss: 1.1519, Perplexity: 3.16\n"
          ]
        },
        {
          "output_type": "stream",
          "name": "stderr",
          "text": [
            "Training: 100%|██████████| 385/385 [00:02<00:00, 140.97it/s, loss=1.1751]\n"
          ]
        },
        {
          "output_type": "stream",
          "name": "stdout",
          "text": [
            "Epoch 58/100, Train Loss: 1.4242, Val Loss: 1.1465, Perplexity: 3.15\n"
          ]
        },
        {
          "output_type": "stream",
          "name": "stderr",
          "text": [
            "Training: 100%|██████████| 385/385 [00:02<00:00, 136.94it/s, loss=1.3641]\n"
          ]
        },
        {
          "output_type": "stream",
          "name": "stdout",
          "text": [
            "Epoch 59/100, Train Loss: 1.4210, Val Loss: 1.1483, Perplexity: 3.15\n"
          ]
        },
        {
          "output_type": "stream",
          "name": "stderr",
          "text": [
            "Training: 100%|██████████| 385/385 [00:03<00:00, 121.56it/s, loss=1.4844]\n"
          ]
        },
        {
          "output_type": "stream",
          "name": "stdout",
          "text": [
            "Epoch 60/100, Train Loss: 1.4193, Val Loss: 1.1470, Perplexity: 3.15\n"
          ]
        },
        {
          "output_type": "stream",
          "name": "stderr",
          "text": [
            "Training: 100%|██████████| 385/385 [00:03<00:00, 126.17it/s, loss=1.4111]\n"
          ]
        },
        {
          "output_type": "stream",
          "name": "stdout",
          "text": [
            "Epoch 61/100, Train Loss: 1.3259, Val Loss: 1.0876, Perplexity: 2.97\n"
          ]
        },
        {
          "output_type": "stream",
          "name": "stderr",
          "text": [
            "Training: 100%|██████████| 385/385 [00:02<00:00, 138.19it/s, loss=1.2586]\n"
          ]
        },
        {
          "output_type": "stream",
          "name": "stdout",
          "text": [
            "Epoch 62/100, Train Loss: 1.2856, Val Loss: 1.0727, Perplexity: 2.92\n"
          ]
        },
        {
          "output_type": "stream",
          "name": "stderr",
          "text": [
            "Training: 100%|██████████| 385/385 [00:03<00:00, 128.33it/s, loss=1.0398]\n"
          ]
        },
        {
          "output_type": "stream",
          "name": "stdout",
          "text": [
            "Epoch 63/100, Train Loss: 1.2680, Val Loss: 1.0694, Perplexity: 2.91\n"
          ]
        },
        {
          "output_type": "stream",
          "name": "stderr",
          "text": [
            "Training: 100%|██████████| 385/385 [00:02<00:00, 129.68it/s, loss=1.0615]\n"
          ]
        },
        {
          "output_type": "stream",
          "name": "stdout",
          "text": [
            "Epoch 64/100, Train Loss: 1.2557, Val Loss: 1.0587, Perplexity: 2.88\n"
          ]
        },
        {
          "output_type": "stream",
          "name": "stderr",
          "text": [
            "Training: 100%|██████████| 385/385 [00:03<00:00, 116.48it/s, loss=1.1813]\n"
          ]
        },
        {
          "output_type": "stream",
          "name": "stdout",
          "text": [
            "Epoch 65/100, Train Loss: 1.2519, Val Loss: 1.0543, Perplexity: 2.87\n"
          ]
        },
        {
          "output_type": "stream",
          "name": "stderr",
          "text": [
            "Training: 100%|██████████| 385/385 [00:02<00:00, 137.81it/s, loss=1.3625]\n"
          ]
        },
        {
          "output_type": "stream",
          "name": "stdout",
          "text": [
            "Epoch 66/100, Train Loss: 1.2421, Val Loss: 1.0555, Perplexity: 2.87\n"
          ]
        },
        {
          "output_type": "stream",
          "name": "stderr",
          "text": [
            "Training: 100%|██████████| 385/385 [00:02<00:00, 139.73it/s, loss=1.2432]\n"
          ]
        },
        {
          "output_type": "stream",
          "name": "stdout",
          "text": [
            "Epoch 67/100, Train Loss: 1.2363, Val Loss: 1.0523, Perplexity: 2.86\n"
          ]
        },
        {
          "output_type": "stream",
          "name": "stderr",
          "text": [
            "Training: 100%|██████████| 385/385 [00:02<00:00, 136.63it/s, loss=1.1226]\n"
          ]
        },
        {
          "output_type": "stream",
          "name": "stdout",
          "text": [
            "Epoch 68/100, Train Loss: 1.2319, Val Loss: 1.0487, Perplexity: 2.85\n"
          ]
        },
        {
          "output_type": "stream",
          "name": "stderr",
          "text": [
            "Training: 100%|██████████| 385/385 [00:02<00:00, 131.05it/s, loss=1.0129]\n"
          ]
        },
        {
          "output_type": "stream",
          "name": "stdout",
          "text": [
            "Epoch 69/100, Train Loss: 1.2267, Val Loss: 1.0441, Perplexity: 2.84\n"
          ]
        },
        {
          "output_type": "stream",
          "name": "stderr",
          "text": [
            "Training: 100%|██████████| 385/385 [00:03<00:00, 125.84it/s, loss=1.2512]\n"
          ]
        },
        {
          "output_type": "stream",
          "name": "stdout",
          "text": [
            "Epoch 70/100, Train Loss: 1.2191, Val Loss: 1.0430, Perplexity: 2.84\n"
          ]
        },
        {
          "output_type": "stream",
          "name": "stderr",
          "text": [
            "Training: 100%|██████████| 385/385 [00:02<00:00, 133.25it/s, loss=1.2617]\n"
          ]
        },
        {
          "output_type": "stream",
          "name": "stdout",
          "text": [
            "Epoch 71/100, Train Loss: 1.2162, Val Loss: 1.0426, Perplexity: 2.84\n"
          ]
        },
        {
          "output_type": "stream",
          "name": "stderr",
          "text": [
            "Training: 100%|██████████| 385/385 [00:02<00:00, 136.46it/s, loss=1.3274]\n"
          ]
        },
        {
          "output_type": "stream",
          "name": "stdout",
          "text": [
            "Epoch 72/100, Train Loss: 1.2127, Val Loss: 1.0385, Perplexity: 2.83\n"
          ]
        },
        {
          "output_type": "stream",
          "name": "stderr",
          "text": [
            "Training: 100%|██████████| 385/385 [00:02<00:00, 135.40it/s, loss=1.0992]\n"
          ]
        },
        {
          "output_type": "stream",
          "name": "stdout",
          "text": [
            "Epoch 73/100, Train Loss: 1.2084, Val Loss: 1.0342, Perplexity: 2.81\n"
          ]
        },
        {
          "output_type": "stream",
          "name": "stderr",
          "text": [
            "Training: 100%|██████████| 385/385 [00:03<00:00, 127.80it/s, loss=1.1349]\n"
          ]
        },
        {
          "output_type": "stream",
          "name": "stdout",
          "text": [
            "Epoch 74/100, Train Loss: 1.2008, Val Loss: 1.0381, Perplexity: 2.82\n"
          ]
        },
        {
          "output_type": "stream",
          "name": "stderr",
          "text": [
            "Training: 100%|██████████| 385/385 [00:03<00:00, 123.27it/s, loss=0.9926]\n"
          ]
        },
        {
          "output_type": "stream",
          "name": "stdout",
          "text": [
            "Epoch 75/100, Train Loss: 1.2013, Val Loss: 1.0365, Perplexity: 2.82\n"
          ]
        },
        {
          "output_type": "stream",
          "name": "stderr",
          "text": [
            "Training: 100%|██████████| 385/385 [00:02<00:00, 135.49it/s, loss=1.3101]\n"
          ]
        },
        {
          "output_type": "stream",
          "name": "stdout",
          "text": [
            "Epoch 76/100, Train Loss: 1.1995, Val Loss: 1.0393, Perplexity: 2.83\n"
          ]
        },
        {
          "output_type": "stream",
          "name": "stderr",
          "text": [
            "Training: 100%|██████████| 385/385 [00:02<00:00, 133.60it/s, loss=1.3619]\n"
          ]
        },
        {
          "output_type": "stream",
          "name": "stdout",
          "text": [
            "Epoch 77/100, Train Loss: 1.1916, Val Loss: 1.0286, Perplexity: 2.80\n"
          ]
        },
        {
          "output_type": "stream",
          "name": "stderr",
          "text": [
            "Training: 100%|██████████| 385/385 [00:02<00:00, 133.28it/s, loss=1.2627]\n"
          ]
        },
        {
          "output_type": "stream",
          "name": "stdout",
          "text": [
            "Epoch 78/100, Train Loss: 1.1912, Val Loss: 1.0322, Perplexity: 2.81\n"
          ]
        },
        {
          "output_type": "stream",
          "name": "stderr",
          "text": [
            "Training: 100%|██████████| 385/385 [00:03<00:00, 123.43it/s, loss=0.9271]\n"
          ]
        },
        {
          "output_type": "stream",
          "name": "stdout",
          "text": [
            "Epoch 79/100, Train Loss: 1.1863, Val Loss: 1.0319, Perplexity: 2.81\n"
          ]
        },
        {
          "output_type": "stream",
          "name": "stderr",
          "text": [
            "Training: 100%|██████████| 385/385 [00:02<00:00, 134.14it/s, loss=1.1758]\n"
          ]
        },
        {
          "output_type": "stream",
          "name": "stdout",
          "text": [
            "Epoch 80/100, Train Loss: 1.1863, Val Loss: 1.0314, Perplexity: 2.81\n"
          ]
        },
        {
          "output_type": "stream",
          "name": "stderr",
          "text": [
            "Training: 100%|██████████| 385/385 [00:02<00:00, 136.13it/s, loss=1.0405]\n"
          ]
        },
        {
          "output_type": "stream",
          "name": "stdout",
          "text": [
            "Epoch 81/100, Train Loss: 1.1808, Val Loss: 1.0257, Perplexity: 2.79\n"
          ]
        },
        {
          "output_type": "stream",
          "name": "stderr",
          "text": [
            "Training: 100%|██████████| 385/385 [00:02<00:00, 135.46it/s, loss=1.2127]\n"
          ]
        },
        {
          "output_type": "stream",
          "name": "stdout",
          "text": [
            "Epoch 82/100, Train Loss: 1.1818, Val Loss: 1.0226, Perplexity: 2.78\n"
          ]
        },
        {
          "output_type": "stream",
          "name": "stderr",
          "text": [
            "Training: 100%|██████████| 385/385 [00:03<00:00, 124.06it/s, loss=1.2592]\n"
          ]
        },
        {
          "output_type": "stream",
          "name": "stdout",
          "text": [
            "Epoch 83/100, Train Loss: 1.1784, Val Loss: 1.0224, Perplexity: 2.78\n"
          ]
        },
        {
          "output_type": "stream",
          "name": "stderr",
          "text": [
            "Training: 100%|██████████| 385/385 [00:03<00:00, 121.64it/s, loss=1.3083]\n"
          ]
        },
        {
          "output_type": "stream",
          "name": "stdout",
          "text": [
            "Epoch 84/100, Train Loss: 1.1770, Val Loss: 1.0224, Perplexity: 2.78\n"
          ]
        },
        {
          "output_type": "stream",
          "name": "stderr",
          "text": [
            "Training: 100%|██████████| 385/385 [00:02<00:00, 138.72it/s, loss=1.0481]\n"
          ]
        },
        {
          "output_type": "stream",
          "name": "stdout",
          "text": [
            "Epoch 85/100, Train Loss: 1.1704, Val Loss: 1.0290, Perplexity: 2.80\n"
          ]
        },
        {
          "output_type": "stream",
          "name": "stderr",
          "text": [
            "Training: 100%|██████████| 385/385 [00:02<00:00, 132.36it/s, loss=1.3863]\n"
          ]
        },
        {
          "output_type": "stream",
          "name": "stdout",
          "text": [
            "Epoch 86/100, Train Loss: 1.1706, Val Loss: 1.0252, Perplexity: 2.79\n"
          ]
        },
        {
          "output_type": "stream",
          "name": "stderr",
          "text": [
            "Training: 100%|██████████| 385/385 [00:02<00:00, 131.19it/s, loss=1.2081]\n"
          ]
        },
        {
          "output_type": "stream",
          "name": "stdout",
          "text": [
            "Epoch 87/100, Train Loss: 1.1684, Val Loss: 1.0169, Perplexity: 2.76\n"
          ]
        },
        {
          "output_type": "stream",
          "name": "stderr",
          "text": [
            "Training: 100%|██████████| 385/385 [00:03<00:00, 119.48it/s, loss=1.1760]\n"
          ]
        },
        {
          "output_type": "stream",
          "name": "stdout",
          "text": [
            "Epoch 88/100, Train Loss: 1.1628, Val Loss: 1.0207, Perplexity: 2.78\n"
          ]
        },
        {
          "output_type": "stream",
          "name": "stderr",
          "text": [
            "Training: 100%|██████████| 385/385 [00:02<00:00, 128.61it/s, loss=1.2849]\n"
          ]
        },
        {
          "output_type": "stream",
          "name": "stdout",
          "text": [
            "Epoch 89/100, Train Loss: 1.1636, Val Loss: 1.0196, Perplexity: 2.77\n"
          ]
        },
        {
          "output_type": "stream",
          "name": "stderr",
          "text": [
            "Training: 100%|██████████| 385/385 [00:02<00:00, 137.62it/s, loss=1.1810]\n"
          ]
        },
        {
          "output_type": "stream",
          "name": "stdout",
          "text": [
            "Epoch 90/100, Train Loss: 1.1570, Val Loss: 1.0203, Perplexity: 2.77\n"
          ]
        },
        {
          "output_type": "stream",
          "name": "stderr",
          "text": [
            "Training: 100%|██████████| 385/385 [00:02<00:00, 139.01it/s, loss=1.0636]\n"
          ]
        },
        {
          "output_type": "stream",
          "name": "stdout",
          "text": [
            "Epoch 91/100, Train Loss: 1.1546, Val Loss: 1.0200, Perplexity: 2.77\n"
          ]
        },
        {
          "output_type": "stream",
          "name": "stderr",
          "text": [
            "Training: 100%|██████████| 385/385 [00:02<00:00, 131.67it/s, loss=1.2478]\n"
          ]
        },
        {
          "output_type": "stream",
          "name": "stdout",
          "text": [
            "Epoch 92/100, Train Loss: 1.1173, Val Loss: 0.9987, Perplexity: 2.71\n"
          ]
        },
        {
          "output_type": "stream",
          "name": "stderr",
          "text": [
            "Training: 100%|██████████| 385/385 [00:03<00:00, 118.28it/s, loss=0.9514]\n"
          ]
        },
        {
          "output_type": "stream",
          "name": "stdout",
          "text": [
            "Epoch 93/100, Train Loss: 1.1016, Val Loss: 0.9931, Perplexity: 2.70\n"
          ]
        },
        {
          "output_type": "stream",
          "name": "stderr",
          "text": [
            "Training: 100%|██████████| 385/385 [00:02<00:00, 130.89it/s, loss=1.1886]\n"
          ]
        },
        {
          "output_type": "stream",
          "name": "stdout",
          "text": [
            "Epoch 94/100, Train Loss: 1.0935, Val Loss: 0.9953, Perplexity: 2.71\n"
          ]
        },
        {
          "output_type": "stream",
          "name": "stderr",
          "text": [
            "Training: 100%|██████████| 385/385 [00:02<00:00, 132.41it/s, loss=1.1374]\n"
          ]
        },
        {
          "output_type": "stream",
          "name": "stdout",
          "text": [
            "Epoch 95/100, Train Loss: 1.0934, Val Loss: 0.9908, Perplexity: 2.69\n"
          ]
        },
        {
          "output_type": "stream",
          "name": "stderr",
          "text": [
            "Training: 100%|██████████| 385/385 [00:02<00:00, 138.56it/s, loss=1.0501]\n"
          ]
        },
        {
          "output_type": "stream",
          "name": "stdout",
          "text": [
            "Epoch 96/100, Train Loss: 1.0874, Val Loss: 0.9910, Perplexity: 2.69\n"
          ]
        },
        {
          "output_type": "stream",
          "name": "stderr",
          "text": [
            "Training: 100%|██████████| 385/385 [00:03<00:00, 126.11it/s, loss=1.1793]\n"
          ]
        },
        {
          "output_type": "stream",
          "name": "stdout",
          "text": [
            "Epoch 97/100, Train Loss: 1.0846, Val Loss: 0.9881, Perplexity: 2.69\n"
          ]
        },
        {
          "output_type": "stream",
          "name": "stderr",
          "text": [
            "Training: 100%|██████████| 385/385 [00:03<00:00, 119.94it/s, loss=1.0682]\n"
          ]
        },
        {
          "output_type": "stream",
          "name": "stdout",
          "text": [
            "Epoch 98/100, Train Loss: 1.0792, Val Loss: 0.9894, Perplexity: 2.69\n"
          ]
        },
        {
          "output_type": "stream",
          "name": "stderr",
          "text": [
            "Training: 100%|██████████| 385/385 [00:02<00:00, 136.37it/s, loss=0.9988]\n"
          ]
        },
        {
          "output_type": "stream",
          "name": "stdout",
          "text": [
            "Epoch 99/100, Train Loss: 1.0750, Val Loss: 0.9880, Perplexity: 2.69\n"
          ]
        },
        {
          "output_type": "stream",
          "name": "stderr",
          "text": [
            "Training: 100%|██████████| 385/385 [00:02<00:00, 136.97it/s, loss=0.9995]\n"
          ]
        },
        {
          "output_type": "stream",
          "name": "stdout",
          "text": [
            "Epoch 100/100, Train Loss: 1.0745, Val Loss: 0.9858, Perplexity: 2.68\n",
            "\n",
            "===== Training LSTM_OHE =====\n",
            "\n"
          ]
        },
        {
          "output_type": "stream",
          "name": "stderr",
          "text": [
            "Training: 100%|██████████| 385/385 [00:05<00:00, 68.22it/s, loss=4.6262]\n"
          ]
        },
        {
          "output_type": "stream",
          "name": "stdout",
          "text": [
            "Epoch 1/100, Train Loss: 5.0987, Val Loss: 4.7722, Perplexity: 118.18\n"
          ]
        },
        {
          "output_type": "stream",
          "name": "stderr",
          "text": [
            "Training: 100%|██████████| 385/385 [00:05<00:00, 69.33it/s, loss=4.4348]\n"
          ]
        },
        {
          "output_type": "stream",
          "name": "stdout",
          "text": [
            "Epoch 2/100, Train Loss: 4.5050, Val Loss: 4.2265, Perplexity: 68.48\n"
          ]
        },
        {
          "output_type": "stream",
          "name": "stderr",
          "text": [
            "Training: 100%|██████████| 385/385 [00:05<00:00, 69.01it/s, loss=3.5432]\n"
          ]
        },
        {
          "output_type": "stream",
          "name": "stdout",
          "text": [
            "Epoch 3/100, Train Loss: 4.0294, Val Loss: 3.8004, Perplexity: 44.72\n"
          ]
        },
        {
          "output_type": "stream",
          "name": "stderr",
          "text": [
            "Training: 100%|██████████| 385/385 [00:05<00:00, 67.85it/s, loss=3.3045]\n"
          ]
        },
        {
          "output_type": "stream",
          "name": "stdout",
          "text": [
            "Epoch 4/100, Train Loss: 3.5929, Val Loss: 3.3962, Perplexity: 29.85\n"
          ]
        },
        {
          "output_type": "stream",
          "name": "stderr",
          "text": [
            "Training: 100%|██████████| 385/385 [00:05<00:00, 68.87it/s, loss=3.1226]\n"
          ]
        },
        {
          "output_type": "stream",
          "name": "stdout",
          "text": [
            "Epoch 5/100, Train Loss: 3.1658, Val Loss: 3.0033, Perplexity: 20.15\n"
          ]
        },
        {
          "output_type": "stream",
          "name": "stderr",
          "text": [
            "Training: 100%|██████████| 385/385 [00:05<00:00, 67.72it/s, loss=2.6983]\n"
          ]
        },
        {
          "output_type": "stream",
          "name": "stdout",
          "text": [
            "Epoch 6/100, Train Loss: 2.7616, Val Loss: 2.6470, Perplexity: 14.11\n"
          ]
        },
        {
          "output_type": "stream",
          "name": "stderr",
          "text": [
            "Training: 100%|██████████| 385/385 [00:05<00:00, 69.12it/s, loss=2.3105]\n"
          ]
        },
        {
          "output_type": "stream",
          "name": "stdout",
          "text": [
            "Epoch 7/100, Train Loss: 2.4045, Val Loss: 2.3244, Perplexity: 10.22\n"
          ]
        },
        {
          "output_type": "stream",
          "name": "stderr",
          "text": [
            "Training: 100%|██████████| 385/385 [00:05<00:00, 67.51it/s, loss=1.7711]\n"
          ]
        },
        {
          "output_type": "stream",
          "name": "stdout",
          "text": [
            "Epoch 8/100, Train Loss: 2.1046, Val Loss: 2.0640, Perplexity: 7.88\n"
          ]
        },
        {
          "output_type": "stream",
          "name": "stderr",
          "text": [
            "Training: 100%|██████████| 385/385 [00:05<00:00, 69.01it/s, loss=1.9497]\n"
          ]
        },
        {
          "output_type": "stream",
          "name": "stdout",
          "text": [
            "Epoch 9/100, Train Loss: 1.8634, Val Loss: 1.8502, Perplexity: 6.36\n"
          ]
        },
        {
          "output_type": "stream",
          "name": "stderr",
          "text": [
            "Training: 100%|██████████| 385/385 [00:05<00:00, 67.02it/s, loss=1.5855]\n"
          ]
        },
        {
          "output_type": "stream",
          "name": "stdout",
          "text": [
            "Epoch 10/100, Train Loss: 1.6660, Val Loss: 1.6849, Perplexity: 5.39\n"
          ]
        },
        {
          "output_type": "stream",
          "name": "stderr",
          "text": [
            "Training: 100%|██████████| 385/385 [00:05<00:00, 68.65it/s, loss=1.6812]\n"
          ]
        },
        {
          "output_type": "stream",
          "name": "stdout",
          "text": [
            "Epoch 11/100, Train Loss: 1.5147, Val Loss: 1.5507, Perplexity: 4.71\n"
          ]
        },
        {
          "output_type": "stream",
          "name": "stderr",
          "text": [
            "Training: 100%|██████████| 385/385 [00:05<00:00, 67.07it/s, loss=1.2657]\n"
          ]
        },
        {
          "output_type": "stream",
          "name": "stdout",
          "text": [
            "Epoch 12/100, Train Loss: 1.3965, Val Loss: 1.4514, Perplexity: 4.27\n"
          ]
        },
        {
          "output_type": "stream",
          "name": "stderr",
          "text": [
            "Training: 100%|██████████| 385/385 [00:05<00:00, 68.62it/s, loss=1.2132]\n"
          ]
        },
        {
          "output_type": "stream",
          "name": "stdout",
          "text": [
            "Epoch 13/100, Train Loss: 1.3007, Val Loss: 1.3655, Perplexity: 3.92\n"
          ]
        },
        {
          "output_type": "stream",
          "name": "stderr",
          "text": [
            "Training: 100%|██████████| 385/385 [00:05<00:00, 68.04it/s, loss=1.4524]\n"
          ]
        },
        {
          "output_type": "stream",
          "name": "stdout",
          "text": [
            "Epoch 14/100, Train Loss: 1.2271, Val Loss: 1.2992, Perplexity: 3.67\n"
          ]
        },
        {
          "output_type": "stream",
          "name": "stderr",
          "text": [
            "Training: 100%|██████████| 385/385 [00:05<00:00, 68.39it/s, loss=1.0403]\n"
          ]
        },
        {
          "output_type": "stream",
          "name": "stdout",
          "text": [
            "Epoch 15/100, Train Loss: 1.1643, Val Loss: 1.2624, Perplexity: 3.53\n"
          ]
        },
        {
          "output_type": "stream",
          "name": "stderr",
          "text": [
            "Training: 100%|██████████| 385/385 [00:05<00:00, 67.86it/s, loss=0.9915]\n"
          ]
        },
        {
          "output_type": "stream",
          "name": "stdout",
          "text": [
            "Epoch 16/100, Train Loss: 1.1164, Val Loss: 1.2201, Perplexity: 3.39\n"
          ]
        },
        {
          "output_type": "stream",
          "name": "stderr",
          "text": [
            "Training: 100%|██████████| 385/385 [00:05<00:00, 67.44it/s, loss=1.0273]\n"
          ]
        },
        {
          "output_type": "stream",
          "name": "stdout",
          "text": [
            "Epoch 17/100, Train Loss: 1.0752, Val Loss: 1.1926, Perplexity: 3.30\n"
          ]
        },
        {
          "output_type": "stream",
          "name": "stderr",
          "text": [
            "Training: 100%|██████████| 385/385 [00:05<00:00, 68.86it/s, loss=1.0200]\n"
          ]
        },
        {
          "output_type": "stream",
          "name": "stdout",
          "text": [
            "Epoch 18/100, Train Loss: 1.0431, Val Loss: 1.1574, Perplexity: 3.18\n"
          ]
        },
        {
          "output_type": "stream",
          "name": "stderr",
          "text": [
            "Training: 100%|██████████| 385/385 [00:05<00:00, 67.49it/s, loss=1.0118]\n"
          ]
        },
        {
          "output_type": "stream",
          "name": "stdout",
          "text": [
            "Epoch 19/100, Train Loss: 1.0096, Val Loss: 1.1367, Perplexity: 3.12\n"
          ]
        },
        {
          "output_type": "stream",
          "name": "stderr",
          "text": [
            "Training: 100%|██████████| 385/385 [00:05<00:00, 68.31it/s, loss=1.1395]\n"
          ]
        },
        {
          "output_type": "stream",
          "name": "stdout",
          "text": [
            "Epoch 20/100, Train Loss: 0.9876, Val Loss: 1.1172, Perplexity: 3.06\n"
          ]
        },
        {
          "output_type": "stream",
          "name": "stderr",
          "text": [
            "Training: 100%|██████████| 385/385 [00:05<00:00, 67.36it/s, loss=0.8360]\n"
          ]
        },
        {
          "output_type": "stream",
          "name": "stdout",
          "text": [
            "Epoch 21/100, Train Loss: 0.9648, Val Loss: 1.1039, Perplexity: 3.02\n"
          ]
        },
        {
          "output_type": "stream",
          "name": "stderr",
          "text": [
            "Training: 100%|██████████| 385/385 [00:05<00:00, 68.27it/s, loss=1.0233]\n"
          ]
        },
        {
          "output_type": "stream",
          "name": "stdout",
          "text": [
            "Epoch 22/100, Train Loss: 0.9451, Val Loss: 1.0908, Perplexity: 2.98\n"
          ]
        },
        {
          "output_type": "stream",
          "name": "stderr",
          "text": [
            "Training: 100%|██████████| 385/385 [00:05<00:00, 67.20it/s, loss=0.9429]\n"
          ]
        },
        {
          "output_type": "stream",
          "name": "stdout",
          "text": [
            "Epoch 23/100, Train Loss: 0.9289, Val Loss: 1.0788, Perplexity: 2.94\n"
          ]
        },
        {
          "output_type": "stream",
          "name": "stderr",
          "text": [
            "Training: 100%|██████████| 385/385 [00:05<00:00, 68.99it/s, loss=1.1234]\n"
          ]
        },
        {
          "output_type": "stream",
          "name": "stdout",
          "text": [
            "Epoch 24/100, Train Loss: 0.9145, Val Loss: 1.0663, Perplexity: 2.90\n"
          ]
        },
        {
          "output_type": "stream",
          "name": "stderr",
          "text": [
            "Training: 100%|██████████| 385/385 [00:05<00:00, 67.65it/s, loss=0.8944]\n"
          ]
        },
        {
          "output_type": "stream",
          "name": "stdout",
          "text": [
            "Epoch 25/100, Train Loss: 0.9015, Val Loss: 1.0680, Perplexity: 2.91\n"
          ]
        },
        {
          "output_type": "stream",
          "name": "stderr",
          "text": [
            "Training: 100%|██████████| 385/385 [00:05<00:00, 68.32it/s, loss=1.0126]\n"
          ]
        },
        {
          "output_type": "stream",
          "name": "stdout",
          "text": [
            "Epoch 26/100, Train Loss: 0.8882, Val Loss: 1.0559, Perplexity: 2.87\n"
          ]
        },
        {
          "output_type": "stream",
          "name": "stderr",
          "text": [
            "Training: 100%|██████████| 385/385 [00:05<00:00, 68.57it/s, loss=0.9214]\n"
          ]
        },
        {
          "output_type": "stream",
          "name": "stdout",
          "text": [
            "Epoch 27/100, Train Loss: 0.8790, Val Loss: 1.0422, Perplexity: 2.84\n"
          ]
        },
        {
          "output_type": "stream",
          "name": "stderr",
          "text": [
            "Training: 100%|██████████| 385/385 [00:05<00:00, 67.88it/s, loss=1.0668]\n"
          ]
        },
        {
          "output_type": "stream",
          "name": "stdout",
          "text": [
            "Epoch 28/100, Train Loss: 0.8697, Val Loss: 1.0425, Perplexity: 2.84\n"
          ]
        },
        {
          "output_type": "stream",
          "name": "stderr",
          "text": [
            "Training: 100%|██████████| 385/385 [00:05<00:00, 68.59it/s, loss=1.0277]\n"
          ]
        },
        {
          "output_type": "stream",
          "name": "stdout",
          "text": [
            "Epoch 29/100, Train Loss: 0.8639, Val Loss: 1.0341, Perplexity: 2.81\n"
          ]
        },
        {
          "output_type": "stream",
          "name": "stderr",
          "text": [
            "Training: 100%|██████████| 385/385 [00:05<00:00, 67.72it/s, loss=0.9522]\n"
          ]
        },
        {
          "output_type": "stream",
          "name": "stdout",
          "text": [
            "Epoch 30/100, Train Loss: 0.8539, Val Loss: 1.0273, Perplexity: 2.79\n"
          ]
        },
        {
          "output_type": "stream",
          "name": "stderr",
          "text": [
            "Training: 100%|██████████| 385/385 [00:05<00:00, 68.85it/s, loss=0.9977]\n"
          ]
        },
        {
          "output_type": "stream",
          "name": "stdout",
          "text": [
            "Epoch 31/100, Train Loss: 0.8470, Val Loss: 1.0239, Perplexity: 2.78\n"
          ]
        },
        {
          "output_type": "stream",
          "name": "stderr",
          "text": [
            "Training: 100%|██████████| 385/385 [00:05<00:00, 67.03it/s, loss=0.6939]\n"
          ]
        },
        {
          "output_type": "stream",
          "name": "stdout",
          "text": [
            "Epoch 32/100, Train Loss: 0.8401, Val Loss: 1.0241, Perplexity: 2.78\n"
          ]
        },
        {
          "output_type": "stream",
          "name": "stderr",
          "text": [
            "Training: 100%|██████████| 385/385 [00:05<00:00, 68.53it/s, loss=0.9611]\n"
          ]
        },
        {
          "output_type": "stream",
          "name": "stdout",
          "text": [
            "Epoch 33/100, Train Loss: 0.8354, Val Loss: 1.0176, Perplexity: 2.77\n"
          ]
        },
        {
          "output_type": "stream",
          "name": "stderr",
          "text": [
            "Training: 100%|██████████| 385/385 [00:05<00:00, 67.01it/s, loss=0.8560]\n"
          ]
        },
        {
          "output_type": "stream",
          "name": "stdout",
          "text": [
            "Epoch 34/100, Train Loss: 0.8288, Val Loss: 1.0160, Perplexity: 2.76\n"
          ]
        },
        {
          "output_type": "stream",
          "name": "stderr",
          "text": [
            "Training: 100%|██████████| 385/385 [00:05<00:00, 68.70it/s, loss=0.6780]\n"
          ]
        },
        {
          "output_type": "stream",
          "name": "stdout",
          "text": [
            "Epoch 35/100, Train Loss: 0.8223, Val Loss: 1.0122, Perplexity: 2.75\n"
          ]
        },
        {
          "output_type": "stream",
          "name": "stderr",
          "text": [
            "Training: 100%|██████████| 385/385 [00:05<00:00, 67.58it/s, loss=0.8668]\n"
          ]
        },
        {
          "output_type": "stream",
          "name": "stdout",
          "text": [
            "Epoch 36/100, Train Loss: 0.8198, Val Loss: 1.0053, Perplexity: 2.73\n"
          ]
        },
        {
          "output_type": "stream",
          "name": "stderr",
          "text": [
            "Training: 100%|██████████| 385/385 [00:05<00:00, 68.37it/s, loss=0.7747]\n"
          ]
        },
        {
          "output_type": "stream",
          "name": "stdout",
          "text": [
            "Epoch 37/100, Train Loss: 0.8160, Val Loss: 1.0005, Perplexity: 2.72\n"
          ]
        },
        {
          "output_type": "stream",
          "name": "stderr",
          "text": [
            "Training: 100%|██████████| 385/385 [00:05<00:00, 68.78it/s, loss=0.7841]\n"
          ]
        },
        {
          "output_type": "stream",
          "name": "stdout",
          "text": [
            "Epoch 38/100, Train Loss: 0.8105, Val Loss: 0.9993, Perplexity: 2.72\n"
          ]
        },
        {
          "output_type": "stream",
          "name": "stderr",
          "text": [
            "Training: 100%|██████████| 385/385 [00:05<00:00, 68.21it/s, loss=0.8109]\n"
          ]
        },
        {
          "output_type": "stream",
          "name": "stdout",
          "text": [
            "Epoch 39/100, Train Loss: 0.8048, Val Loss: 0.9953, Perplexity: 2.71\n"
          ]
        },
        {
          "output_type": "stream",
          "name": "stderr",
          "text": [
            "Training: 100%|██████████| 385/385 [00:05<00:00, 68.04it/s, loss=0.8267]\n"
          ]
        },
        {
          "output_type": "stream",
          "name": "stdout",
          "text": [
            "Epoch 40/100, Train Loss: 0.8035, Val Loss: 0.9931, Perplexity: 2.70\n"
          ]
        },
        {
          "output_type": "stream",
          "name": "stderr",
          "text": [
            "Training: 100%|██████████| 385/385 [00:05<00:00, 67.38it/s, loss=0.8824]\n"
          ]
        },
        {
          "output_type": "stream",
          "name": "stdout",
          "text": [
            "Epoch 41/100, Train Loss: 0.8020, Val Loss: 0.9971, Perplexity: 2.71\n"
          ]
        },
        {
          "output_type": "stream",
          "name": "stderr",
          "text": [
            "Training: 100%|██████████| 385/385 [00:05<00:00, 68.57it/s, loss=0.8167]\n"
          ]
        },
        {
          "output_type": "stream",
          "name": "stdout",
          "text": [
            "Epoch 42/100, Train Loss: 0.7963, Val Loss: 0.9988, Perplexity: 2.72\n"
          ]
        },
        {
          "output_type": "stream",
          "name": "stderr",
          "text": [
            "Training: 100%|██████████| 385/385 [00:05<00:00, 66.92it/s, loss=0.8402]\n"
          ]
        },
        {
          "output_type": "stream",
          "name": "stdout",
          "text": [
            "Epoch 43/100, Train Loss: 0.7957, Val Loss: 0.9966, Perplexity: 2.71\n"
          ]
        },
        {
          "output_type": "stream",
          "name": "stderr",
          "text": [
            "Training: 100%|██████████| 385/385 [00:05<00:00, 68.80it/s, loss=0.7931]\n"
          ]
        },
        {
          "output_type": "stream",
          "name": "stdout",
          "text": [
            "Epoch 44/100, Train Loss: 0.7906, Val Loss: 0.9915, Perplexity: 2.70\n"
          ]
        },
        {
          "output_type": "stream",
          "name": "stderr",
          "text": [
            "Training: 100%|██████████| 385/385 [00:05<00:00, 67.26it/s, loss=0.9322]\n"
          ]
        },
        {
          "output_type": "stream",
          "name": "stdout",
          "text": [
            "Epoch 45/100, Train Loss: 0.7883, Val Loss: 0.9913, Perplexity: 2.69\n"
          ]
        },
        {
          "output_type": "stream",
          "name": "stderr",
          "text": [
            "Training: 100%|██████████| 385/385 [00:05<00:00, 68.86it/s, loss=0.8276]\n"
          ]
        },
        {
          "output_type": "stream",
          "name": "stdout",
          "text": [
            "Epoch 46/100, Train Loss: 0.7859, Val Loss: 0.9890, Perplexity: 2.69\n"
          ]
        },
        {
          "output_type": "stream",
          "name": "stderr",
          "text": [
            "Training: 100%|██████████| 385/385 [00:05<00:00, 68.39it/s, loss=0.8523]\n"
          ]
        },
        {
          "output_type": "stream",
          "name": "stdout",
          "text": [
            "Epoch 47/100, Train Loss: 0.7845, Val Loss: 0.9892, Perplexity: 2.69\n"
          ]
        },
        {
          "output_type": "stream",
          "name": "stderr",
          "text": [
            "Training: 100%|██████████| 385/385 [00:05<00:00, 68.17it/s, loss=0.8728]\n"
          ]
        },
        {
          "output_type": "stream",
          "name": "stdout",
          "text": [
            "Epoch 48/100, Train Loss: 0.7811, Val Loss: 0.9895, Perplexity: 2.69\n"
          ]
        },
        {
          "output_type": "stream",
          "name": "stderr",
          "text": [
            "Training: 100%|██████████| 385/385 [00:05<00:00, 68.57it/s, loss=0.8278]\n"
          ]
        },
        {
          "output_type": "stream",
          "name": "stdout",
          "text": [
            "Epoch 49/100, Train Loss: 0.7795, Val Loss: 0.9905, Perplexity: 2.69\n"
          ]
        },
        {
          "output_type": "stream",
          "name": "stderr",
          "text": [
            "Training: 100%|██████████| 385/385 [00:05<00:00, 67.49it/s, loss=0.9019]\n"
          ]
        },
        {
          "output_type": "stream",
          "name": "stdout",
          "text": [
            "Epoch 50/100, Train Loss: 0.7767, Val Loss: 0.9882, Perplexity: 2.69\n"
          ]
        },
        {
          "output_type": "stream",
          "name": "stderr",
          "text": [
            "Training: 100%|██████████| 385/385 [00:05<00:00, 68.94it/s, loss=0.7000]\n"
          ]
        },
        {
          "output_type": "stream",
          "name": "stdout",
          "text": [
            "Epoch 51/100, Train Loss: 0.7759, Val Loss: 0.9842, Perplexity: 2.68\n"
          ]
        },
        {
          "output_type": "stream",
          "name": "stderr",
          "text": [
            "Training: 100%|██████████| 385/385 [00:05<00:00, 67.06it/s, loss=0.8193]\n"
          ]
        },
        {
          "output_type": "stream",
          "name": "stdout",
          "text": [
            "Epoch 52/100, Train Loss: 0.7733, Val Loss: 0.9828, Perplexity: 2.67\n"
          ]
        },
        {
          "output_type": "stream",
          "name": "stderr",
          "text": [
            "Training: 100%|██████████| 385/385 [00:05<00:00, 69.16it/s, loss=0.6642]\n"
          ]
        },
        {
          "output_type": "stream",
          "name": "stdout",
          "text": [
            "Epoch 53/100, Train Loss: 0.7711, Val Loss: 0.9860, Perplexity: 2.68\n"
          ]
        },
        {
          "output_type": "stream",
          "name": "stderr",
          "text": [
            "Training: 100%|██████████| 385/385 [00:05<00:00, 67.61it/s, loss=0.8729]\n"
          ]
        },
        {
          "output_type": "stream",
          "name": "stdout",
          "text": [
            "Epoch 54/100, Train Loss: 0.7691, Val Loss: 0.9874, Perplexity: 2.68\n"
          ]
        },
        {
          "output_type": "stream",
          "name": "stderr",
          "text": [
            "Training: 100%|██████████| 385/385 [00:05<00:00, 67.95it/s, loss=0.7716]\n"
          ]
        },
        {
          "output_type": "stream",
          "name": "stdout",
          "text": [
            "Epoch 55/100, Train Loss: 0.7680, Val Loss: 0.9765, Perplexity: 2.66\n"
          ]
        },
        {
          "output_type": "stream",
          "name": "stderr",
          "text": [
            "Training: 100%|██████████| 385/385 [00:05<00:00, 68.55it/s, loss=0.8253]\n"
          ]
        },
        {
          "output_type": "stream",
          "name": "stdout",
          "text": [
            "Epoch 56/100, Train Loss: 0.7667, Val Loss: 0.9795, Perplexity: 2.66\n"
          ]
        },
        {
          "output_type": "stream",
          "name": "stderr",
          "text": [
            "Training: 100%|██████████| 385/385 [00:05<00:00, 67.14it/s, loss=0.8750]\n"
          ]
        },
        {
          "output_type": "stream",
          "name": "stdout",
          "text": [
            "Epoch 57/100, Train Loss: 0.7663, Val Loss: 0.9766, Perplexity: 2.66\n"
          ]
        },
        {
          "output_type": "stream",
          "name": "stderr",
          "text": [
            "Training: 100%|██████████| 385/385 [00:05<00:00, 68.01it/s, loss=0.6014]\n"
          ]
        },
        {
          "output_type": "stream",
          "name": "stdout",
          "text": [
            "Epoch 58/100, Train Loss: 0.7612, Val Loss: 0.9719, Perplexity: 2.64\n"
          ]
        },
        {
          "output_type": "stream",
          "name": "stderr",
          "text": [
            "Training: 100%|██████████| 385/385 [00:05<00:00, 67.00it/s, loss=0.7162]\n"
          ]
        },
        {
          "output_type": "stream",
          "name": "stdout",
          "text": [
            "Epoch 59/100, Train Loss: 0.7607, Val Loss: 0.9776, Perplexity: 2.66\n"
          ]
        },
        {
          "output_type": "stream",
          "name": "stderr",
          "text": [
            "Training: 100%|██████████| 385/385 [00:05<00:00, 68.58it/s, loss=0.7495]\n"
          ]
        },
        {
          "output_type": "stream",
          "name": "stdout",
          "text": [
            "Epoch 60/100, Train Loss: 0.7595, Val Loss: 0.9784, Perplexity: 2.66\n"
          ]
        },
        {
          "output_type": "stream",
          "name": "stderr",
          "text": [
            "Training: 100%|██████████| 385/385 [00:05<00:00, 66.72it/s, loss=0.9102]\n"
          ]
        },
        {
          "output_type": "stream",
          "name": "stdout",
          "text": [
            "Epoch 61/100, Train Loss: 0.7604, Val Loss: 0.9752, Perplexity: 2.65\n"
          ]
        },
        {
          "output_type": "stream",
          "name": "stderr",
          "text": [
            "Training: 100%|██████████| 385/385 [00:05<00:00, 68.19it/s, loss=0.8984]\n"
          ]
        },
        {
          "output_type": "stream",
          "name": "stdout",
          "text": [
            "Epoch 62/100, Train Loss: 0.7580, Val Loss: 0.9734, Perplexity: 2.65\n"
          ]
        },
        {
          "output_type": "stream",
          "name": "stderr",
          "text": [
            "Training: 100%|██████████| 385/385 [00:05<00:00, 67.79it/s, loss=0.6217]\n"
          ]
        },
        {
          "output_type": "stream",
          "name": "stdout",
          "text": [
            "Epoch 63/100, Train Loss: 0.7118, Val Loss: 0.9545, Perplexity: 2.60\n"
          ]
        },
        {
          "output_type": "stream",
          "name": "stderr",
          "text": [
            "Training: 100%|██████████| 385/385 [00:05<00:00, 68.30it/s, loss=0.8362]\n"
          ]
        },
        {
          "output_type": "stream",
          "name": "stdout",
          "text": [
            "Epoch 64/100, Train Loss: 0.7017, Val Loss: 0.9532, Perplexity: 2.59\n"
          ]
        },
        {
          "output_type": "stream",
          "name": "stderr",
          "text": [
            "Training: 100%|██████████| 385/385 [00:05<00:00, 67.78it/s, loss=0.6454]\n"
          ]
        },
        {
          "output_type": "stream",
          "name": "stdout",
          "text": [
            "Epoch 65/100, Train Loss: 0.7031, Val Loss: 0.9565, Perplexity: 2.60\n"
          ]
        },
        {
          "output_type": "stream",
          "name": "stderr",
          "text": [
            "Training: 100%|██████████| 385/385 [00:05<00:00, 67.02it/s, loss=0.7406]\n"
          ]
        },
        {
          "output_type": "stream",
          "name": "stdout",
          "text": [
            "Epoch 66/100, Train Loss: 0.7027, Val Loss: 0.9648, Perplexity: 2.62\n"
          ]
        },
        {
          "output_type": "stream",
          "name": "stderr",
          "text": [
            "Training: 100%|██████████| 385/385 [00:05<00:00, 68.06it/s, loss=0.6568]\n"
          ]
        },
        {
          "output_type": "stream",
          "name": "stdout",
          "text": [
            "Epoch 67/100, Train Loss: 0.7036, Val Loss: 0.9608, Perplexity: 2.61\n"
          ]
        },
        {
          "output_type": "stream",
          "name": "stderr",
          "text": [
            "Training: 100%|██████████| 385/385 [00:05<00:00, 66.92it/s, loss=0.6382]\n"
          ]
        },
        {
          "output_type": "stream",
          "name": "stdout",
          "text": [
            "Epoch 68/100, Train Loss: 0.7047, Val Loss: 0.9625, Perplexity: 2.62\n"
          ]
        },
        {
          "output_type": "stream",
          "name": "stderr",
          "text": [
            "Training: 100%|██████████| 385/385 [00:05<00:00, 68.19it/s, loss=0.6702]\n"
          ]
        },
        {
          "output_type": "stream",
          "name": "stdout",
          "text": [
            "Epoch 69/100, Train Loss: 0.6829, Val Loss: 0.9574, Perplexity: 2.61\n",
            "Early stopping at epoch 69\n",
            "\n",
            "===== Training LSTM_EMB =====\n",
            "\n"
          ]
        },
        {
          "output_type": "stream",
          "name": "stderr",
          "text": [
            "Training: 100%|██████████| 385/385 [00:04<00:00, 90.86it/s, loss=4.6038]\n"
          ]
        },
        {
          "output_type": "stream",
          "name": "stdout",
          "text": [
            "Epoch 1/100, Train Loss: 4.6388, Val Loss: 4.1675, Perplexity: 64.55\n"
          ]
        },
        {
          "output_type": "stream",
          "name": "stderr",
          "text": [
            "Training: 100%|██████████| 385/385 [00:04<00:00, 93.09it/s, loss=3.2331]\n"
          ]
        },
        {
          "output_type": "stream",
          "name": "stdout",
          "text": [
            "Epoch 2/100, Train Loss: 4.0045, Val Loss: 3.7165, Perplexity: 41.12\n"
          ]
        },
        {
          "output_type": "stream",
          "name": "stderr",
          "text": [
            "Training: 100%|██████████| 385/385 [00:03<00:00, 97.13it/s, loss=3.1150]\n"
          ]
        },
        {
          "output_type": "stream",
          "name": "stdout",
          "text": [
            "Epoch 3/100, Train Loss: 3.5788, Val Loss: 3.2746, Perplexity: 26.43\n"
          ]
        },
        {
          "output_type": "stream",
          "name": "stderr",
          "text": [
            "Training: 100%|██████████| 385/385 [00:04<00:00, 95.66it/s, loss=3.1621]\n"
          ]
        },
        {
          "output_type": "stream",
          "name": "stdout",
          "text": [
            "Epoch 4/100, Train Loss: 3.1648, Val Loss: 2.8508, Perplexity: 17.30\n"
          ]
        },
        {
          "output_type": "stream",
          "name": "stderr",
          "text": [
            "Training: 100%|██████████| 385/385 [00:04<00:00, 93.53it/s, loss=2.7008]\n"
          ]
        },
        {
          "output_type": "stream",
          "name": "stdout",
          "text": [
            "Epoch 5/100, Train Loss: 2.7930, Val Loss: 2.4729, Perplexity: 11.86\n"
          ]
        },
        {
          "output_type": "stream",
          "name": "stderr",
          "text": [
            "Training: 100%|██████████| 385/385 [00:03<00:00, 97.88it/s, loss=2.3619]\n"
          ]
        },
        {
          "output_type": "stream",
          "name": "stdout",
          "text": [
            "Epoch 6/100, Train Loss: 2.4864, Val Loss: 2.1583, Perplexity: 8.66\n"
          ]
        },
        {
          "output_type": "stream",
          "name": "stderr",
          "text": [
            "Training: 100%|██████████| 385/385 [00:03<00:00, 96.71it/s, loss=2.2392]\n"
          ]
        },
        {
          "output_type": "stream",
          "name": "stdout",
          "text": [
            "Epoch 7/100, Train Loss: 2.2274, Val Loss: 1.9112, Perplexity: 6.76\n"
          ]
        },
        {
          "output_type": "stream",
          "name": "stderr",
          "text": [
            "Training: 100%|██████████| 385/385 [00:04<00:00, 93.62it/s, loss=1.8034]\n"
          ]
        },
        {
          "output_type": "stream",
          "name": "stdout",
          "text": [
            "Epoch 8/100, Train Loss: 2.0199, Val Loss: 1.7189, Perplexity: 5.58\n"
          ]
        },
        {
          "output_type": "stream",
          "name": "stderr",
          "text": [
            "Training: 100%|██████████| 385/385 [00:03<00:00, 98.22it/s, loss=1.8727]\n"
          ]
        },
        {
          "output_type": "stream",
          "name": "stdout",
          "text": [
            "Epoch 9/100, Train Loss: 1.8525, Val Loss: 1.5595, Perplexity: 4.76\n"
          ]
        },
        {
          "output_type": "stream",
          "name": "stderr",
          "text": [
            "Training: 100%|██████████| 385/385 [00:03<00:00, 97.68it/s, loss=1.7526]\n"
          ]
        },
        {
          "output_type": "stream",
          "name": "stdout",
          "text": [
            "Epoch 10/100, Train Loss: 1.7112, Val Loss: 1.4414, Perplexity: 4.23\n"
          ]
        },
        {
          "output_type": "stream",
          "name": "stderr",
          "text": [
            "Training: 100%|██████████| 385/385 [00:04<00:00, 94.40it/s, loss=1.6042]\n"
          ]
        },
        {
          "output_type": "stream",
          "name": "stdout",
          "text": [
            "Epoch 11/100, Train Loss: 1.5935, Val Loss: 1.3390, Perplexity: 3.82\n"
          ]
        },
        {
          "output_type": "stream",
          "name": "stderr",
          "text": [
            "Training: 100%|██████████| 385/385 [00:03<00:00, 98.25it/s, loss=1.5286]\n"
          ]
        },
        {
          "output_type": "stream",
          "name": "stdout",
          "text": [
            "Epoch 12/100, Train Loss: 1.4987, Val Loss: 1.2613, Perplexity: 3.53\n"
          ]
        },
        {
          "output_type": "stream",
          "name": "stderr",
          "text": [
            "Training: 100%|██████████| 385/385 [00:03<00:00, 97.71it/s, loss=1.3644]\n"
          ]
        },
        {
          "output_type": "stream",
          "name": "stdout",
          "text": [
            "Epoch 13/100, Train Loss: 1.4157, Val Loss: 1.2026, Perplexity: 3.33\n"
          ]
        },
        {
          "output_type": "stream",
          "name": "stderr",
          "text": [
            "Training: 100%|██████████| 385/385 [00:04<00:00, 95.62it/s, loss=1.3964]\n"
          ]
        },
        {
          "output_type": "stream",
          "name": "stdout",
          "text": [
            "Epoch 14/100, Train Loss: 1.3477, Val Loss: 1.1464, Perplexity: 3.15\n"
          ]
        },
        {
          "output_type": "stream",
          "name": "stderr",
          "text": [
            "Training: 100%|██████████| 385/385 [00:03<00:00, 96.56it/s, loss=1.2813]\n"
          ]
        },
        {
          "output_type": "stream",
          "name": "stdout",
          "text": [
            "Epoch 15/100, Train Loss: 1.2861, Val Loss: 1.1073, Perplexity: 3.03\n"
          ]
        },
        {
          "output_type": "stream",
          "name": "stderr",
          "text": [
            "Training: 100%|██████████| 385/385 [00:03<00:00, 97.70it/s, loss=1.2956]\n"
          ]
        },
        {
          "output_type": "stream",
          "name": "stdout",
          "text": [
            "Epoch 16/100, Train Loss: 1.2350, Val Loss: 1.0688, Perplexity: 2.91\n"
          ]
        },
        {
          "output_type": "stream",
          "name": "stderr",
          "text": [
            "Training: 100%|██████████| 385/385 [00:03<00:00, 97.16it/s, loss=1.1348]\n"
          ]
        },
        {
          "output_type": "stream",
          "name": "stdout",
          "text": [
            "Epoch 17/100, Train Loss: 1.1941, Val Loss: 1.0458, Perplexity: 2.85\n"
          ]
        },
        {
          "output_type": "stream",
          "name": "stderr",
          "text": [
            "Training: 100%|██████████| 385/385 [00:04<00:00, 94.27it/s, loss=1.1898]\n"
          ]
        },
        {
          "output_type": "stream",
          "name": "stdout",
          "text": [
            "Epoch 18/100, Train Loss: 1.1528, Val Loss: 1.0204, Perplexity: 2.77\n"
          ]
        },
        {
          "output_type": "stream",
          "name": "stderr",
          "text": [
            "Training: 100%|██████████| 385/385 [00:03<00:00, 97.60it/s, loss=1.0607]\n"
          ]
        },
        {
          "output_type": "stream",
          "name": "stdout",
          "text": [
            "Epoch 19/100, Train Loss: 1.1189, Val Loss: 1.0018, Perplexity: 2.72\n"
          ]
        },
        {
          "output_type": "stream",
          "name": "stderr",
          "text": [
            "Training: 100%|██████████| 385/385 [00:03<00:00, 97.60it/s, loss=1.1500]\n"
          ]
        },
        {
          "output_type": "stream",
          "name": "stdout",
          "text": [
            "Epoch 20/100, Train Loss: 1.0922, Val Loss: 0.9863, Perplexity: 2.68\n"
          ]
        },
        {
          "output_type": "stream",
          "name": "stderr",
          "text": [
            "Training: 100%|██████████| 385/385 [00:04<00:00, 92.77it/s, loss=1.0679]\n"
          ]
        },
        {
          "output_type": "stream",
          "name": "stdout",
          "text": [
            "Epoch 21/100, Train Loss: 1.0658, Val Loss: 0.9770, Perplexity: 2.66\n"
          ]
        },
        {
          "output_type": "stream",
          "name": "stderr",
          "text": [
            "Training: 100%|██████████| 385/385 [00:03<00:00, 98.52it/s, loss=1.0360]\n"
          ]
        },
        {
          "output_type": "stream",
          "name": "stdout",
          "text": [
            "Epoch 22/100, Train Loss: 1.0418, Val Loss: 0.9636, Perplexity: 2.62\n"
          ]
        },
        {
          "output_type": "stream",
          "name": "stderr",
          "text": [
            "Training: 100%|██████████| 385/385 [00:03<00:00, 97.45it/s, loss=0.8753]\n"
          ]
        },
        {
          "output_type": "stream",
          "name": "stdout",
          "text": [
            "Epoch 23/100, Train Loss: 1.0199, Val Loss: 0.9525, Perplexity: 2.59\n"
          ]
        },
        {
          "output_type": "stream",
          "name": "stderr",
          "text": [
            "Training: 100%|██████████| 385/385 [00:04<00:00, 92.93it/s, loss=0.9964]\n"
          ]
        },
        {
          "output_type": "stream",
          "name": "stdout",
          "text": [
            "Epoch 24/100, Train Loss: 1.0039, Val Loss: 0.9410, Perplexity: 2.56\n"
          ]
        },
        {
          "output_type": "stream",
          "name": "stderr",
          "text": [
            "Training: 100%|██████████| 385/385 [00:03<00:00, 96.91it/s, loss=0.9984]\n"
          ]
        },
        {
          "output_type": "stream",
          "name": "stdout",
          "text": [
            "Epoch 25/100, Train Loss: 0.9903, Val Loss: 0.9371, Perplexity: 2.55\n"
          ]
        },
        {
          "output_type": "stream",
          "name": "stderr",
          "text": [
            "Training: 100%|██████████| 385/385 [00:03<00:00, 97.48it/s, loss=0.8668]\n"
          ]
        },
        {
          "output_type": "stream",
          "name": "stdout",
          "text": [
            "Epoch 26/100, Train Loss: 0.9715, Val Loss: 0.9337, Perplexity: 2.54\n"
          ]
        },
        {
          "output_type": "stream",
          "name": "stderr",
          "text": [
            "Training: 100%|██████████| 385/385 [00:04<00:00, 94.08it/s, loss=0.8507]\n"
          ]
        },
        {
          "output_type": "stream",
          "name": "stdout",
          "text": [
            "Epoch 27/100, Train Loss: 0.9579, Val Loss: 0.9297, Perplexity: 2.53\n"
          ]
        },
        {
          "output_type": "stream",
          "name": "stderr",
          "text": [
            "Training: 100%|██████████| 385/385 [00:04<00:00, 95.64it/s, loss=1.0214]\n"
          ]
        },
        {
          "output_type": "stream",
          "name": "stdout",
          "text": [
            "Epoch 28/100, Train Loss: 0.9448, Val Loss: 0.9202, Perplexity: 2.51\n"
          ]
        },
        {
          "output_type": "stream",
          "name": "stderr",
          "text": [
            "Training: 100%|██████████| 385/385 [00:03<00:00, 97.64it/s, loss=0.9510]\n"
          ]
        },
        {
          "output_type": "stream",
          "name": "stdout",
          "text": [
            "Epoch 29/100, Train Loss: 0.9335, Val Loss: 0.9163, Perplexity: 2.50\n"
          ]
        },
        {
          "output_type": "stream",
          "name": "stderr",
          "text": [
            "Training: 100%|██████████| 385/385 [00:04<00:00, 94.42it/s, loss=0.8853]\n"
          ]
        },
        {
          "output_type": "stream",
          "name": "stdout",
          "text": [
            "Epoch 30/100, Train Loss: 0.9215, Val Loss: 0.9137, Perplexity: 2.49\n"
          ]
        },
        {
          "output_type": "stream",
          "name": "stderr",
          "text": [
            "Training: 100%|██████████| 385/385 [00:04<00:00, 95.45it/s, loss=0.7028]\n"
          ]
        },
        {
          "output_type": "stream",
          "name": "stdout",
          "text": [
            "Epoch 31/100, Train Loss: 0.9116, Val Loss: 0.9143, Perplexity: 2.50\n"
          ]
        },
        {
          "output_type": "stream",
          "name": "stderr",
          "text": [
            "Training: 100%|██████████| 385/385 [00:03<00:00, 97.30it/s, loss=0.8991]\n"
          ]
        },
        {
          "output_type": "stream",
          "name": "stdout",
          "text": [
            "Epoch 32/100, Train Loss: 0.9033, Val Loss: 0.9113, Perplexity: 2.49\n"
          ]
        },
        {
          "output_type": "stream",
          "name": "stderr",
          "text": [
            "Training: 100%|██████████| 385/385 [00:03<00:00, 97.33it/s, loss=0.9121]\n"
          ]
        },
        {
          "output_type": "stream",
          "name": "stdout",
          "text": [
            "Epoch 33/100, Train Loss: 0.8959, Val Loss: 0.9084, Perplexity: 2.48\n"
          ]
        },
        {
          "output_type": "stream",
          "name": "stderr",
          "text": [
            "Training: 100%|██████████| 385/385 [00:04<00:00, 93.60it/s, loss=0.7771]\n"
          ]
        },
        {
          "output_type": "stream",
          "name": "stdout",
          "text": [
            "Epoch 34/100, Train Loss: 0.8871, Val Loss: 0.9125, Perplexity: 2.49\n"
          ]
        },
        {
          "output_type": "stream",
          "name": "stderr",
          "text": [
            "Training: 100%|██████████| 385/385 [00:03<00:00, 97.07it/s, loss=0.9191]\n"
          ]
        },
        {
          "output_type": "stream",
          "name": "stdout",
          "text": [
            "Epoch 35/100, Train Loss: 0.8809, Val Loss: 0.9107, Perplexity: 2.49\n"
          ]
        },
        {
          "output_type": "stream",
          "name": "stderr",
          "text": [
            "Training: 100%|██████████| 385/385 [00:03<00:00, 98.32it/s, loss=0.9426]\n"
          ]
        },
        {
          "output_type": "stream",
          "name": "stdout",
          "text": [
            "Epoch 36/100, Train Loss: 0.8773, Val Loss: 0.9037, Perplexity: 2.47\n"
          ]
        },
        {
          "output_type": "stream",
          "name": "stderr",
          "text": [
            "Training: 100%|██████████| 385/385 [00:04<00:00, 92.05it/s, loss=0.8444]\n"
          ]
        },
        {
          "output_type": "stream",
          "name": "stdout",
          "text": [
            "Epoch 37/100, Train Loss: 0.8670, Val Loss: 0.9026, Perplexity: 2.47\n"
          ]
        },
        {
          "output_type": "stream",
          "name": "stderr",
          "text": [
            "Training: 100%|██████████| 385/385 [00:03<00:00, 97.34it/s, loss=0.8539]\n"
          ]
        },
        {
          "output_type": "stream",
          "name": "stdout",
          "text": [
            "Epoch 38/100, Train Loss: 0.8638, Val Loss: 0.9014, Perplexity: 2.46\n"
          ]
        },
        {
          "output_type": "stream",
          "name": "stderr",
          "text": [
            "Training: 100%|██████████| 385/385 [00:03<00:00, 97.78it/s, loss=0.9764]\n"
          ]
        },
        {
          "output_type": "stream",
          "name": "stdout",
          "text": [
            "Epoch 39/100, Train Loss: 0.8591, Val Loss: 0.9047, Perplexity: 2.47\n"
          ]
        },
        {
          "output_type": "stream",
          "name": "stderr",
          "text": [
            "Training: 100%|██████████| 385/385 [00:04<00:00, 94.31it/s, loss=0.7845]\n"
          ]
        },
        {
          "output_type": "stream",
          "name": "stdout",
          "text": [
            "Epoch 40/100, Train Loss: 0.8524, Val Loss: 0.8978, Perplexity: 2.45\n"
          ]
        },
        {
          "output_type": "stream",
          "name": "stderr",
          "text": [
            "Training: 100%|██████████| 385/385 [00:04<00:00, 95.68it/s, loss=0.8860]\n"
          ]
        },
        {
          "output_type": "stream",
          "name": "stdout",
          "text": [
            "Epoch 41/100, Train Loss: 0.8479, Val Loss: 0.8983, Perplexity: 2.46\n"
          ]
        },
        {
          "output_type": "stream",
          "name": "stderr",
          "text": [
            "Training: 100%|██████████| 385/385 [00:03<00:00, 97.56it/s, loss=1.0049]\n"
          ]
        },
        {
          "output_type": "stream",
          "name": "stdout",
          "text": [
            "Epoch 42/100, Train Loss: 0.8430, Val Loss: 0.9007, Perplexity: 2.46\n"
          ]
        },
        {
          "output_type": "stream",
          "name": "stderr",
          "text": [
            "Training: 100%|██████████| 385/385 [00:03<00:00, 97.36it/s, loss=0.9529]\n"
          ]
        },
        {
          "output_type": "stream",
          "name": "stdout",
          "text": [
            "Epoch 43/100, Train Loss: 0.8410, Val Loss: 0.9019, Perplexity: 2.46\n"
          ]
        },
        {
          "output_type": "stream",
          "name": "stderr",
          "text": [
            "Training: 100%|██████████| 385/385 [00:04<00:00, 93.93it/s, loss=0.9448]\n"
          ]
        },
        {
          "output_type": "stream",
          "name": "stdout",
          "text": [
            "Epoch 44/100, Train Loss: 0.8348, Val Loss: 0.9008, Perplexity: 2.46\n"
          ]
        },
        {
          "output_type": "stream",
          "name": "stderr",
          "text": [
            "Training: 100%|██████████| 385/385 [00:03<00:00, 97.42it/s, loss=0.8331]\n"
          ]
        },
        {
          "output_type": "stream",
          "name": "stdout",
          "text": [
            "Epoch 45/100, Train Loss: 0.7938, Val Loss: 0.8862, Perplexity: 2.43\n"
          ]
        },
        {
          "output_type": "stream",
          "name": "stderr",
          "text": [
            "Training: 100%|██████████| 385/385 [00:03<00:00, 97.34it/s, loss=0.7927]\n"
          ]
        },
        {
          "output_type": "stream",
          "name": "stdout",
          "text": [
            "Epoch 46/100, Train Loss: 0.7798, Val Loss: 0.8875, Perplexity: 2.43\n"
          ]
        },
        {
          "output_type": "stream",
          "name": "stderr",
          "text": [
            "Training: 100%|██████████| 385/385 [00:04<00:00, 93.52it/s, loss=0.6704]\n"
          ]
        },
        {
          "output_type": "stream",
          "name": "stdout",
          "text": [
            "Epoch 47/100, Train Loss: 0.7750, Val Loss: 0.8874, Perplexity: 2.43\n"
          ]
        },
        {
          "output_type": "stream",
          "name": "stderr",
          "text": [
            "Training: 100%|██████████| 385/385 [00:03<00:00, 96.35it/s, loss=0.6710]\n"
          ]
        },
        {
          "output_type": "stream",
          "name": "stdout",
          "text": [
            "Epoch 48/100, Train Loss: 0.7709, Val Loss: 0.8889, Perplexity: 2.43\n"
          ]
        },
        {
          "output_type": "stream",
          "name": "stderr",
          "text": [
            "Training: 100%|██████████| 385/385 [00:03<00:00, 97.90it/s, loss=0.8461]\n"
          ]
        },
        {
          "output_type": "stream",
          "name": "stdout",
          "text": [
            "Epoch 49/100, Train Loss: 0.7729, Val Loss: 0.8881, Perplexity: 2.43\n"
          ]
        },
        {
          "output_type": "stream",
          "name": "stderr",
          "text": [
            "Training: 100%|██████████| 385/385 [00:04<00:00, 95.30it/s, loss=0.6794]\n"
          ]
        },
        {
          "output_type": "stream",
          "name": "stdout",
          "text": [
            "Epoch 50/100, Train Loss: 0.7508, Val Loss: 0.8859, Perplexity: 2.43\n"
          ]
        },
        {
          "output_type": "stream",
          "name": "stderr",
          "text": [
            "Training: 100%|██████████| 385/385 [00:04<00:00, 95.04it/s, loss=0.7995]\n"
          ]
        },
        {
          "output_type": "stream",
          "name": "stdout",
          "text": [
            "Epoch 51/100, Train Loss: 0.7457, Val Loss: 0.8851, Perplexity: 2.42\n"
          ]
        },
        {
          "output_type": "stream",
          "name": "stderr",
          "text": [
            "Training: 100%|██████████| 385/385 [00:03<00:00, 97.61it/s, loss=0.8195]\n"
          ]
        },
        {
          "output_type": "stream",
          "name": "stdout",
          "text": [
            "Epoch 52/100, Train Loss: 0.7441, Val Loss: 0.8858, Perplexity: 2.42\n"
          ]
        },
        {
          "output_type": "stream",
          "name": "stderr",
          "text": [
            "Training: 100%|██████████| 385/385 [00:03<00:00, 97.78it/s, loss=0.7429]\n"
          ]
        },
        {
          "output_type": "stream",
          "name": "stdout",
          "text": [
            "Epoch 53/100, Train Loss: 0.7399, Val Loss: 0.8879, Perplexity: 2.43\n"
          ]
        },
        {
          "output_type": "stream",
          "name": "stderr",
          "text": [
            "Training: 100%|██████████| 385/385 [00:04<00:00, 94.22it/s, loss=0.8181]\n"
          ]
        },
        {
          "output_type": "stream",
          "name": "stdout",
          "text": [
            "Epoch 54/100, Train Loss: 0.7398, Val Loss: 0.8873, Perplexity: 2.43\n"
          ]
        },
        {
          "output_type": "stream",
          "name": "stderr",
          "text": [
            "Training: 100%|██████████| 385/385 [00:03<00:00, 97.19it/s, loss=0.8402]\n"
          ]
        },
        {
          "output_type": "stream",
          "name": "stdout",
          "text": [
            "Epoch 55/100, Train Loss: 0.7385, Val Loss: 0.8877, Perplexity: 2.43\n"
          ]
        },
        {
          "output_type": "stream",
          "name": "stderr",
          "text": [
            "Training: 100%|██████████| 385/385 [00:03<00:00, 97.26it/s, loss=0.7973]\n"
          ]
        },
        {
          "output_type": "stream",
          "name": "stdout",
          "text": [
            "Epoch 56/100, Train Loss: 0.7326, Val Loss: 0.8863, Perplexity: 2.43\n",
            "Early stopping at epoch 56\n",
            "\n",
            "===== Training GRU_OHE =====\n",
            "\n"
          ]
        },
        {
          "output_type": "stream",
          "name": "stderr",
          "text": [
            "Training: 100%|██████████| 385/385 [00:04<00:00, 80.71it/s, loss=4.2587]\n"
          ]
        },
        {
          "output_type": "stream",
          "name": "stdout",
          "text": [
            "Epoch 1/100, Train Loss: 5.0364, Val Loss: 4.5220, Perplexity: 92.02\n"
          ]
        },
        {
          "output_type": "stream",
          "name": "stderr",
          "text": [
            "Training: 100%|██████████| 385/385 [00:04<00:00, 82.66it/s, loss=4.2278]\n"
          ]
        },
        {
          "output_type": "stream",
          "name": "stdout",
          "text": [
            "Epoch 2/100, Train Loss: 4.1848, Val Loss: 3.8175, Perplexity: 45.49\n"
          ]
        },
        {
          "output_type": "stream",
          "name": "stderr",
          "text": [
            "Training: 100%|██████████| 385/385 [00:04<00:00, 83.19it/s, loss=3.3613]\n"
          ]
        },
        {
          "output_type": "stream",
          "name": "stdout",
          "text": [
            "Epoch 3/100, Train Loss: 3.5282, Val Loss: 3.2023, Perplexity: 24.59\n"
          ]
        },
        {
          "output_type": "stream",
          "name": "stderr",
          "text": [
            "Training: 100%|██████████| 385/385 [00:04<00:00, 79.24it/s, loss=2.7167]\n"
          ]
        },
        {
          "output_type": "stream",
          "name": "stdout",
          "text": [
            "Epoch 4/100, Train Loss: 2.9073, Val Loss: 2.6563, Perplexity: 14.24\n"
          ]
        },
        {
          "output_type": "stream",
          "name": "stderr",
          "text": [
            "Training: 100%|██████████| 385/385 [00:04<00:00, 83.63it/s, loss=2.2836]\n"
          ]
        },
        {
          "output_type": "stream",
          "name": "stdout",
          "text": [
            "Epoch 5/100, Train Loss: 2.3782, Val Loss: 2.2016, Perplexity: 9.04\n"
          ]
        },
        {
          "output_type": "stream",
          "name": "stderr",
          "text": [
            "Training: 100%|██████████| 385/385 [00:04<00:00, 82.56it/s, loss=2.0477]\n"
          ]
        },
        {
          "output_type": "stream",
          "name": "stdout",
          "text": [
            "Epoch 6/100, Train Loss: 1.9891, Val Loss: 1.8671, Perplexity: 6.47\n"
          ]
        },
        {
          "output_type": "stream",
          "name": "stderr",
          "text": [
            "Training: 100%|██████████| 385/385 [00:04<00:00, 80.27it/s, loss=1.3752]\n"
          ]
        },
        {
          "output_type": "stream",
          "name": "stdout",
          "text": [
            "Epoch 7/100, Train Loss: 1.7073, Val Loss: 1.6362, Perplexity: 5.14\n"
          ]
        },
        {
          "output_type": "stream",
          "name": "stderr",
          "text": [
            "Training: 100%|██████████| 385/385 [00:04<00:00, 83.44it/s, loss=1.3956]\n"
          ]
        },
        {
          "output_type": "stream",
          "name": "stdout",
          "text": [
            "Epoch 8/100, Train Loss: 1.5082, Val Loss: 1.4689, Perplexity: 4.34\n"
          ]
        },
        {
          "output_type": "stream",
          "name": "stderr",
          "text": [
            "Training: 100%|██████████| 385/385 [00:04<00:00, 82.07it/s, loss=1.5919]\n"
          ]
        },
        {
          "output_type": "stream",
          "name": "stdout",
          "text": [
            "Epoch 9/100, Train Loss: 1.3634, Val Loss: 1.3522, Perplexity: 3.87\n"
          ]
        },
        {
          "output_type": "stream",
          "name": "stderr",
          "text": [
            "Training: 100%|██████████| 385/385 [00:04<00:00, 81.29it/s, loss=1.2128]\n"
          ]
        },
        {
          "output_type": "stream",
          "name": "stdout",
          "text": [
            "Epoch 10/100, Train Loss: 1.2591, Val Loss: 1.2615, Perplexity: 3.53\n"
          ]
        },
        {
          "output_type": "stream",
          "name": "stderr",
          "text": [
            "Training: 100%|██████████| 385/385 [00:04<00:00, 83.91it/s, loss=1.0858]\n"
          ]
        },
        {
          "output_type": "stream",
          "name": "stdout",
          "text": [
            "Epoch 11/100, Train Loss: 1.1751, Val Loss: 1.1985, Perplexity: 3.32\n"
          ]
        },
        {
          "output_type": "stream",
          "name": "stderr",
          "text": [
            "Training: 100%|██████████| 385/385 [00:04<00:00, 79.60it/s, loss=1.1184]\n"
          ]
        },
        {
          "output_type": "stream",
          "name": "stdout",
          "text": [
            "Epoch 12/100, Train Loss: 1.1163, Val Loss: 1.1581, Perplexity: 3.18\n"
          ]
        },
        {
          "output_type": "stream",
          "name": "stderr",
          "text": [
            "Training: 100%|██████████| 385/385 [00:04<00:00, 83.70it/s, loss=1.0460]\n"
          ]
        },
        {
          "output_type": "stream",
          "name": "stdout",
          "text": [
            "Epoch 13/100, Train Loss: 1.0665, Val Loss: 1.1229, Perplexity: 3.07\n"
          ]
        },
        {
          "output_type": "stream",
          "name": "stderr",
          "text": [
            "Training: 100%|██████████| 385/385 [00:04<00:00, 82.56it/s, loss=1.0021]\n"
          ]
        },
        {
          "output_type": "stream",
          "name": "stdout",
          "text": [
            "Epoch 14/100, Train Loss: 1.0276, Val Loss: 1.0964, Perplexity: 2.99\n"
          ]
        },
        {
          "output_type": "stream",
          "name": "stderr",
          "text": [
            "Training: 100%|██████████| 385/385 [00:04<00:00, 80.41it/s, loss=0.9915]\n"
          ]
        },
        {
          "output_type": "stream",
          "name": "stdout",
          "text": [
            "Epoch 15/100, Train Loss: 0.9966, Val Loss: 1.0699, Perplexity: 2.91\n"
          ]
        },
        {
          "output_type": "stream",
          "name": "stderr",
          "text": [
            "Training: 100%|██████████| 385/385 [00:04<00:00, 82.95it/s, loss=1.2287]\n"
          ]
        },
        {
          "output_type": "stream",
          "name": "stdout",
          "text": [
            "Epoch 16/100, Train Loss: 0.9698, Val Loss: 1.0611, Perplexity: 2.89\n"
          ]
        },
        {
          "output_type": "stream",
          "name": "stderr",
          "text": [
            "Training: 100%|██████████| 385/385 [00:04<00:00, 82.57it/s, loss=0.8078]\n"
          ]
        },
        {
          "output_type": "stream",
          "name": "stdout",
          "text": [
            "Epoch 17/100, Train Loss: 0.9445, Val Loss: 1.0417, Perplexity: 2.83\n"
          ]
        },
        {
          "output_type": "stream",
          "name": "stderr",
          "text": [
            "Training: 100%|██████████| 385/385 [00:04<00:00, 80.23it/s, loss=0.7322]\n"
          ]
        },
        {
          "output_type": "stream",
          "name": "stdout",
          "text": [
            "Epoch 18/100, Train Loss: 0.9270, Val Loss: 1.0396, Perplexity: 2.83\n"
          ]
        },
        {
          "output_type": "stream",
          "name": "stderr",
          "text": [
            "Training: 100%|██████████| 385/385 [00:04<00:00, 83.17it/s, loss=0.8458]\n"
          ]
        },
        {
          "output_type": "stream",
          "name": "stdout",
          "text": [
            "Epoch 19/100, Train Loss: 0.9111, Val Loss: 1.0184, Perplexity: 2.77\n"
          ]
        },
        {
          "output_type": "stream",
          "name": "stderr",
          "text": [
            "Training: 100%|██████████| 385/385 [00:04<00:00, 82.16it/s, loss=1.0747]\n"
          ]
        },
        {
          "output_type": "stream",
          "name": "stdout",
          "text": [
            "Epoch 20/100, Train Loss: 0.8941, Val Loss: 1.0066, Perplexity: 2.74\n"
          ]
        },
        {
          "output_type": "stream",
          "name": "stderr",
          "text": [
            "Training: 100%|██████████| 385/385 [00:04<00:00, 81.97it/s, loss=0.9878]\n"
          ]
        },
        {
          "output_type": "stream",
          "name": "stdout",
          "text": [
            "Epoch 21/100, Train Loss: 0.8828, Val Loss: 0.9971, Perplexity: 2.71\n"
          ]
        },
        {
          "output_type": "stream",
          "name": "stderr",
          "text": [
            "Training: 100%|██████████| 385/385 [00:04<00:00, 82.61it/s, loss=0.7850]\n"
          ]
        },
        {
          "output_type": "stream",
          "name": "stdout",
          "text": [
            "Epoch 22/100, Train Loss: 0.8689, Val Loss: 0.9977, Perplexity: 2.71\n"
          ]
        },
        {
          "output_type": "stream",
          "name": "stderr",
          "text": [
            "Training: 100%|██████████| 385/385 [00:04<00:00, 80.83it/s, loss=0.8771]\n"
          ]
        },
        {
          "output_type": "stream",
          "name": "stdout",
          "text": [
            "Epoch 23/100, Train Loss: 0.8599, Val Loss: 0.9912, Perplexity: 2.69\n"
          ]
        },
        {
          "output_type": "stream",
          "name": "stderr",
          "text": [
            "Training: 100%|██████████| 385/385 [00:04<00:00, 82.14it/s, loss=0.8792]\n"
          ]
        },
        {
          "output_type": "stream",
          "name": "stdout",
          "text": [
            "Epoch 24/100, Train Loss: 0.8514, Val Loss: 0.9881, Perplexity: 2.69\n"
          ]
        },
        {
          "output_type": "stream",
          "name": "stderr",
          "text": [
            "Training: 100%|██████████| 385/385 [00:04<00:00, 83.26it/s, loss=0.6738]\n"
          ]
        },
        {
          "output_type": "stream",
          "name": "stdout",
          "text": [
            "Epoch 25/100, Train Loss: 0.8422, Val Loss: 0.9803, Perplexity: 2.67\n"
          ]
        },
        {
          "output_type": "stream",
          "name": "stderr",
          "text": [
            "Training: 100%|██████████| 385/385 [00:04<00:00, 78.27it/s, loss=0.7695]\n"
          ]
        },
        {
          "output_type": "stream",
          "name": "stdout",
          "text": [
            "Epoch 26/100, Train Loss: 0.8337, Val Loss: 0.9860, Perplexity: 2.68\n"
          ]
        },
        {
          "output_type": "stream",
          "name": "stderr",
          "text": [
            "Training: 100%|██████████| 385/385 [00:04<00:00, 82.43it/s, loss=0.8452]\n"
          ]
        },
        {
          "output_type": "stream",
          "name": "stdout",
          "text": [
            "Epoch 27/100, Train Loss: 0.8302, Val Loss: 0.9726, Perplexity: 2.64\n"
          ]
        },
        {
          "output_type": "stream",
          "name": "stderr",
          "text": [
            "Training: 100%|██████████| 385/385 [00:04<00:00, 83.09it/s, loss=0.7566]\n"
          ]
        },
        {
          "output_type": "stream",
          "name": "stdout",
          "text": [
            "Epoch 28/100, Train Loss: 0.8216, Val Loss: 0.9691, Perplexity: 2.64\n"
          ]
        },
        {
          "output_type": "stream",
          "name": "stderr",
          "text": [
            "Training: 100%|██████████| 385/385 [00:04<00:00, 80.78it/s, loss=0.7435]\n"
          ]
        },
        {
          "output_type": "stream",
          "name": "stdout",
          "text": [
            "Epoch 29/100, Train Loss: 0.8148, Val Loss: 0.9822, Perplexity: 2.67\n"
          ]
        },
        {
          "output_type": "stream",
          "name": "stderr",
          "text": [
            "Training: 100%|██████████| 385/385 [00:04<00:00, 82.87it/s, loss=0.6276]\n"
          ]
        },
        {
          "output_type": "stream",
          "name": "stdout",
          "text": [
            "Epoch 30/100, Train Loss: 0.8117, Val Loss: 0.9737, Perplexity: 2.65\n"
          ]
        },
        {
          "output_type": "stream",
          "name": "stderr",
          "text": [
            "Training: 100%|██████████| 385/385 [00:04<00:00, 81.14it/s, loss=0.8239]\n"
          ]
        },
        {
          "output_type": "stream",
          "name": "stdout",
          "text": [
            "Epoch 31/100, Train Loss: 0.8045, Val Loss: 0.9742, Perplexity: 2.65\n"
          ]
        },
        {
          "output_type": "stream",
          "name": "stderr",
          "text": [
            "Training: 100%|██████████| 385/385 [00:04<00:00, 79.20it/s, loss=0.7399]\n"
          ]
        },
        {
          "output_type": "stream",
          "name": "stdout",
          "text": [
            "Epoch 32/100, Train Loss: 0.7996, Val Loss: 0.9702, Perplexity: 2.64\n"
          ]
        },
        {
          "output_type": "stream",
          "name": "stderr",
          "text": [
            "Training: 100%|██████████| 385/385 [00:04<00:00, 82.87it/s, loss=0.7690]\n"
          ]
        },
        {
          "output_type": "stream",
          "name": "stdout",
          "text": [
            "Epoch 33/100, Train Loss: 0.7539, Val Loss: 0.9475, Perplexity: 2.58\n"
          ]
        },
        {
          "output_type": "stream",
          "name": "stderr",
          "text": [
            "Training: 100%|██████████| 385/385 [00:04<00:00, 82.24it/s, loss=0.6558]\n"
          ]
        },
        {
          "output_type": "stream",
          "name": "stdout",
          "text": [
            "Epoch 34/100, Train Loss: 0.7423, Val Loss: 0.9485, Perplexity: 2.58\n"
          ]
        },
        {
          "output_type": "stream",
          "name": "stderr",
          "text": [
            "Training: 100%|██████████| 385/385 [00:04<00:00, 81.06it/s, loss=0.8210]\n"
          ]
        },
        {
          "output_type": "stream",
          "name": "stdout",
          "text": [
            "Epoch 35/100, Train Loss: 0.7389, Val Loss: 0.9471, Perplexity: 2.58\n"
          ]
        },
        {
          "output_type": "stream",
          "name": "stderr",
          "text": [
            "Training: 100%|██████████| 385/385 [00:04<00:00, 83.36it/s, loss=0.6763]\n"
          ]
        },
        {
          "output_type": "stream",
          "name": "stdout",
          "text": [
            "Epoch 36/100, Train Loss: 0.7386, Val Loss: 0.9520, Perplexity: 2.59\n"
          ]
        },
        {
          "output_type": "stream",
          "name": "stderr",
          "text": [
            "Training: 100%|██████████| 385/385 [00:04<00:00, 81.15it/s, loss=0.7812]\n"
          ]
        },
        {
          "output_type": "stream",
          "name": "stdout",
          "text": [
            "Epoch 37/100, Train Loss: 0.7380, Val Loss: 0.9495, Perplexity: 2.58\n"
          ]
        },
        {
          "output_type": "stream",
          "name": "stderr",
          "text": [
            "Training: 100%|██████████| 385/385 [00:04<00:00, 81.58it/s, loss=0.9290]\n"
          ]
        },
        {
          "output_type": "stream",
          "name": "stdout",
          "text": [
            "Epoch 38/100, Train Loss: 0.7370, Val Loss: 0.9475, Perplexity: 2.58\n"
          ]
        },
        {
          "output_type": "stream",
          "name": "stderr",
          "text": [
            "Training: 100%|██████████| 385/385 [00:04<00:00, 83.39it/s, loss=0.6835]\n"
          ]
        },
        {
          "output_type": "stream",
          "name": "stdout",
          "text": [
            "Epoch 39/100, Train Loss: 0.7358, Val Loss: 0.9494, Perplexity: 2.58\n"
          ]
        },
        {
          "output_type": "stream",
          "name": "stderr",
          "text": [
            "Training: 100%|██████████| 385/385 [00:04<00:00, 80.66it/s, loss=0.7251]\n"
          ]
        },
        {
          "output_type": "stream",
          "name": "stdout",
          "text": [
            "Epoch 40/100, Train Loss: 0.7135, Val Loss: 0.9452, Perplexity: 2.57\n"
          ]
        },
        {
          "output_type": "stream",
          "name": "stderr",
          "text": [
            "Training: 100%|██████████| 385/385 [00:04<00:00, 83.02it/s, loss=0.7734]\n"
          ]
        },
        {
          "output_type": "stream",
          "name": "stdout",
          "text": [
            "Epoch 41/100, Train Loss: 0.7087, Val Loss: 0.9458, Perplexity: 2.57\n"
          ]
        },
        {
          "output_type": "stream",
          "name": "stderr",
          "text": [
            "Training: 100%|██████████| 385/385 [00:04<00:00, 82.58it/s, loss=0.8161]\n"
          ]
        },
        {
          "output_type": "stream",
          "name": "stdout",
          "text": [
            "Epoch 42/100, Train Loss: 0.7069, Val Loss: 0.9452, Perplexity: 2.57\n"
          ]
        },
        {
          "output_type": "stream",
          "name": "stderr",
          "text": [
            "Training: 100%|██████████| 385/385 [00:04<00:00, 78.94it/s, loss=0.6912]\n"
          ]
        },
        {
          "output_type": "stream",
          "name": "stdout",
          "text": [
            "Epoch 43/100, Train Loss: 0.7050, Val Loss: 0.9461, Perplexity: 2.58\n"
          ]
        },
        {
          "output_type": "stream",
          "name": "stderr",
          "text": [
            "Training: 100%|██████████| 385/385 [00:04<00:00, 82.96it/s, loss=0.6945]\n"
          ]
        },
        {
          "output_type": "stream",
          "name": "stdout",
          "text": [
            "Epoch 44/100, Train Loss: 0.7038, Val Loss: 0.9451, Perplexity: 2.57\n"
          ]
        },
        {
          "output_type": "stream",
          "name": "stderr",
          "text": [
            "Training: 100%|██████████| 385/385 [00:04<00:00, 83.32it/s, loss=0.6678]\n"
          ]
        },
        {
          "output_type": "stream",
          "name": "stdout",
          "text": [
            "Epoch 45/100, Train Loss: 0.7036, Val Loss: 0.9463, Perplexity: 2.58\n"
          ]
        },
        {
          "output_type": "stream",
          "name": "stderr",
          "text": [
            "Training: 100%|██████████| 385/385 [00:04<00:00, 79.72it/s, loss=0.6690]\n"
          ]
        },
        {
          "output_type": "stream",
          "name": "stdout",
          "text": [
            "Epoch 46/100, Train Loss: 0.7041, Val Loss: 0.9475, Perplexity: 2.58\n"
          ]
        },
        {
          "output_type": "stream",
          "name": "stderr",
          "text": [
            "Training: 100%|██████████| 385/385 [00:04<00:00, 82.73it/s, loss=0.6516]\n"
          ]
        },
        {
          "output_type": "stream",
          "name": "stdout",
          "text": [
            "Epoch 47/100, Train Loss: 0.7024, Val Loss: 0.9465, Perplexity: 2.58\n"
          ]
        },
        {
          "output_type": "stream",
          "name": "stderr",
          "text": [
            "Training: 100%|██████████| 385/385 [00:04<00:00, 81.98it/s, loss=0.7591]\n"
          ]
        },
        {
          "output_type": "stream",
          "name": "stdout",
          "text": [
            "Epoch 48/100, Train Loss: 0.7018, Val Loss: 0.9490, Perplexity: 2.58\n"
          ]
        },
        {
          "output_type": "stream",
          "name": "stderr",
          "text": [
            "Training: 100%|██████████| 385/385 [00:04<00:00, 79.87it/s, loss=0.7434]\n"
          ]
        },
        {
          "output_type": "stream",
          "name": "stdout",
          "text": [
            "Epoch 49/100, Train Loss: 0.6898, Val Loss: 0.9449, Perplexity: 2.57\n"
          ]
        },
        {
          "output_type": "stream",
          "name": "stderr",
          "text": [
            "Training: 100%|██████████| 385/385 [00:04<00:00, 82.67it/s, loss=0.6176]\n"
          ]
        },
        {
          "output_type": "stream",
          "name": "stdout",
          "text": [
            "Epoch 50/100, Train Loss: 0.6870, Val Loss: 0.9452, Perplexity: 2.57\n"
          ]
        },
        {
          "output_type": "stream",
          "name": "stderr",
          "text": [
            "Training: 100%|██████████| 385/385 [00:04<00:00, 81.50it/s, loss=0.7944]\n"
          ]
        },
        {
          "output_type": "stream",
          "name": "stdout",
          "text": [
            "Epoch 51/100, Train Loss: 0.6874, Val Loss: 0.9466, Perplexity: 2.58\n"
          ]
        },
        {
          "output_type": "stream",
          "name": "stderr",
          "text": [
            "Training: 100%|██████████| 385/385 [00:04<00:00, 79.82it/s, loss=0.6167]\n"
          ]
        },
        {
          "output_type": "stream",
          "name": "stdout",
          "text": [
            "Epoch 52/100, Train Loss: 0.6888, Val Loss: 0.9451, Perplexity: 2.57\n"
          ]
        },
        {
          "output_type": "stream",
          "name": "stderr",
          "text": [
            "Training: 100%|██████████| 385/385 [00:04<00:00, 82.97it/s, loss=0.6021]\n"
          ]
        },
        {
          "output_type": "stream",
          "name": "stdout",
          "text": [
            "Epoch 53/100, Train Loss: 0.6867, Val Loss: 0.9481, Perplexity: 2.58\n"
          ]
        },
        {
          "output_type": "stream",
          "name": "stderr",
          "text": [
            "Training: 100%|██████████| 385/385 [00:04<00:00, 80.03it/s, loss=0.7859]\n"
          ]
        },
        {
          "output_type": "stream",
          "name": "stdout",
          "text": [
            "Epoch 54/100, Train Loss: 0.6801, Val Loss: 0.9464, Perplexity: 2.58\n",
            "Early stopping at epoch 54\n",
            "\n",
            "===== Training GRU_EMB =====\n",
            "\n"
          ]
        },
        {
          "output_type": "stream",
          "name": "stderr",
          "text": [
            "Training: 100%|██████████| 385/385 [00:03<00:00, 109.70it/s, loss=4.3306]\n"
          ]
        },
        {
          "output_type": "stream",
          "name": "stdout",
          "text": [
            "Epoch 1/100, Train Loss: 4.4342, Val Loss: 3.7481, Perplexity: 42.44\n"
          ]
        },
        {
          "output_type": "stream",
          "name": "stderr",
          "text": [
            "Training: 100%|██████████| 385/385 [00:03<00:00, 109.89it/s, loss=3.3111]\n"
          ]
        },
        {
          "output_type": "stream",
          "name": "stdout",
          "text": [
            "Epoch 2/100, Train Loss: 3.4958, Val Loss: 2.9245, Perplexity: 18.62\n"
          ]
        },
        {
          "output_type": "stream",
          "name": "stderr",
          "text": [
            "Training: 100%|██████████| 385/385 [00:03<00:00, 108.57it/s, loss=2.2763]\n"
          ]
        },
        {
          "output_type": "stream",
          "name": "stdout",
          "text": [
            "Epoch 3/100, Train Loss: 2.8064, Val Loss: 2.2583, Perplexity: 9.57\n"
          ]
        },
        {
          "output_type": "stream",
          "name": "stderr",
          "text": [
            "Training: 100%|██████████| 385/385 [00:03<00:00, 101.44it/s, loss=2.3434]\n"
          ]
        },
        {
          "output_type": "stream",
          "name": "stdout",
          "text": [
            "Epoch 4/100, Train Loss: 2.3055, Val Loss: 1.7981, Perplexity: 6.04\n"
          ]
        },
        {
          "output_type": "stream",
          "name": "stderr",
          "text": [
            "Training: 100%|██████████| 385/385 [00:03<00:00, 108.59it/s, loss=1.9005]\n"
          ]
        },
        {
          "output_type": "stream",
          "name": "stdout",
          "text": [
            "Epoch 5/100, Train Loss: 1.9698, Val Loss: 1.5108, Perplexity: 4.53\n"
          ]
        },
        {
          "output_type": "stream",
          "name": "stderr",
          "text": [
            "Training: 100%|██████████| 385/385 [00:03<00:00, 111.75it/s, loss=1.8458]\n"
          ]
        },
        {
          "output_type": "stream",
          "name": "stdout",
          "text": [
            "Epoch 6/100, Train Loss: 1.7409, Val Loss: 1.3148, Perplexity: 3.72\n"
          ]
        },
        {
          "output_type": "stream",
          "name": "stderr",
          "text": [
            "Training: 100%|██████████| 385/385 [00:03<00:00, 103.34it/s, loss=1.5370]\n"
          ]
        },
        {
          "output_type": "stream",
          "name": "stdout",
          "text": [
            "Epoch 7/100, Train Loss: 1.5764, Val Loss: 1.1997, Perplexity: 3.32\n"
          ]
        },
        {
          "output_type": "stream",
          "name": "stderr",
          "text": [
            "Training: 100%|██████████| 385/385 [00:03<00:00, 103.86it/s, loss=1.4443]\n"
          ]
        },
        {
          "output_type": "stream",
          "name": "stdout",
          "text": [
            "Epoch 8/100, Train Loss: 1.4626, Val Loss: 1.1115, Perplexity: 3.04\n"
          ]
        },
        {
          "output_type": "stream",
          "name": "stderr",
          "text": [
            "Training: 100%|██████████| 385/385 [00:03<00:00, 109.36it/s, loss=1.2716]\n"
          ]
        },
        {
          "output_type": "stream",
          "name": "stdout",
          "text": [
            "Epoch 9/100, Train Loss: 1.3699, Val Loss: 1.0500, Perplexity: 2.86\n"
          ]
        },
        {
          "output_type": "stream",
          "name": "stderr",
          "text": [
            "Training: 100%|██████████| 385/385 [00:03<00:00, 109.15it/s, loss=1.3360]\n"
          ]
        },
        {
          "output_type": "stream",
          "name": "stdout",
          "text": [
            "Epoch 10/100, Train Loss: 1.3014, Val Loss: 1.0183, Perplexity: 2.77\n"
          ]
        },
        {
          "output_type": "stream",
          "name": "stderr",
          "text": [
            "Training: 100%|██████████| 385/385 [00:03<00:00, 105.92it/s, loss=1.2742]\n"
          ]
        },
        {
          "output_type": "stream",
          "name": "stdout",
          "text": [
            "Epoch 11/100, Train Loss: 1.2441, Val Loss: 0.9946, Perplexity: 2.70\n"
          ]
        },
        {
          "output_type": "stream",
          "name": "stderr",
          "text": [
            "Training: 100%|██████████| 385/385 [00:03<00:00, 107.90it/s, loss=1.3637]\n"
          ]
        },
        {
          "output_type": "stream",
          "name": "stdout",
          "text": [
            "Epoch 12/100, Train Loss: 1.1997, Val Loss: 0.9631, Perplexity: 2.62\n"
          ]
        },
        {
          "output_type": "stream",
          "name": "stderr",
          "text": [
            "Training: 100%|██████████| 385/385 [00:03<00:00, 107.58it/s, loss=1.1784]\n"
          ]
        },
        {
          "output_type": "stream",
          "name": "stdout",
          "text": [
            "Epoch 13/100, Train Loss: 1.1589, Val Loss: 0.9538, Perplexity: 2.60\n"
          ]
        },
        {
          "output_type": "stream",
          "name": "stderr",
          "text": [
            "Training: 100%|██████████| 385/385 [00:03<00:00, 104.85it/s, loss=1.1105]\n"
          ]
        },
        {
          "output_type": "stream",
          "name": "stdout",
          "text": [
            "Epoch 14/100, Train Loss: 1.1320, Val Loss: 0.9418, Perplexity: 2.56\n"
          ]
        },
        {
          "output_type": "stream",
          "name": "stderr",
          "text": [
            "Training: 100%|██████████| 385/385 [00:03<00:00, 100.78it/s, loss=1.1083]\n"
          ]
        },
        {
          "output_type": "stream",
          "name": "stdout",
          "text": [
            "Epoch 15/100, Train Loss: 1.0999, Val Loss: 0.9266, Perplexity: 2.53\n"
          ]
        },
        {
          "output_type": "stream",
          "name": "stderr",
          "text": [
            "Training: 100%|██████████| 385/385 [00:03<00:00, 108.84it/s, loss=0.8964]\n"
          ]
        },
        {
          "output_type": "stream",
          "name": "stdout",
          "text": [
            "Epoch 16/100, Train Loss: 1.0749, Val Loss: 0.9203, Perplexity: 2.51\n"
          ]
        },
        {
          "output_type": "stream",
          "name": "stderr",
          "text": [
            "Training: 100%|██████████| 385/385 [00:03<00:00, 109.52it/s, loss=1.0434]\n"
          ]
        },
        {
          "output_type": "stream",
          "name": "stdout",
          "text": [
            "Epoch 17/100, Train Loss: 1.0578, Val Loss: 0.9175, Perplexity: 2.50\n"
          ]
        },
        {
          "output_type": "stream",
          "name": "stderr",
          "text": [
            "Training: 100%|██████████| 385/385 [00:03<00:00, 104.12it/s, loss=1.0549]\n"
          ]
        },
        {
          "output_type": "stream",
          "name": "stdout",
          "text": [
            "Epoch 18/100, Train Loss: 1.0392, Val Loss: 0.9181, Perplexity: 2.50\n"
          ]
        },
        {
          "output_type": "stream",
          "name": "stderr",
          "text": [
            "Training: 100%|██████████| 385/385 [00:03<00:00, 103.82it/s, loss=1.0099]\n"
          ]
        },
        {
          "output_type": "stream",
          "name": "stdout",
          "text": [
            "Epoch 19/100, Train Loss: 1.0227, Val Loss: 0.9129, Perplexity: 2.49\n"
          ]
        },
        {
          "output_type": "stream",
          "name": "stderr",
          "text": [
            "Training: 100%|██████████| 385/385 [00:03<00:00, 108.61it/s, loss=0.9185]\n"
          ]
        },
        {
          "output_type": "stream",
          "name": "stdout",
          "text": [
            "Epoch 20/100, Train Loss: 1.0047, Val Loss: 0.9043, Perplexity: 2.47\n"
          ]
        },
        {
          "output_type": "stream",
          "name": "stderr",
          "text": [
            "Training: 100%|██████████| 385/385 [00:03<00:00, 110.51it/s, loss=0.9443]\n"
          ]
        },
        {
          "output_type": "stream",
          "name": "stdout",
          "text": [
            "Epoch 21/100, Train Loss: 0.9935, Val Loss: 0.9062, Perplexity: 2.47\n"
          ]
        },
        {
          "output_type": "stream",
          "name": "stderr",
          "text": [
            "Training: 100%|██████████| 385/385 [00:03<00:00, 104.34it/s, loss=1.0746]\n"
          ]
        },
        {
          "output_type": "stream",
          "name": "stdout",
          "text": [
            "Epoch 22/100, Train Loss: 0.9808, Val Loss: 0.9016, Perplexity: 2.46\n"
          ]
        },
        {
          "output_type": "stream",
          "name": "stderr",
          "text": [
            "Training: 100%|██████████| 385/385 [00:03<00:00, 105.52it/s, loss=1.1541]\n"
          ]
        },
        {
          "output_type": "stream",
          "name": "stdout",
          "text": [
            "Epoch 23/100, Train Loss: 0.9708, Val Loss: 0.8969, Perplexity: 2.45\n"
          ]
        },
        {
          "output_type": "stream",
          "name": "stderr",
          "text": [
            "Training: 100%|██████████| 385/385 [00:03<00:00, 108.72it/s, loss=1.0727]\n"
          ]
        },
        {
          "output_type": "stream",
          "name": "stdout",
          "text": [
            "Epoch 24/100, Train Loss: 0.9593, Val Loss: 0.8989, Perplexity: 2.46\n"
          ]
        },
        {
          "output_type": "stream",
          "name": "stderr",
          "text": [
            "Training: 100%|██████████| 385/385 [00:03<00:00, 108.60it/s, loss=1.1295]\n"
          ]
        },
        {
          "output_type": "stream",
          "name": "stdout",
          "text": [
            "Epoch 25/100, Train Loss: 0.9540, Val Loss: 0.9005, Perplexity: 2.46\n"
          ]
        },
        {
          "output_type": "stream",
          "name": "stderr",
          "text": [
            "Training: 100%|██████████| 385/385 [00:03<00:00, 103.83it/s, loss=0.8824]\n"
          ]
        },
        {
          "output_type": "stream",
          "name": "stdout",
          "text": [
            "Epoch 26/100, Train Loss: 0.9414, Val Loss: 0.8961, Perplexity: 2.45\n"
          ]
        },
        {
          "output_type": "stream",
          "name": "stderr",
          "text": [
            "Training: 100%|██████████| 385/385 [00:03<00:00, 109.45it/s, loss=0.7820]\n"
          ]
        },
        {
          "output_type": "stream",
          "name": "stdout",
          "text": [
            "Epoch 27/100, Train Loss: 0.9309, Val Loss: 0.8916, Perplexity: 2.44\n"
          ]
        },
        {
          "output_type": "stream",
          "name": "stderr",
          "text": [
            "Training: 100%|██████████| 385/385 [00:03<00:00, 111.00it/s, loss=0.9087]\n"
          ]
        },
        {
          "output_type": "stream",
          "name": "stdout",
          "text": [
            "Epoch 28/100, Train Loss: 0.9246, Val Loss: 0.8863, Perplexity: 2.43\n"
          ]
        },
        {
          "output_type": "stream",
          "name": "stderr",
          "text": [
            "Training: 100%|██████████| 385/385 [00:03<00:00, 107.85it/s, loss=1.0954]\n"
          ]
        },
        {
          "output_type": "stream",
          "name": "stdout",
          "text": [
            "Epoch 29/100, Train Loss: 0.9189, Val Loss: 0.8902, Perplexity: 2.44\n"
          ]
        },
        {
          "output_type": "stream",
          "name": "stderr",
          "text": [
            "Training: 100%|██████████| 385/385 [00:03<00:00, 101.84it/s, loss=0.9342]\n"
          ]
        },
        {
          "output_type": "stream",
          "name": "stdout",
          "text": [
            "Epoch 30/100, Train Loss: 0.9119, Val Loss: 0.8929, Perplexity: 2.44\n"
          ]
        },
        {
          "output_type": "stream",
          "name": "stderr",
          "text": [
            "Training: 100%|██████████| 385/385 [00:03<00:00, 108.51it/s, loss=0.8886]\n"
          ]
        },
        {
          "output_type": "stream",
          "name": "stdout",
          "text": [
            "Epoch 31/100, Train Loss: 0.9022, Val Loss: 0.8881, Perplexity: 2.43\n"
          ]
        },
        {
          "output_type": "stream",
          "name": "stderr",
          "text": [
            "Training: 100%|██████████| 385/385 [00:03<00:00, 109.84it/s, loss=1.0457]\n"
          ]
        },
        {
          "output_type": "stream",
          "name": "stdout",
          "text": [
            "Epoch 32/100, Train Loss: 0.8987, Val Loss: 0.8899, Perplexity: 2.43\n"
          ]
        },
        {
          "output_type": "stream",
          "name": "stderr",
          "text": [
            "Training: 100%|██████████| 385/385 [00:03<00:00, 109.76it/s, loss=0.9235]\n"
          ]
        },
        {
          "output_type": "stream",
          "name": "stdout",
          "text": [
            "Epoch 33/100, Train Loss: 0.8488, Val Loss: 0.8728, Perplexity: 2.39\n"
          ]
        },
        {
          "output_type": "stream",
          "name": "stderr",
          "text": [
            "Training: 100%|██████████| 385/385 [00:03<00:00, 101.35it/s, loss=0.9328]\n"
          ]
        },
        {
          "output_type": "stream",
          "name": "stdout",
          "text": [
            "Epoch 34/100, Train Loss: 0.8225, Val Loss: 0.8760, Perplexity: 2.40\n"
          ]
        },
        {
          "output_type": "stream",
          "name": "stderr",
          "text": [
            "Training: 100%|██████████| 385/385 [00:03<00:00, 109.22it/s, loss=0.8297]\n"
          ]
        },
        {
          "output_type": "stream",
          "name": "stdout",
          "text": [
            "Epoch 35/100, Train Loss: 0.8158, Val Loss: 0.8765, Perplexity: 2.40\n"
          ]
        },
        {
          "output_type": "stream",
          "name": "stderr",
          "text": [
            "Training: 100%|██████████| 385/385 [00:03<00:00, 108.25it/s, loss=0.7628]\n"
          ]
        },
        {
          "output_type": "stream",
          "name": "stdout",
          "text": [
            "Epoch 36/100, Train Loss: 0.8106, Val Loss: 0.8743, Perplexity: 2.40\n"
          ]
        },
        {
          "output_type": "stream",
          "name": "stderr",
          "text": [
            "Training: 100%|██████████| 385/385 [00:03<00:00, 105.19it/s, loss=0.8719]\n"
          ]
        },
        {
          "output_type": "stream",
          "name": "stdout",
          "text": [
            "Epoch 37/100, Train Loss: 0.8030, Val Loss: 0.8774, Perplexity: 2.40\n"
          ]
        },
        {
          "output_type": "stream",
          "name": "stderr",
          "text": [
            "Training: 100%|██████████| 385/385 [00:03<00:00, 103.21it/s, loss=0.6545]\n"
          ]
        },
        {
          "output_type": "stream",
          "name": "stdout",
          "text": [
            "Epoch 38/100, Train Loss: 0.7823, Val Loss: 0.8725, Perplexity: 2.39\n"
          ]
        },
        {
          "output_type": "stream",
          "name": "stderr",
          "text": [
            "Training: 100%|██████████| 385/385 [00:03<00:00, 108.05it/s, loss=0.9846]\n"
          ]
        },
        {
          "output_type": "stream",
          "name": "stdout",
          "text": [
            "Epoch 39/100, Train Loss: 0.7727, Val Loss: 0.8708, Perplexity: 2.39\n"
          ]
        },
        {
          "output_type": "stream",
          "name": "stderr",
          "text": [
            "Training: 100%|██████████| 385/385 [00:03<00:00, 109.43it/s, loss=0.7269]\n"
          ]
        },
        {
          "output_type": "stream",
          "name": "stdout",
          "text": [
            "Epoch 40/100, Train Loss: 0.7680, Val Loss: 0.8730, Perplexity: 2.39\n"
          ]
        },
        {
          "output_type": "stream",
          "name": "stderr",
          "text": [
            "Training: 100%|██████████| 385/385 [00:03<00:00, 104.79it/s, loss=0.8937]\n"
          ]
        },
        {
          "output_type": "stream",
          "name": "stdout",
          "text": [
            "Epoch 41/100, Train Loss: 0.7662, Val Loss: 0.8732, Perplexity: 2.39\n"
          ]
        },
        {
          "output_type": "stream",
          "name": "stderr",
          "text": [
            "Training: 100%|██████████| 385/385 [00:03<00:00, 105.53it/s, loss=0.9554]\n"
          ]
        },
        {
          "output_type": "stream",
          "name": "stdout",
          "text": [
            "Epoch 42/100, Train Loss: 0.7633, Val Loss: 0.8741, Perplexity: 2.40\n"
          ]
        },
        {
          "output_type": "stream",
          "name": "stderr",
          "text": [
            "Training: 100%|██████████| 385/385 [00:03<00:00, 109.57it/s, loss=0.7064]\n"
          ]
        },
        {
          "output_type": "stream",
          "name": "stdout",
          "text": [
            "Epoch 43/100, Train Loss: 0.7597, Val Loss: 0.8756, Perplexity: 2.40\n"
          ]
        },
        {
          "output_type": "stream",
          "name": "stderr",
          "text": [
            "Training: 100%|██████████| 385/385 [00:03<00:00, 107.95it/s, loss=0.7247]\n"
          ]
        },
        {
          "output_type": "stream",
          "name": "stdout",
          "text": [
            "Epoch 44/100, Train Loss: 0.7490, Val Loss: 0.8751, Perplexity: 2.40\n",
            "Early stopping at epoch 44\n",
            "\n",
            "===== Evaluating all models =====\n",
            "\n",
            "Evaluating RNN_OHE...\n"
          ]
        },
        {
          "output_type": "error",
          "ename": "UnpicklingError",
          "evalue": "Weights only load failed. This file can still be loaded, to do so you have two options, \u001b[1mdo those steps only if you trust the source of the checkpoint\u001b[0m. \n\t(1) In PyTorch 2.6, we changed the default value of the `weights_only` argument in `torch.load` from `False` to `True`. Re-running `torch.load` with `weights_only` set to `False` will likely succeed, but it can result in arbitrary code execution. Do it only if you got the file from a trusted source.\n\t(2) Alternatively, to load with `weights_only=True` please check the recommended steps in the following error message.\n\tWeightsUnpickler error: Unsupported global: GLOBAL numpy._core.multiarray.scalar was not an allowed global by default. Please use `torch.serialization.add_safe_globals([scalar])` or the `torch.serialization.safe_globals([scalar])` context manager to allowlist this global if you trust this class/function.\n\nCheck the documentation of torch.load to learn more about types accepted by default with weights_only https://pytorch.org/docs/stable/generated/torch.load.html.",
          "traceback": [
            "\u001b[0;31m---------------------------------------------------------------------------\u001b[0m",
            "\u001b[0;31mUnpicklingError\u001b[0m                           Traceback (most recent call last)",
            "\u001b[0;32m<ipython-input-29-76d9f6b42abe>\u001b[0m in \u001b[0;36m<cell line: 0>\u001b[0;34m()\u001b[0m\n\u001b[1;32m     83\u001b[0m \u001b[0;31m# Evaluate all models\u001b[0m\u001b[0;34m\u001b[0m\u001b[0;34m\u001b[0m\u001b[0m\n\u001b[1;32m     84\u001b[0m \u001b[0mprint\u001b[0m\u001b[0;34m(\u001b[0m\u001b[0;34m\"\\n===== Evaluating all models =====\\n\"\u001b[0m\u001b[0;34m)\u001b[0m\u001b[0;34m\u001b[0m\u001b[0;34m\u001b[0m\u001b[0m\n\u001b[0;32m---> 85\u001b[0;31m \u001b[0mevaluation_results\u001b[0m \u001b[0;34m=\u001b[0m \u001b[0mevaluate_all_models\u001b[0m\u001b[0;34m(\u001b[0m\u001b[0mmodels\u001b[0m\u001b[0;34m,\u001b[0m \u001b[0mtest_loader\u001b[0m\u001b[0;34m,\u001b[0m \u001b[0mcriterion\u001b[0m\u001b[0;34m)\u001b[0m\u001b[0;34m\u001b[0m\u001b[0;34m\u001b[0m\u001b[0m\n\u001b[0m\u001b[1;32m     86\u001b[0m \u001b[0;34m\u001b[0m\u001b[0m\n\u001b[1;32m     87\u001b[0m \u001b[0;31m# Print final results summary\u001b[0m\u001b[0;34m\u001b[0m\u001b[0;34m\u001b[0m\u001b[0m\n",
            "\u001b[0;32m<ipython-input-27-02db8d12b5b1>\u001b[0m in \u001b[0;36mevaluate_all_models\u001b[0;34m(models, test_loader, criterion)\u001b[0m\n\u001b[1;32m      8\u001b[0m \u001b[0;34m\u001b[0m\u001b[0m\n\u001b[1;32m      9\u001b[0m         \u001b[0;31m# Load the best model weights\u001b[0m\u001b[0;34m\u001b[0m\u001b[0;34m\u001b[0m\u001b[0m\n\u001b[0;32m---> 10\u001b[0;31m         \u001b[0mcheckpoint\u001b[0m \u001b[0;34m=\u001b[0m \u001b[0mtorch\u001b[0m\u001b[0;34m.\u001b[0m\u001b[0mload\u001b[0m\u001b[0;34m(\u001b[0m\u001b[0;34mf\"model_results/{name}_best.pt\"\u001b[0m\u001b[0;34m)\u001b[0m\u001b[0;34m\u001b[0m\u001b[0;34m\u001b[0m\u001b[0m\n\u001b[0m\u001b[1;32m     11\u001b[0m         \u001b[0mmodel\u001b[0m\u001b[0;34m.\u001b[0m\u001b[0mload_state_dict\u001b[0m\u001b[0;34m(\u001b[0m\u001b[0mcheckpoint\u001b[0m\u001b[0;34m[\u001b[0m\u001b[0;34m'model_state_dict'\u001b[0m\u001b[0;34m]\u001b[0m\u001b[0;34m)\u001b[0m\u001b[0;34m\u001b[0m\u001b[0;34m\u001b[0m\u001b[0m\n\u001b[1;32m     12\u001b[0m \u001b[0;34m\u001b[0m\u001b[0m\n",
            "\u001b[0;32m/usr/local/lib/python3.11/dist-packages/torch/serialization.py\u001b[0m in \u001b[0;36mload\u001b[0;34m(f, map_location, pickle_module, weights_only, mmap, **pickle_load_args)\u001b[0m\n\u001b[1;32m   1468\u001b[0m                         )\n\u001b[1;32m   1469\u001b[0m                     \u001b[0;32mexcept\u001b[0m \u001b[0mpickle\u001b[0m\u001b[0;34m.\u001b[0m\u001b[0mUnpicklingError\u001b[0m \u001b[0;32mas\u001b[0m \u001b[0me\u001b[0m\u001b[0;34m:\u001b[0m\u001b[0;34m\u001b[0m\u001b[0;34m\u001b[0m\u001b[0m\n\u001b[0;32m-> 1470\u001b[0;31m                         \u001b[0;32mraise\u001b[0m \u001b[0mpickle\u001b[0m\u001b[0;34m.\u001b[0m\u001b[0mUnpicklingError\u001b[0m\u001b[0;34m(\u001b[0m\u001b[0m_get_wo_message\u001b[0m\u001b[0;34m(\u001b[0m\u001b[0mstr\u001b[0m\u001b[0;34m(\u001b[0m\u001b[0me\u001b[0m\u001b[0;34m)\u001b[0m\u001b[0;34m)\u001b[0m\u001b[0;34m)\u001b[0m \u001b[0;32mfrom\u001b[0m \u001b[0;32mNone\u001b[0m\u001b[0;34m\u001b[0m\u001b[0;34m\u001b[0m\u001b[0m\n\u001b[0m\u001b[1;32m   1471\u001b[0m                 return _load(\n\u001b[1;32m   1472\u001b[0m                     \u001b[0mopened_zipfile\u001b[0m\u001b[0;34m,\u001b[0m\u001b[0;34m\u001b[0m\u001b[0;34m\u001b[0m\u001b[0m\n",
            "\u001b[0;31mUnpicklingError\u001b[0m: Weights only load failed. This file can still be loaded, to do so you have two options, \u001b[1mdo those steps only if you trust the source of the checkpoint\u001b[0m. \n\t(1) In PyTorch 2.6, we changed the default value of the `weights_only` argument in `torch.load` from `False` to `True`. Re-running `torch.load` with `weights_only` set to `False` will likely succeed, but it can result in arbitrary code execution. Do it only if you got the file from a trusted source.\n\t(2) Alternatively, to load with `weights_only=True` please check the recommended steps in the following error message.\n\tWeightsUnpickler error: Unsupported global: GLOBAL numpy._core.multiarray.scalar was not an allowed global by default. Please use `torch.serialization.add_safe_globals([scalar])` or the `torch.serialization.safe_globals([scalar])` context manager to allowlist this global if you trust this class/function.\n\nCheck the documentation of torch.load to learn more about types accepted by default with weights_only https://pytorch.org/docs/stable/generated/torch.load.html."
          ]
        },
        {
          "output_type": "display_data",
          "data": {
            "text/plain": [
              "<Figure size 1200x500 with 2 Axes>"
            ],
            "image/png": "[encoded data removed]"
          },
          "metadata": {}
        },
        {
          "output_type": "display_data",
          "data": {
            "text/plain": [
              "<Figure size 1200x500 with 2 Axes>"
            ],
            "image/png": "[encoded data removed]"
          },
          "metadata": {}
        },
        {
          "output_type": "display_data",
          "data": {
            "text/plain": [
              "<Figure size 1200x500 with 2 Axes>"
            ],
            "image/png": "[encoded data removed]"
          },
          "metadata": {}
        },
        {
          "output_type": "display_data",
          "data": {
            "text/plain": [
              "<Figure size 1200x500 with 2 Axes>"
            ],
            "image/png": "[encoded data removed]"
          },
          "metadata": {}
        },
        {
          "output_type": "display_data",
          "data": {
            "text/plain": [
              "<Figure size 1200x500 with 2 Axes>"
            ],
            "image/png": "[encoded data removed]"
          },
          "metadata": {}
        },
        {
          "output_type": "display_data",
          "data": {
            "text/plain": [
              "<Figure size 1200x500 with 2 Axes>"
            ],
            "image/png": "[encoded data removed]"
          },
          "metadata": {}
        }
      ]
    },
    {
      "cell_type": "code",
      "source": [
        "\n",
        "# Evaluate all models\n",
        "print(\"\\n===== Evaluating all models =====\\n\")\n",
        "evaluation_results = evaluate_all_models(models, test_loader, criterion)\n",
        "\n",
        "# Print final results summary\n",
        "print(\"\\n===== Final Results Summary =====\\n\")\n",
        "print(\"Model | Perplexity | Accuracy\")\n",
        "print(\"----- | ---------- | --------\")\n",
        "for model_name, results in evaluation_results.items():\n",
        "    print(f\"{model_name} | {results['perplexity']:.2f} | {results['accuracy']:.4f}\")\n",
        "\n",
        "# Generate poems from the best model\n",
        "best_model_name = min(evaluation_results,\n",
        "                      key=lambda x: evaluation_results[x]['perplexity'])\n",
        "best_model = models[best_model_name]\n",
        "generate_poem(best_model, word_to_idx, idx_to_word, [\"love\", \"is\"])\n",
        "\n"
      ],
      "metadata": {
        "colab": {
          "base_uri": "https://localhost:8080/",
          "height": 1000
        },
        "id": "iemT7fsU80A0",
        "outputId": "8bee175c-a99c-4c73-8d9a-1ef3acc1086d"
      },
      "execution_count": 36,
      "outputs": [
        {
          "output_type": "stream",
          "name": "stdout",
          "text": [
            "\n",
            "===== Evaluating all models =====\n",
            "\n",
            "Evaluating RNN_OHE...\n",
            "  Test Loss: 0.9843\n",
            "  Perplexity: 2.68\n",
            "  Accuracy: 0.7816\n",
            "  Sample:\n",
            "Love Is\n",
            "so, poor,\n",
            "by my own hands,\n",
            "there, the\n",
            "\n",
            "Evaluating RNN_EMB...\n",
            "  Test Loss: 0.9995\n",
            "  Perplexity: 2.72\n",
            "  Accuracy: 0.7899\n",
            "  Sample:\n",
            "Love Is their\n",
            "to me the beautiful\n",
            "and summer,\n",
            "the press of\n",
            "my foot to the earth springs a\n",
            "hundred\n",
            "\n",
            "Evaluating LSTM_OHE...\n",
            "  Test Loss: 0.9465\n",
            "  Perplexity: 2.58\n",
            "  Accuracy: 0.7914\n",
            "  Sample:\n",
            "Love Is a\n",
            "\n",
            "Evaluating LSTM_EMB...\n",
            "  Test Loss: 0.8912\n",
            "  Perplexity: 2.44\n",
            "  Accuracy: 0.8036\n",
            "  Sample:\n",
            "Love Is under its ribs,\n",
            "where\n",
            "the\n",
            "\n",
            "Evaluating GRU_OHE...\n",
            "  Test Loss: 0.9405\n",
            "  Perplexity: 2.56\n",
            "  Accuracy: 0.7914\n",
            "  Sample:\n",
            "Love Is so\n",
            "\n",
            "Evaluating GRU_EMB...\n",
            "  Test Loss: 0.8647\n",
            "  Perplexity: 2.37\n",
            "  Accuracy: 0.8095\n",
            "  Sample:\n",
            "Love Is so.\n",
            "sure as\n",
            "the most certain sure,\n",
            "\n",
            "\n",
            "===== Final Results Summary =====\n",
            "\n",
            "Model | Perplexity | Accuracy\n",
            "----- | ---------- | --------\n",
            "RNN_OHE | 2.68 | 0.7816\n",
            "RNN_EMB | 2.72 | 0.7899\n",
            "LSTM_OHE | 2.58 | 0.7914\n",
            "LSTM_EMB | 2.44 | 0.8036\n",
            "GRU_OHE | 2.56 | 0.7914\n",
            "GRU_EMB | 2.37 | 0.8095\n"
          ]
        },
        {
          "output_type": "execute_result",
          "data": {
            "text/plain": [
              "'Love Is so.\\nsure as\\nthe most certain sure,'"
            ],
            "application/vnd.google.colaboratory.intrinsic+json": {
              "type": "string"
            }
          },
          "metadata": {},
          "execution_count": 36
        },
        {
          "output_type": "display_data",
          "data": {
            "text/plain": [
              "<Figure size 1500x500 with 3 Axes>"
            ],
            "image/png": "[encoded data removed]"
          },
          "metadata": {}
        }
      ]
    },
    {
      "cell_type": "code",
      "source": [],
      "metadata": {
        "id": "z2cAr7ikDgkx"
      },
      "execution_count": null,
      "outputs": []
    }
  ]
}